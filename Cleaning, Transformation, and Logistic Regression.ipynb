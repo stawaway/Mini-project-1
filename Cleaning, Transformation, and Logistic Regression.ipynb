{
 "cells": [
  {
   "cell_type": "code",
   "execution_count": 20,
   "metadata": {
    "collapsed": false
   },
   "outputs": [],
   "source": [
    "import sys\n",
    "sys.version_info\n",
    "%matplotlib inline\n",
    "import matplotlib.pyplot as plt\n",
    "import numpy as np\n",
    "import pandas as pd \n",
    "import time\n",
    "import random"
   ]
  },
  {
   "cell_type": "code",
   "execution_count": 21,
   "metadata": {
    "collapsed": false
   },
   "outputs": [],
   "source": [
    "pd.set_option('display.max_columns', None)"
   ]
  },
  {
   "cell_type": "markdown",
   "metadata": {},
   "source": [
    "## First: load in our data and do some basic analysis to look for problems"
   ]
  },
  {
   "cell_type": "code",
   "execution_count": 22,
   "metadata": {
    "collapsed": false
   },
   "outputs": [
    {
     "data": {
      "text/html": [
       "<div>\n",
       "<table border=\"1\" class=\"dataframe\">\n",
       "  <thead>\n",
       "    <tr style=\"text-align: right;\">\n",
       "      <th></th>\n",
       "      <th>Id</th>\n",
       "      <th>Name</th>\n",
       "      <th>Age Category</th>\n",
       "      <th>Sex</th>\n",
       "      <th>Rank</th>\n",
       "      <th>Time</th>\n",
       "      <th>Pace</th>\n",
       "      <th>Year</th>\n",
       "    </tr>\n",
       "  </thead>\n",
       "  <tbody>\n",
       "    <tr>\n",
       "      <th>0</th>\n",
       "      <td>1</td>\n",
       "      <td>carlos enrique portugal quintero</td>\n",
       "      <td>30</td>\n",
       "      <td>M</td>\n",
       "      <td>1263</td>\n",
       "      <td>04:15:00</td>\n",
       "      <td>09:44</td>\n",
       "      <td>2016</td>\n",
       "    </tr>\n",
       "    <tr>\n",
       "      <th>1</th>\n",
       "      <td>2</td>\n",
       "      <td>leonel furlan</td>\n",
       "      <td>60</td>\n",
       "      <td>M</td>\n",
       "      <td>2289</td>\n",
       "      <td>05:05:42</td>\n",
       "      <td>11:41</td>\n",
       "      <td>2016</td>\n",
       "    </tr>\n",
       "    <tr>\n",
       "      <th>2</th>\n",
       "      <td>3</td>\n",
       "      <td>meredith gray</td>\n",
       "      <td>30</td>\n",
       "      <td>F</td>\n",
       "      <td>2276</td>\n",
       "      <td>05:04:34</td>\n",
       "      <td>11:38</td>\n",
       "      <td>2016</td>\n",
       "    </tr>\n",
       "    <tr>\n",
       "      <th>3</th>\n",
       "      <td>4</td>\n",
       "      <td>jason ainspan</td>\n",
       "      <td>35</td>\n",
       "      <td>M</td>\n",
       "      <td>670</td>\n",
       "      <td>03:52:57</td>\n",
       "      <td>08:53</td>\n",
       "      <td>2015</td>\n",
       "    </tr>\n",
       "    <tr>\n",
       "      <th>4</th>\n",
       "      <td>4</td>\n",
       "      <td>jason ainspan</td>\n",
       "      <td>35</td>\n",
       "      <td>M</td>\n",
       "      <td>2390</td>\n",
       "      <td>05:13:30</td>\n",
       "      <td>11:58</td>\n",
       "      <td>2016</td>\n",
       "    </tr>\n",
       "  </tbody>\n",
       "</table>\n",
       "</div>"
      ],
      "text/plain": [
       "   Id                              Name  Age Category Sex  Rank     Time  \\\n",
       "0   1  carlos enrique portugal quintero            30   M  1263 04:15:00   \n",
       "1   2                     leonel furlan            60   M  2289 05:05:42   \n",
       "2   3                     meredith gray            30   F  2276 05:04:34   \n",
       "3   4                     jason ainspan            35   M   670 03:52:57   \n",
       "4   4                     jason ainspan            35   M  2390 05:13:30   \n",
       "\n",
       "    Pace  Year  \n",
       "0  09:44  2016  \n",
       "1  11:41  2016  \n",
       "2  11:38  2016  \n",
       "3  08:53  2015  \n",
       "4  11:58  2016  "
      ]
     },
     "execution_count": 22,
     "metadata": {},
     "output_type": "execute_result"
    }
   ],
   "source": [
    "#read in the data\n",
    "marathon_data = pd.read_csv(\"data.csv\")\n",
    "marathon_data = marathon_data.dropna()\n",
    "marathon_data['Time'] = pd.to_timedelta(marathon_data['Time'])\n",
    "marathon_data.head()"
   ]
  },
  {
   "cell_type": "code",
   "execution_count": 23,
   "metadata": {
    "collapsed": false
   },
   "outputs": [
    {
     "data": {
      "text/plain": [
       "Id\n",
       "3327    347\n",
       "1640     13\n",
       "dtype: int64"
      ]
     },
     "execution_count": 23,
     "metadata": {},
     "output_type": "execute_result"
    }
   ],
   "source": [
    "marathon_data.groupby(\"Id\").size().sort_values(ascending = False).head(2)\n",
    "#Clearly we have a problem with this ID\n",
    "#marathon_data[marathon_data[\"Id\"] == 3327]"
   ]
  },
  {
   "cell_type": "code",
   "execution_count": 24,
   "metadata": {
    "collapsed": false
   },
   "outputs": [
    {
     "data": {
      "text/plain": [
       "<matplotlib.axes._subplots.AxesSubplot at 0x11a3d6518>"
      ]
     },
     "execution_count": 24,
     "metadata": {},
     "output_type": "execute_result"
    },
    {
     "data": {
      "image/png": "[encoded data removed]",
      "text/plain": [
       "<matplotlib.figure.Figure at 0x114d7b438>"
      ]
     },
     "metadata": {},
     "output_type": "display_data"
    }
   ],
   "source": [
    "marathon_data[\"Age Category\"].hist(bins = 100)"
   ]
  },
  {
   "cell_type": "code",
   "execution_count": 25,
   "metadata": {
    "collapsed": false
   },
   "outputs": [
    {
     "data": {
      "text/plain": [
       "Year\n",
       "2003    1455\n",
       "2004    1770\n",
       "2005    1761\n",
       "2006    2463\n",
       "2007    2537\n",
       "2008    2633\n",
       "2009    2765\n",
       "2010    2880\n",
       "2011    3537\n",
       "2012    3912\n",
       "2013    3782\n",
       "2014    3541\n",
       "2015    2752\n",
       "2016    3016\n",
       "dtype: int64"
      ]
     },
     "execution_count": 25,
     "metadata": {},
     "output_type": "execute_result"
    }
   ],
   "source": [
    "marathon_data.groupby(\"Year\").size()"
   ]
  },
  {
   "cell_type": "code",
   "execution_count": 26,
   "metadata": {
    "collapsed": false
   },
   "outputs": [
    {
     "data": {
      "text/plain": [
       "31"
      ]
     },
     "execution_count": 26,
     "metadata": {},
     "output_type": "execute_result"
    }
   ],
   "source": [
    "sum(np.where(marathon_data.groupby(\"Year\").get_group(2013).groupby(\"Name\").size() > 1, 1,0))"
   ]
  },
  {
   "cell_type": "code",
   "execution_count": 27,
   "metadata": {
    "collapsed": false
   },
   "outputs": [
    {
     "name": "stdout",
     "output_type": "stream",
     "text": [
      "2016 0 days 04:32:55.103116 9.67006501192e+24\n",
      "6\n",
      "2003 0 days 04:18:00.990378 8.18779093801e+24\n",
      "2\n",
      "2004 0 days 04:28:34.934463 8.30994055534e+24\n",
      "4\n",
      "2005 0 days 04:25:55.415105 9.27648910998e+24\n",
      "5\n",
      "2006 0 days 04:37:25.943564 1.1672408613e+25\n",
      "5\n",
      "2007 0 days 04:43:34.228222 1.09763685603e+25\n",
      "9\n",
      "2008 0 days 04:28:04.394986 8.08759365244e+24\n",
      "6\n",
      "2009 0 days 04:29:01.636166 8.61337524601e+24\n",
      "5\n",
      "2010 0 days 04:36:43.382291 8.63934445992e+24\n",
      "7\n",
      "2011 0 days 04:27:12.712468 8.18099172641e+24\n",
      "12\n",
      "2012 0 days 04:35:52.052658 8.50791826672e+24\n",
      "18\n",
      "2013 0 days 01:51:27.648069 3.48945714515e+23\n",
      "31\n",
      "2014 0 days 04:43:50.870375 8.72552921511e+24\n",
      "18\n",
      "2015 0 days 04:30:48.480377 9.10367929878e+24\n",
      "6\n"
     ]
    }
   ],
   "source": [
    "for yr in marathon_data.groupby('Year').groups: \n",
    "    print(yr, str(marathon_data.groupby('Year').get_group(yr)['Time'].mean()), str(marathon_data.groupby('Year').get_group(yr)['Time'].var()))\n",
    "    print(sum(np.where(marathon_data.groupby(\"Year\").get_group(yr).groupby(\"Name\").size() > 1, 1,0)))\n",
    "    #here, we are trying to figure out which year was the half marathon (2013)\n",
    "#Let's drop that year\n",
    "#marathon_data = marathon_data[marathon_data.Year != 2013]\n",
    "#marathon_data.Year.value_counts()"
   ]
  },
  {
   "cell_type": "code",
   "execution_count": 28,
   "metadata": {
    "collapsed": false
   },
   "outputs": [
    {
     "data": {
      "text/plain": [
       "Timedelta('0 days 02:04:02')"
      ]
     },
     "execution_count": 28,
     "metadata": {},
     "output_type": "execute_result"
    }
   ],
   "source": [
    "marathon_data.groupby(\"Year\").get_group(2013)[\"Time\"].max()"
   ]
  },
  {
   "cell_type": "code",
   "execution_count": 29,
   "metadata": {
    "collapsed": false
   },
   "outputs": [
    {
     "data": {
      "text/plain": [
       "Timedelta('0 days 01:05:44')"
      ]
     },
     "execution_count": 29,
     "metadata": {},
     "output_type": "execute_result"
    }
   ],
   "source": [
    "marathon_data.groupby(\"Year\").get_group(2013)[\"Time\"].min() "
   ]
  },
  {
   "cell_type": "code",
   "execution_count": 30,
   "metadata": {
    "collapsed": false
   },
   "outputs": [
    {
     "data": {
      "text/plain": [
       "count                      3782\n",
       "mean     0 days 01:51:27.648069\n",
       "std      0 days 00:09:50.716272\n",
       "min             0 days 01:05:44\n",
       "25%      0 days 01:45:45.250000\n",
       "50%             0 days 01:53:43\n",
       "75%             0 days 01:59:20\n",
       "max             0 days 02:04:02\n",
       "Name: Time, dtype: object"
      ]
     },
     "execution_count": 30,
     "metadata": {},
     "output_type": "execute_result"
    }
   ],
   "source": [
    "marathon_data.groupby(\"Year\").get_group(2013)[\"Time\"].describe()"
   ]
  },
  {
   "cell_type": "code",
   "execution_count": 31,
   "metadata": {
    "collapsed": false
   },
   "outputs": [
    {
     "data": {
      "text/plain": [
       "2.450648476425932"
      ]
     },
     "execution_count": 31,
     "metadata": {},
     "output_type": "execute_result"
    }
   ],
   "source": [
    "  marathon_data[marathon_data[\"Year\"] != 2013].Time.mean() / marathon_data.groupby(\"Year\").get_group(2013)[\"Time\"].mean()"
   ]
  },
  {
   "cell_type": "code",
   "execution_count": 32,
   "metadata": {
    "collapsed": false
   },
   "outputs": [
    {
     "data": {
      "text/plain": [
       "<matplotlib.axes._subplots.AxesSubplot at 0x11a360860>"
      ]
     },
     "execution_count": 32,
     "metadata": {},
     "output_type": "execute_result"
    },
    {
     "data": {
      "image/png": "[encoded data removed]",
      "text/plain": [
       "<matplotlib.figure.Figure at 0x1193db908>"
      ]
     },
     "metadata": {},
     "output_type": "display_data"
    }
   ],
   "source": [
    "(marathon_data[marathon_data[\"Year\"] != 2013][\"Time\"] / pd.Timedelta(minutes = 1)).hist()\n",
    "#Histogram of the finishing times for all years except 2013, in minutes"
   ]
  },
  {
   "cell_type": "code",
   "execution_count": 33,
   "metadata": {
    "collapsed": false
   },
   "outputs": [
    {
     "data": {
      "text/plain": [
       "<matplotlib.axes._subplots.AxesSubplot at 0x115551a20>"
      ]
     },
     "execution_count": 33,
     "metadata": {},
     "output_type": "execute_result"
    },
    {
     "data": {
      "image/png": "[encoded data removed]",
      "text/plain": [
       "<matplotlib.figure.Figure at 0x11a39d860>"
      ]
     },
     "metadata": {},
     "output_type": "display_data"
    }
   ],
   "source": [
    "(marathon_data.groupby(\"Year\").get_group(2013)[\"Time\"] / pd.Timedelta(minutes = 1)).hist()\n",
    "#Histogram of the finishing times for 2013, in minutes"
   ]
  },
  {
   "cell_type": "code",
   "execution_count": 34,
   "metadata": {
    "collapsed": false
   },
   "outputs": [],
   "source": [
    "##Do we want to remove the entries without valid name?\n",
    "\n",
    "#marathon_data.Name.value_counts().sort_values().tail()\n",
    "#Note: we see that some of the participants have the name set to private. we should probably drop these \n",
    "#marathon_data = marathon_data[marathon_data.Name != \"private\"]\n",
    "#marathon_data.Name.value_counts().sort_values().tail()\n",
    "#marathon_data = marathon_data[marathon_data.Name.str.contains(\"#\") == False]\n",
    "#get rid of one garbage name"
   ]
  },
  {
   "cell_type": "code",
   "execution_count": 35,
   "metadata": {
    "collapsed": false
   },
   "outputs": [
    {
     "data": {
      "text/html": [
       "<div>\n",
       "<table border=\"1\" class=\"dataframe\">\n",
       "  <thead>\n",
       "    <tr style=\"text-align: right;\">\n",
       "      <th></th>\n",
       "      <th>Id</th>\n",
       "      <th>Name</th>\n",
       "      <th>Age Category</th>\n",
       "      <th>Sex</th>\n",
       "      <th>Rank</th>\n",
       "      <th>Time</th>\n",
       "      <th>Pace</th>\n",
       "      <th>Year</th>\n",
       "    </tr>\n",
       "  </thead>\n",
       "  <tbody>\n",
       "    <tr>\n",
       "      <th>33820</th>\n",
       "      <td>25606</td>\n",
       "      <td>robert mbithi</td>\n",
       "      <td>23</td>\n",
       "      <td>M</td>\n",
       "      <td>1</td>\n",
       "      <td>01:05:44</td>\n",
       "      <td>05:01</td>\n",
       "      <td>2013</td>\n",
       "    </tr>\n",
       "    <tr>\n",
       "      <th>31834</th>\n",
       "      <td>23730</td>\n",
       "      <td>danilo briceno</td>\n",
       "      <td>31</td>\n",
       "      <td>M</td>\n",
       "      <td>2</td>\n",
       "      <td>01:10:41</td>\n",
       "      <td>05:23</td>\n",
       "      <td>2013</td>\n",
       "    </tr>\n",
       "    <tr>\n",
       "      <th>30990</th>\n",
       "      <td>22939</td>\n",
       "      <td>fornes jose</td>\n",
       "      <td>27</td>\n",
       "      <td>M</td>\n",
       "      <td>3</td>\n",
       "      <td>01:10:57</td>\n",
       "      <td>05:24</td>\n",
       "      <td>2013</td>\n",
       "    </tr>\n",
       "    <tr>\n",
       "      <th>31504</th>\n",
       "      <td>23420</td>\n",
       "      <td>leo kormanik ii</td>\n",
       "      <td>30</td>\n",
       "      <td>M</td>\n",
       "      <td>3</td>\n",
       "      <td>01:10:57</td>\n",
       "      <td>05:24</td>\n",
       "      <td>2013</td>\n",
       "    </tr>\n",
       "    <tr>\n",
       "      <th>32479</th>\n",
       "      <td>24335</td>\n",
       "      <td>mauricio cruz</td>\n",
       "      <td>17</td>\n",
       "      <td>M</td>\n",
       "      <td>5</td>\n",
       "      <td>01:11:37</td>\n",
       "      <td>05:28</td>\n",
       "      <td>2013</td>\n",
       "    </tr>\n",
       "  </tbody>\n",
       "</table>\n",
       "</div>"
      ],
      "text/plain": [
       "          Id             Name  Age Category Sex  Rank     Time   Pace  Year\n",
       "33820  25606    robert mbithi            23   M     1 01:05:44  05:01  2013\n",
       "31834  23730   danilo briceno            31   M     2 01:10:41  05:23  2013\n",
       "30990  22939      fornes jose            27   M     3 01:10:57  05:24  2013\n",
       "31504  23420  leo kormanik ii            30   M     3 01:10:57  05:24  2013\n",
       "32479  24335    mauricio cruz            17   M     5 01:11:37  05:28  2013"
      ]
     },
     "execution_count": 35,
     "metadata": {},
     "output_type": "execute_result"
    }
   ],
   "source": [
    "marathon_data.sort_values('Time').head()\n",
    "#This looks good (all the very low times are winners of the race, or close to it)"
   ]
  },
  {
   "cell_type": "code",
   "execution_count": 36,
   "metadata": {
    "collapsed": false
   },
   "outputs": [
    {
     "data": {
      "text/plain": [
       "Name\n",
       "private            347\n",
       "paul schoenlaub     13\n",
       "dtype: int64"
      ]
     },
     "execution_count": 36,
     "metadata": {},
     "output_type": "execute_result"
    }
   ],
   "source": [
    "marathon_data.groupby('Name').size().sort_values(ascending = False).head(2)\n",
    "#This is reasonable, we se that some people participated in the marathon each year that it occured"
   ]
  },
  {
   "cell_type": "code",
   "execution_count": 37,
   "metadata": {
    "collapsed": false
   },
   "outputs": [
    {
     "data": {
      "text/plain": [
       "Id\n",
       "3327    347\n",
       "1640     13\n",
       "dtype: int64"
      ]
     },
     "execution_count": 37,
     "metadata": {},
     "output_type": "execute_result"
    }
   ],
   "source": [
    "marathon_data.groupby(\"Id\").size().sort_values(ascending = False).head(2)"
   ]
  },
  {
   "cell_type": "markdown",
   "metadata": {},
   "source": [
    "## Now, we have clean data but need to extract the features for our models"
   ]
  },
  {
   "cell_type": "code",
   "execution_count": 86,
   "metadata": {
    "collapsed": false
   },
   "outputs": [
    {
     "name": "stdout",
     "output_type": "stream",
     "text": [
      "Number attending in 2016 who also attended in other years = 793\n",
      "Number attending in 2003 who also attended in other years = 502\n",
      "Number attending in 2004 who also attended in other years = 679\n",
      "Number attending in 2005 who also attended in other years = 692\n",
      "Number attending in 2006 who also attended in other years = 780\n",
      "Number attending in 2007 who also attended in other years = 850\n",
      "Number attending in 2008 who also attended in other years = 864\n",
      "Number attending in 2009 who also attended in other years = 1021\n",
      "Number attending in 2010 who also attended in other years = 1093\n",
      "Number attending in 2011 who also attended in other years = 1232\n",
      "Number attending in 2012 who also attended in other years = 1254\n",
      "Number attending in 2013 who also attended in other years = 752\n",
      "Number attending in 2014 who also attended in other years = 1085\n",
      "Number attending in 2015 who also attended in other years = 882\n"
     ]
    }
   ],
   "source": [
    "data_pivot = pd.pivot_table(marathon_data, index = [\"Id\"], columns = \"Year\", values = [\"Rank\",\"Age Category\", \"Time\"], aggfunc= \"first\")\n",
    "\n",
    "data_pivot[\"Num Marathons\"] = data_pivot.apply(lambda x: x.iloc[0:14].count() , axis = 1)\n",
    "for yr in marathon_data.groupby('Year').groups:\n",
    "    print(\"Number attending in \" + str(yr) + \" who also attended in other years = \" + str(sum(data_pivot.loc[np.invert(pd.isnull(data_pivot[\"Rank\"][yr]))][\"Num Marathons\"].apply(lambda x: 1 if x > 1 else 0))))"
   ]
  },
  {
   "cell_type": "code",
   "execution_count": 88,
   "metadata": {
    "collapsed": false
   },
   "outputs": [
    {
     "data": {
      "text/html": [
       "<div>\n",
       "<table border=\"1\" class=\"dataframe\">\n",
       "  <thead>\n",
       "    <tr>\n",
       "      <th></th>\n",
       "      <th colspan=\"14\" halign=\"left\">Rank</th>\n",
       "      <th colspan=\"14\" halign=\"left\">Age Category</th>\n",
       "      <th colspan=\"14\" halign=\"left\">Time</th>\n",
       "      <th>Num Marathons</th>\n",
       "    </tr>\n",
       "    <tr>\n",
       "      <th>Year</th>\n",
       "      <th>2003</th>\n",
       "      <th>2004</th>\n",
       "      <th>2005</th>\n",
       "      <th>2006</th>\n",
       "      <th>2007</th>\n",
       "      <th>2008</th>\n",
       "      <th>2009</th>\n",
       "      <th>2010</th>\n",
       "      <th>2011</th>\n",
       "      <th>2012</th>\n",
       "      <th>2013</th>\n",
       "      <th>2014</th>\n",
       "      <th>2015</th>\n",
       "      <th>2016</th>\n",
       "      <th>2003</th>\n",
       "      <th>2004</th>\n",
       "      <th>2005</th>\n",
       "      <th>2006</th>\n",
       "      <th>2007</th>\n",
       "      <th>2008</th>\n",
       "      <th>2009</th>\n",
       "      <th>2010</th>\n",
       "      <th>2011</th>\n",
       "      <th>2012</th>\n",
       "      <th>2013</th>\n",
       "      <th>2014</th>\n",
       "      <th>2015</th>\n",
       "      <th>2016</th>\n",
       "      <th>2003</th>\n",
       "      <th>2004</th>\n",
       "      <th>2005</th>\n",
       "      <th>2006</th>\n",
       "      <th>2007</th>\n",
       "      <th>2008</th>\n",
       "      <th>2009</th>\n",
       "      <th>2010</th>\n",
       "      <th>2011</th>\n",
       "      <th>2012</th>\n",
       "      <th>2013</th>\n",
       "      <th>2014</th>\n",
       "      <th>2015</th>\n",
       "      <th>2016</th>\n",
       "      <th></th>\n",
       "    </tr>\n",
       "    <tr>\n",
       "      <th>Id</th>\n",
       "      <th></th>\n",
       "      <th></th>\n",
       "      <th></th>\n",
       "      <th></th>\n",
       "      <th></th>\n",
       "      <th></th>\n",
       "      <th></th>\n",
       "      <th></th>\n",
       "      <th></th>\n",
       "      <th></th>\n",
       "      <th></th>\n",
       "      <th></th>\n",
       "      <th></th>\n",
       "      <th></th>\n",
       "      <th></th>\n",
       "      <th></th>\n",
       "      <th></th>\n",
       "      <th></th>\n",
       "      <th></th>\n",
       "      <th></th>\n",
       "      <th></th>\n",
       "      <th></th>\n",
       "      <th></th>\n",
       "      <th></th>\n",
       "      <th></th>\n",
       "      <th></th>\n",
       "      <th></th>\n",
       "      <th></th>\n",
       "      <th></th>\n",
       "      <th></th>\n",
       "      <th></th>\n",
       "      <th></th>\n",
       "      <th></th>\n",
       "      <th></th>\n",
       "      <th></th>\n",
       "      <th></th>\n",
       "      <th></th>\n",
       "      <th></th>\n",
       "      <th></th>\n",
       "      <th></th>\n",
       "      <th></th>\n",
       "      <th></th>\n",
       "      <th></th>\n",
       "    </tr>\n",
       "  </thead>\n",
       "  <tbody>\n",
       "    <tr>\n",
       "      <th>1</th>\n",
       "      <td>None</td>\n",
       "      <td>None</td>\n",
       "      <td>None</td>\n",
       "      <td>None</td>\n",
       "      <td>None</td>\n",
       "      <td>None</td>\n",
       "      <td>None</td>\n",
       "      <td>None</td>\n",
       "      <td>None</td>\n",
       "      <td>None</td>\n",
       "      <td>None</td>\n",
       "      <td>None</td>\n",
       "      <td>None</td>\n",
       "      <td>1263</td>\n",
       "      <td>None</td>\n",
       "      <td>None</td>\n",
       "      <td>None</td>\n",
       "      <td>None</td>\n",
       "      <td>None</td>\n",
       "      <td>None</td>\n",
       "      <td>None</td>\n",
       "      <td>None</td>\n",
       "      <td>None</td>\n",
       "      <td>None</td>\n",
       "      <td>None</td>\n",
       "      <td>None</td>\n",
       "      <td>None</td>\n",
       "      <td>30</td>\n",
       "      <td>None</td>\n",
       "      <td>None</td>\n",
       "      <td>None</td>\n",
       "      <td>None</td>\n",
       "      <td>None</td>\n",
       "      <td>None</td>\n",
       "      <td>None</td>\n",
       "      <td>None</td>\n",
       "      <td>None</td>\n",
       "      <td>None</td>\n",
       "      <td>None</td>\n",
       "      <td>None</td>\n",
       "      <td>None</td>\n",
       "      <td>0 days 04:15:00</td>\n",
       "      <td>1</td>\n",
       "    </tr>\n",
       "    <tr>\n",
       "      <th>2</th>\n",
       "      <td>None</td>\n",
       "      <td>None</td>\n",
       "      <td>None</td>\n",
       "      <td>None</td>\n",
       "      <td>None</td>\n",
       "      <td>None</td>\n",
       "      <td>None</td>\n",
       "      <td>None</td>\n",
       "      <td>None</td>\n",
       "      <td>None</td>\n",
       "      <td>None</td>\n",
       "      <td>None</td>\n",
       "      <td>None</td>\n",
       "      <td>2289</td>\n",
       "      <td>None</td>\n",
       "      <td>None</td>\n",
       "      <td>None</td>\n",
       "      <td>None</td>\n",
       "      <td>None</td>\n",
       "      <td>None</td>\n",
       "      <td>None</td>\n",
       "      <td>None</td>\n",
       "      <td>None</td>\n",
       "      <td>None</td>\n",
       "      <td>None</td>\n",
       "      <td>None</td>\n",
       "      <td>None</td>\n",
       "      <td>60</td>\n",
       "      <td>None</td>\n",
       "      <td>None</td>\n",
       "      <td>None</td>\n",
       "      <td>None</td>\n",
       "      <td>None</td>\n",
       "      <td>None</td>\n",
       "      <td>None</td>\n",
       "      <td>None</td>\n",
       "      <td>None</td>\n",
       "      <td>None</td>\n",
       "      <td>None</td>\n",
       "      <td>None</td>\n",
       "      <td>None</td>\n",
       "      <td>0 days 05:05:42</td>\n",
       "      <td>1</td>\n",
       "    </tr>\n",
       "  </tbody>\n",
       "</table>\n",
       "</div>"
      ],
      "text/plain": [
       "      Rank                                                                    \\\n",
       "Year  2003  2004  2005  2006  2007  2008  2009  2010  2011  2012  2013  2014   \n",
       "Id                                                                             \n",
       "1     None  None  None  None  None  None  None  None  None  None  None  None   \n",
       "2     None  None  None  None  None  None  None  None  None  None  None  None   \n",
       "\n",
       "                 Age Category                                                  \\\n",
       "Year  2015  2016         2003  2004  2005  2006  2007  2008  2009  2010  2011   \n",
       "Id                                                                              \n",
       "1     None  1263         None  None  None  None  None  None  None  None  None   \n",
       "2     None  2289         None  None  None  None  None  None  None  None  None   \n",
       "\n",
       "                                   Time                                      \\\n",
       "Year  2012  2013  2014  2015 2016  2003  2004  2005  2006  2007  2008  2009   \n",
       "Id                                                                            \n",
       "1     None  None  None  None   30  None  None  None  None  None  None  None   \n",
       "2     None  None  None  None   60  None  None  None  None  None  None  None   \n",
       "\n",
       "                                                          Num Marathons  \n",
       "Year  2010  2011  2012  2013  2014  2015             2016                \n",
       "Id                                                                       \n",
       "1     None  None  None  None  None  None  0 days 04:15:00             1  \n",
       "2     None  None  None  None  None  None  0 days 05:05:42             1  "
      ]
     },
     "execution_count": 88,
     "metadata": {},
     "output_type": "execute_result"
    }
   ],
   "source": [
    "data_pivot.head(2)"
   ]
  },
  {
   "cell_type": "code",
   "execution_count": 109,
   "metadata": {
    "collapsed": false
   },
   "outputs": [
    {
     "data": {
      "text/plain": [
       "      Year\n",
       "Rank  2003    None\n",
       "      2004    None\n",
       "      2005    None\n",
       "      2006    None\n",
       "      2007    None\n",
       "      2008    None\n",
       "      2009    None\n",
       "      2010    None\n",
       "      2011    None\n",
       "      2012    None\n",
       "      2013    None\n",
       "      2014    None\n",
       "Name: 1, dtype: object"
      ]
     },
     "execution_count": 109,
     "metadata": {},
     "output_type": "execute_result"
    }
   ],
   "source": [
    "data_pivot.iloc[0].iloc[0:(12)]"
   ]
  },
  {
   "cell_type": "code",
   "execution_count": 110,
   "metadata": {
    "collapsed": false,
    "scrolled": true
   },
   "outputs": [],
   "source": [
    "data_pivot = pd.pivot_table(marathon_data, index = [\"Id\"], columns = \"Year\", values = [\"Rank\",\"Age Category\", \"Time\"], aggfunc= \"first\")\n",
    "\n",
    "def create_frame(last_year):\n",
    "    start = time.time()\n",
    "    \n",
    "    #This is the function to create a frame with the relavant features for each runner, given a year\n",
    "    #The basic process is we create a pandas pivot table to help us, then we iterate over this pivot table (mostly using apply)\n",
    "    #to create a new pandas dataframe (new_frame) that contains all relavent features \n",
    "    \n",
    "    #the year we input (last_year) is the last year that we look at (1 year back from current)\n",
    "    #IE, if we are looking to train a model to predict for 2017, we would give 2015 as the last_year, and the features would include all years up to 2015\n",
    "    #Then, to predict for 2017 we input 2016 to include features\n",
    "    \n",
    "    new_frame = pd.DataFrame(data = {\"Id\": marathon_data.Id, \"Sex\": marathon_data.Sex})\n",
    "    new_frame = new_frame.drop_duplicates(\"Id\")\n",
    "    new_frame[\"Sex\"] = pd.get_dummies(new_frame[\"Sex\"])\n",
    "    #1 is male, 0 is female\n",
    "    \n",
    "    new_frame.index = new_frame.Id\n",
    "    \n",
    "    #helper functions\n",
    "    def lastfilled(row):\n",
    "        key = last_year\n",
    "        while pd.isnull(row.loc[key]): \n",
    "            key = key-1\n",
    "            #if (key == 2013):\n",
    "            #    key = key - 1\n",
    "            if (key < 2003): \n",
    "                return None \n",
    "        return (last_year - key + 1)\n",
    "        \n",
    "    def valuelast(row):\n",
    "        key = last_year\n",
    "        while pd.isnull(row.loc[key]): \n",
    "            key = key - 1\n",
    "            #if (key == 2013):\n",
    "            #    key = key - 1\n",
    "            if (key < 2003): \n",
    "                return None\n",
    "        return row.loc[key]\n",
    "    \n",
    "    for i in range(0,(last_year - 2002)):\n",
    "        #Here we iterate over the relavent columns in order to get the dummies for participation\n",
    "        #Each column will be a boolean variable, with a 1 if the runner participated that year, and a 0 otherwise\n",
    "        #the output is expressed in terms of lags: IE, Lag_1 is one year ago, Lag_4 is 4 years ago...\n",
    "        new_frame[\"_\".join((\"Lag\",str(i + 1)))] = pd.isnull(data_pivot[\"Rank\"]).iloc[:,(last_year - 2003 - i)].apply(lambda x: 0 if x else 1)\n",
    "\n",
    "    new_frame[\"Num Marathons\"] = data_pivot.apply(lambda x: x.iloc[0:(last_year - 2002)].count() , axis = 1)\n",
    "    #number of marathons ran\n",
    "    new_frame[\"Years Since Last\"] = data_pivot.apply(lambda x: lastfilled(x[\"Rank\"]), axis = 1)\n",
    "    #years since last ra \n",
    "    new_frame[\"Time of Last\"] = data_pivot.apply(lambda x: valuelast(x[\"Time\"]), axis = 1)\n",
    "    #time of the last marathon they competed in \n",
    "    new_frame[\"Age Last\"] = data_pivot.apply(lambda x: valuelast(x[\"Age Category\"]), axis = 1)\n",
    "    #NOTE: these apply functions are very time-costly. It takes around 60seconds to run this function fully\n",
    "    #It would be possible to optimize this, but I am not sure if it is worth my time\n",
    "    \n",
    "    #Normalization on the time column \n",
    "    new_frame[\"Time of Last\"] = (new_frame[\"Time of Last\"] - new_frame[\"Time of Last\"].min()) / (new_frame[\"Time of Last\"].max() - new_frame[\"Time of Last\"].min())\n",
    "    new_frame[\"Age Last\"] = (new_frame[\"Age Last\"] - new_frame[\"Age Last\"].min()) / (new_frame[\"Age Last\"].max() - new_frame[\"Age Last\"].min())\n",
    "    \n",
    "    new_frame[\"Dummy\"] = np.ones(len(new_frame))\n",
    "    \n",
    "    del new_frame[\"Id\"]\n",
    "    \n",
    "    print(time.time() - start)\n",
    "    return new_frame"
   ]
  },
  {
   "cell_type": "code",
   "execution_count": 111,
   "metadata": {
    "collapsed": false
   },
   "outputs": [
    {
     "name": "stdout",
     "output_type": "stream",
     "text": [
      "63.303378105163574\n"
     ]
    }
   ],
   "source": [
    "my_frame = create_frame(2015)"
   ]
  },
  {
   "cell_type": "code",
   "execution_count": 114,
   "metadata": {
    "collapsed": false
   },
   "outputs": [
    {
     "data": {
      "text/html": [
       "<div>\n",
       "<table border=\"1\" class=\"dataframe\">\n",
       "  <thead>\n",
       "    <tr style=\"text-align: right;\">\n",
       "      <th></th>\n",
       "      <th>Sex</th>\n",
       "      <th>Lag_1</th>\n",
       "      <th>Lag_2</th>\n",
       "      <th>Lag_3</th>\n",
       "      <th>Lag_4</th>\n",
       "      <th>Lag_5</th>\n",
       "      <th>Lag_6</th>\n",
       "      <th>Lag_7</th>\n",
       "      <th>Lag_8</th>\n",
       "      <th>Lag_9</th>\n",
       "      <th>Lag_10</th>\n",
       "      <th>Lag_11</th>\n",
       "      <th>Lag_12</th>\n",
       "      <th>Lag_13</th>\n",
       "      <th>Num Marathons</th>\n",
       "      <th>Years Since Last</th>\n",
       "      <th>Time of Last</th>\n",
       "      <th>Age Last</th>\n",
       "      <th>Dummy</th>\n",
       "    </tr>\n",
       "    <tr>\n",
       "      <th>Id</th>\n",
       "      <th></th>\n",
       "      <th></th>\n",
       "      <th></th>\n",
       "      <th></th>\n",
       "      <th></th>\n",
       "      <th></th>\n",
       "      <th></th>\n",
       "      <th></th>\n",
       "      <th></th>\n",
       "      <th></th>\n",
       "      <th></th>\n",
       "      <th></th>\n",
       "      <th></th>\n",
       "      <th></th>\n",
       "      <th></th>\n",
       "      <th></th>\n",
       "      <th></th>\n",
       "      <th></th>\n",
       "      <th></th>\n",
       "    </tr>\n",
       "  </thead>\n",
       "  <tbody>\n",
       "    <tr>\n",
       "      <th>1</th>\n",
       "      <td>0.0</td>\n",
       "      <td>0</td>\n",
       "      <td>0</td>\n",
       "      <td>0</td>\n",
       "      <td>0</td>\n",
       "      <td>0</td>\n",
       "      <td>0</td>\n",
       "      <td>0</td>\n",
       "      <td>0</td>\n",
       "      <td>0</td>\n",
       "      <td>0</td>\n",
       "      <td>0</td>\n",
       "      <td>0</td>\n",
       "      <td>0</td>\n",
       "      <td>0</td>\n",
       "      <td>NaN</td>\n",
       "      <td>NaN</td>\n",
       "      <td>NaN</td>\n",
       "      <td>1.0</td>\n",
       "    </tr>\n",
       "    <tr>\n",
       "      <th>2</th>\n",
       "      <td>0.0</td>\n",
       "      <td>0</td>\n",
       "      <td>0</td>\n",
       "      <td>0</td>\n",
       "      <td>0</td>\n",
       "      <td>0</td>\n",
       "      <td>0</td>\n",
       "      <td>0</td>\n",
       "      <td>0</td>\n",
       "      <td>0</td>\n",
       "      <td>0</td>\n",
       "      <td>0</td>\n",
       "      <td>0</td>\n",
       "      <td>0</td>\n",
       "      <td>0</td>\n",
       "      <td>NaN</td>\n",
       "      <td>NaN</td>\n",
       "      <td>NaN</td>\n",
       "      <td>1.0</td>\n",
       "    </tr>\n",
       "    <tr>\n",
       "      <th>3</th>\n",
       "      <td>1.0</td>\n",
       "      <td>0</td>\n",
       "      <td>0</td>\n",
       "      <td>0</td>\n",
       "      <td>0</td>\n",
       "      <td>0</td>\n",
       "      <td>0</td>\n",
       "      <td>0</td>\n",
       "      <td>0</td>\n",
       "      <td>0</td>\n",
       "      <td>0</td>\n",
       "      <td>0</td>\n",
       "      <td>0</td>\n",
       "      <td>0</td>\n",
       "      <td>0</td>\n",
       "      <td>NaN</td>\n",
       "      <td>NaN</td>\n",
       "      <td>NaN</td>\n",
       "      <td>1.0</td>\n",
       "    </tr>\n",
       "    <tr>\n",
       "      <th>4</th>\n",
       "      <td>0.0</td>\n",
       "      <td>1</td>\n",
       "      <td>0</td>\n",
       "      <td>0</td>\n",
       "      <td>0</td>\n",
       "      <td>0</td>\n",
       "      <td>0</td>\n",
       "      <td>0</td>\n",
       "      <td>0</td>\n",
       "      <td>0</td>\n",
       "      <td>0</td>\n",
       "      <td>0</td>\n",
       "      <td>0</td>\n",
       "      <td>0</td>\n",
       "      <td>1</td>\n",
       "      <td>1.0</td>\n",
       "      <td>0.380932</td>\n",
       "      <td>0.357143</td>\n",
       "      <td>1.0</td>\n",
       "    </tr>\n",
       "    <tr>\n",
       "      <th>5</th>\n",
       "      <td>1.0</td>\n",
       "      <td>0</td>\n",
       "      <td>1</td>\n",
       "      <td>0</td>\n",
       "      <td>1</td>\n",
       "      <td>1</td>\n",
       "      <td>1</td>\n",
       "      <td>1</td>\n",
       "      <td>1</td>\n",
       "      <td>1</td>\n",
       "      <td>1</td>\n",
       "      <td>0</td>\n",
       "      <td>0</td>\n",
       "      <td>0</td>\n",
       "      <td>8</td>\n",
       "      <td>2.0</td>\n",
       "      <td>0.632166</td>\n",
       "      <td>0.428571</td>\n",
       "      <td>1.0</td>\n",
       "    </tr>\n",
       "  </tbody>\n",
       "</table>\n",
       "</div>"
      ],
      "text/plain": [
       "    Sex  Lag_1  Lag_2  Lag_3  Lag_4  Lag_5  Lag_6  Lag_7  Lag_8  Lag_9  \\\n",
       "Id                                                                       \n",
       "1   0.0      0      0      0      0      0      0      0      0      0   \n",
       "2   0.0      0      0      0      0      0      0      0      0      0   \n",
       "3   1.0      0      0      0      0      0      0      0      0      0   \n",
       "4   0.0      1      0      0      0      0      0      0      0      0   \n",
       "5   1.0      0      1      0      1      1      1      1      1      1   \n",
       "\n",
       "    Lag_10  Lag_11  Lag_12  Lag_13  Num Marathons  Years Since Last  \\\n",
       "Id                                                                    \n",
       "1        0       0       0       0              0               NaN   \n",
       "2        0       0       0       0              0               NaN   \n",
       "3        0       0       0       0              0               NaN   \n",
       "4        0       0       0       0              1               1.0   \n",
       "5        1       0       0       0              8               2.0   \n",
       "\n",
       "    Time of Last  Age Last  Dummy  \n",
       "Id                                 \n",
       "1            NaN       NaN    1.0  \n",
       "2            NaN       NaN    1.0  \n",
       "3            NaN       NaN    1.0  \n",
       "4       0.380932  0.357143    1.0  \n",
       "5       0.632166  0.428571    1.0  "
      ]
     },
     "execution_count": 114,
     "metadata": {},
     "output_type": "execute_result"
    }
   ],
   "source": [
    "my_frame.head(5)"
   ]
  },
  {
   "cell_type": "code",
   "execution_count": 115,
   "metadata": {
    "collapsed": false
   },
   "outputs": [
    {
     "data": {
      "text/html": [
       "<div>\n",
       "<table border=\"1\" class=\"dataframe\">\n",
       "  <thead>\n",
       "    <tr>\n",
       "      <th></th>\n",
       "      <th colspan=\"14\" halign=\"left\">Rank</th>\n",
       "      <th colspan=\"14\" halign=\"left\">Age Category</th>\n",
       "      <th colspan=\"14\" halign=\"left\">Time</th>\n",
       "    </tr>\n",
       "    <tr>\n",
       "      <th>Year</th>\n",
       "      <th>2003</th>\n",
       "      <th>2004</th>\n",
       "      <th>2005</th>\n",
       "      <th>2006</th>\n",
       "      <th>2007</th>\n",
       "      <th>2008</th>\n",
       "      <th>2009</th>\n",
       "      <th>2010</th>\n",
       "      <th>2011</th>\n",
       "      <th>2012</th>\n",
       "      <th>2013</th>\n",
       "      <th>2014</th>\n",
       "      <th>2015</th>\n",
       "      <th>2016</th>\n",
       "      <th>2003</th>\n",
       "      <th>2004</th>\n",
       "      <th>2005</th>\n",
       "      <th>2006</th>\n",
       "      <th>2007</th>\n",
       "      <th>2008</th>\n",
       "      <th>2009</th>\n",
       "      <th>2010</th>\n",
       "      <th>2011</th>\n",
       "      <th>2012</th>\n",
       "      <th>2013</th>\n",
       "      <th>2014</th>\n",
       "      <th>2015</th>\n",
       "      <th>2016</th>\n",
       "      <th>2003</th>\n",
       "      <th>2004</th>\n",
       "      <th>2005</th>\n",
       "      <th>2006</th>\n",
       "      <th>2007</th>\n",
       "      <th>2008</th>\n",
       "      <th>2009</th>\n",
       "      <th>2010</th>\n",
       "      <th>2011</th>\n",
       "      <th>2012</th>\n",
       "      <th>2013</th>\n",
       "      <th>2014</th>\n",
       "      <th>2015</th>\n",
       "      <th>2016</th>\n",
       "    </tr>\n",
       "    <tr>\n",
       "      <th>Id</th>\n",
       "      <th></th>\n",
       "      <th></th>\n",
       "      <th></th>\n",
       "      <th></th>\n",
       "      <th></th>\n",
       "      <th></th>\n",
       "      <th></th>\n",
       "      <th></th>\n",
       "      <th></th>\n",
       "      <th></th>\n",
       "      <th></th>\n",
       "      <th></th>\n",
       "      <th></th>\n",
       "      <th></th>\n",
       "      <th></th>\n",
       "      <th></th>\n",
       "      <th></th>\n",
       "      <th></th>\n",
       "      <th></th>\n",
       "      <th></th>\n",
       "      <th></th>\n",
       "      <th></th>\n",
       "      <th></th>\n",
       "      <th></th>\n",
       "      <th></th>\n",
       "      <th></th>\n",
       "      <th></th>\n",
       "      <th></th>\n",
       "      <th></th>\n",
       "      <th></th>\n",
       "      <th></th>\n",
       "      <th></th>\n",
       "      <th></th>\n",
       "      <th></th>\n",
       "      <th></th>\n",
       "      <th></th>\n",
       "      <th></th>\n",
       "      <th></th>\n",
       "      <th></th>\n",
       "      <th></th>\n",
       "      <th></th>\n",
       "      <th></th>\n",
       "    </tr>\n",
       "  </thead>\n",
       "  <tbody>\n",
       "    <tr>\n",
       "      <th>1</th>\n",
       "      <td>None</td>\n",
       "      <td>None</td>\n",
       "      <td>None</td>\n",
       "      <td>None</td>\n",
       "      <td>None</td>\n",
       "      <td>None</td>\n",
       "      <td>None</td>\n",
       "      <td>None</td>\n",
       "      <td>None</td>\n",
       "      <td>None</td>\n",
       "      <td>None</td>\n",
       "      <td>None</td>\n",
       "      <td>None</td>\n",
       "      <td>1263</td>\n",
       "      <td>None</td>\n",
       "      <td>None</td>\n",
       "      <td>None</td>\n",
       "      <td>None</td>\n",
       "      <td>None</td>\n",
       "      <td>None</td>\n",
       "      <td>None</td>\n",
       "      <td>None</td>\n",
       "      <td>None</td>\n",
       "      <td>None</td>\n",
       "      <td>None</td>\n",
       "      <td>None</td>\n",
       "      <td>None</td>\n",
       "      <td>30</td>\n",
       "      <td>None</td>\n",
       "      <td>None</td>\n",
       "      <td>None</td>\n",
       "      <td>None</td>\n",
       "      <td>None</td>\n",
       "      <td>None</td>\n",
       "      <td>None</td>\n",
       "      <td>None</td>\n",
       "      <td>None</td>\n",
       "      <td>None</td>\n",
       "      <td>None</td>\n",
       "      <td>None</td>\n",
       "      <td>None</td>\n",
       "      <td>0 days 04:15:00</td>\n",
       "    </tr>\n",
       "    <tr>\n",
       "      <th>2</th>\n",
       "      <td>None</td>\n",
       "      <td>None</td>\n",
       "      <td>None</td>\n",
       "      <td>None</td>\n",
       "      <td>None</td>\n",
       "      <td>None</td>\n",
       "      <td>None</td>\n",
       "      <td>None</td>\n",
       "      <td>None</td>\n",
       "      <td>None</td>\n",
       "      <td>None</td>\n",
       "      <td>None</td>\n",
       "      <td>None</td>\n",
       "      <td>2289</td>\n",
       "      <td>None</td>\n",
       "      <td>None</td>\n",
       "      <td>None</td>\n",
       "      <td>None</td>\n",
       "      <td>None</td>\n",
       "      <td>None</td>\n",
       "      <td>None</td>\n",
       "      <td>None</td>\n",
       "      <td>None</td>\n",
       "      <td>None</td>\n",
       "      <td>None</td>\n",
       "      <td>None</td>\n",
       "      <td>None</td>\n",
       "      <td>60</td>\n",
       "      <td>None</td>\n",
       "      <td>None</td>\n",
       "      <td>None</td>\n",
       "      <td>None</td>\n",
       "      <td>None</td>\n",
       "      <td>None</td>\n",
       "      <td>None</td>\n",
       "      <td>None</td>\n",
       "      <td>None</td>\n",
       "      <td>None</td>\n",
       "      <td>None</td>\n",
       "      <td>None</td>\n",
       "      <td>None</td>\n",
       "      <td>0 days 05:05:42</td>\n",
       "    </tr>\n",
       "    <tr>\n",
       "      <th>3</th>\n",
       "      <td>None</td>\n",
       "      <td>None</td>\n",
       "      <td>None</td>\n",
       "      <td>None</td>\n",
       "      <td>None</td>\n",
       "      <td>None</td>\n",
       "      <td>None</td>\n",
       "      <td>None</td>\n",
       "      <td>None</td>\n",
       "      <td>None</td>\n",
       "      <td>None</td>\n",
       "      <td>None</td>\n",
       "      <td>None</td>\n",
       "      <td>2276</td>\n",
       "      <td>None</td>\n",
       "      <td>None</td>\n",
       "      <td>None</td>\n",
       "      <td>None</td>\n",
       "      <td>None</td>\n",
       "      <td>None</td>\n",
       "      <td>None</td>\n",
       "      <td>None</td>\n",
       "      <td>None</td>\n",
       "      <td>None</td>\n",
       "      <td>None</td>\n",
       "      <td>None</td>\n",
       "      <td>None</td>\n",
       "      <td>30</td>\n",
       "      <td>None</td>\n",
       "      <td>None</td>\n",
       "      <td>None</td>\n",
       "      <td>None</td>\n",
       "      <td>None</td>\n",
       "      <td>None</td>\n",
       "      <td>None</td>\n",
       "      <td>None</td>\n",
       "      <td>None</td>\n",
       "      <td>None</td>\n",
       "      <td>None</td>\n",
       "      <td>None</td>\n",
       "      <td>None</td>\n",
       "      <td>0 days 05:04:34</td>\n",
       "    </tr>\n",
       "    <tr>\n",
       "      <th>4</th>\n",
       "      <td>None</td>\n",
       "      <td>None</td>\n",
       "      <td>None</td>\n",
       "      <td>None</td>\n",
       "      <td>None</td>\n",
       "      <td>None</td>\n",
       "      <td>None</td>\n",
       "      <td>None</td>\n",
       "      <td>None</td>\n",
       "      <td>None</td>\n",
       "      <td>None</td>\n",
       "      <td>None</td>\n",
       "      <td>670</td>\n",
       "      <td>2390</td>\n",
       "      <td>None</td>\n",
       "      <td>None</td>\n",
       "      <td>None</td>\n",
       "      <td>None</td>\n",
       "      <td>None</td>\n",
       "      <td>None</td>\n",
       "      <td>None</td>\n",
       "      <td>None</td>\n",
       "      <td>None</td>\n",
       "      <td>None</td>\n",
       "      <td>None</td>\n",
       "      <td>None</td>\n",
       "      <td>35</td>\n",
       "      <td>35</td>\n",
       "      <td>None</td>\n",
       "      <td>None</td>\n",
       "      <td>None</td>\n",
       "      <td>None</td>\n",
       "      <td>None</td>\n",
       "      <td>None</td>\n",
       "      <td>None</td>\n",
       "      <td>None</td>\n",
       "      <td>None</td>\n",
       "      <td>None</td>\n",
       "      <td>None</td>\n",
       "      <td>None</td>\n",
       "      <td>0 days 03:52:57</td>\n",
       "      <td>0 days 05:13:30</td>\n",
       "    </tr>\n",
       "    <tr>\n",
       "      <th>5</th>\n",
       "      <td>None</td>\n",
       "      <td>None</td>\n",
       "      <td>None</td>\n",
       "      <td>2013</td>\n",
       "      <td>2002</td>\n",
       "      <td>2343</td>\n",
       "      <td>2415</td>\n",
       "      <td>2455</td>\n",
       "      <td>3140</td>\n",
       "      <td>3329</td>\n",
       "      <td>None</td>\n",
       "      <td>3086</td>\n",
       "      <td>None</td>\n",
       "      <td>2608</td>\n",
       "      <td>None</td>\n",
       "      <td>None</td>\n",
       "      <td>None</td>\n",
       "      <td>34</td>\n",
       "      <td>35</td>\n",
       "      <td>36</td>\n",
       "      <td>37</td>\n",
       "      <td>38</td>\n",
       "      <td>39</td>\n",
       "      <td>40</td>\n",
       "      <td>None</td>\n",
       "      <td>42</td>\n",
       "      <td>None</td>\n",
       "      <td>40</td>\n",
       "      <td>None</td>\n",
       "      <td>None</td>\n",
       "      <td>None</td>\n",
       "      <td>0 days 05:29:32</td>\n",
       "      <td>0 days 05:26:12</td>\n",
       "      <td>0 days 05:28:49</td>\n",
       "      <td>0 days 05:27:27</td>\n",
       "      <td>0 days 05:29:04</td>\n",
       "      <td>0 days 05:28:24</td>\n",
       "      <td>0 days 05:28:35</td>\n",
       "      <td>None</td>\n",
       "      <td>0 days 05:43:14</td>\n",
       "      <td>None</td>\n",
       "      <td>0 days 05:28:34</td>\n",
       "    </tr>\n",
       "  </tbody>\n",
       "</table>\n",
       "</div>"
      ],
      "text/plain": [
       "      Rank                                                                    \\\n",
       "Year  2003  2004  2005  2006  2007  2008  2009  2010  2011  2012  2013  2014   \n",
       "Id                                                                             \n",
       "1     None  None  None  None  None  None  None  None  None  None  None  None   \n",
       "2     None  None  None  None  None  None  None  None  None  None  None  None   \n",
       "3     None  None  None  None  None  None  None  None  None  None  None  None   \n",
       "4     None  None  None  None  None  None  None  None  None  None  None  None   \n",
       "5     None  None  None  2013  2002  2343  2415  2455  3140  3329  None  3086   \n",
       "\n",
       "                 Age Category                                                  \\\n",
       "Year  2015  2016         2003  2004  2005  2006  2007  2008  2009  2010  2011   \n",
       "Id                                                                              \n",
       "1     None  1263         None  None  None  None  None  None  None  None  None   \n",
       "2     None  2289         None  None  None  None  None  None  None  None  None   \n",
       "3     None  2276         None  None  None  None  None  None  None  None  None   \n",
       "4      670  2390         None  None  None  None  None  None  None  None  None   \n",
       "5     None  2608         None  None  None    34    35    36    37    38    39   \n",
       "\n",
       "                                   Time                               \\\n",
       "Year  2012  2013  2014  2015 2016  2003  2004  2005             2006   \n",
       "Id                                                                     \n",
       "1     None  None  None  None   30  None  None  None             None   \n",
       "2     None  None  None  None   60  None  None  None             None   \n",
       "3     None  None  None  None   30  None  None  None             None   \n",
       "4     None  None  None    35   35  None  None  None             None   \n",
       "5       40  None    42  None   40  None  None  None  0 days 05:29:32   \n",
       "\n",
       "                                                                          \\\n",
       "Year             2007             2008             2009             2010   \n",
       "Id                                                                         \n",
       "1                None             None             None             None   \n",
       "2                None             None             None             None   \n",
       "3                None             None             None             None   \n",
       "4                None             None             None             None   \n",
       "5     0 days 05:26:12  0 days 05:28:49  0 days 05:27:27  0 days 05:29:04   \n",
       "\n",
       "                                                               \\\n",
       "Year             2011             2012  2013             2014   \n",
       "Id                                                              \n",
       "1                None             None  None             None   \n",
       "2                None             None  None             None   \n",
       "3                None             None  None             None   \n",
       "4                None             None  None             None   \n",
       "5     0 days 05:28:24  0 days 05:28:35  None  0 days 05:43:14   \n",
       "\n",
       "                                        \n",
       "Year             2015             2016  \n",
       "Id                                      \n",
       "1                None  0 days 04:15:00  \n",
       "2                None  0 days 05:05:42  \n",
       "3                None  0 days 05:04:34  \n",
       "4     0 days 03:52:57  0 days 05:13:30  \n",
       "5                None  0 days 05:28:34  "
      ]
     },
     "execution_count": 115,
     "metadata": {},
     "output_type": "execute_result"
    }
   ],
   "source": [
    "data_pivot.head(5)"
   ]
  },
  {
   "cell_type": "code",
   "execution_count": 41,
   "metadata": {
    "collapsed": false
   },
   "outputs": [
    {
     "data": {
      "text/plain": [
       "array([[ 0.        ,  0.        ,  0.        , ...,         nan,\n",
       "                nan,  1.        ],\n",
       "       [ 0.        ,  0.        ,  0.        , ...,         nan,\n",
       "                nan,  1.        ],\n",
       "       [ 1.        ,  0.        ,  0.        , ...,         nan,\n",
       "                nan,  1.        ],\n",
       "       ..., \n",
       "       [ 1.        ,  0.        ,  0.        , ...,  0.36259397,\n",
       "         0.45918367,  1.        ],\n",
       "       [ 0.        ,  0.        ,  0.        , ...,  0.37785709,\n",
       "         0.35714286,  1.        ],\n",
       "       [ 0.        ,  0.        ,  0.        , ...,  0.23851469,\n",
       "         0.40816327,  1.        ]])"
      ]
     },
     "execution_count": 41,
     "metadata": {},
     "output_type": "execute_result"
    }
   ],
   "source": [
    "my_frame.as_matrix()\n",
    "#As you can see, we can represent this data as a matrix as well:"
   ]
  },
  {
   "cell_type": "markdown",
   "metadata": {},
   "source": [
    "## Now: Logistic Regression "
   ]
  },
  {
   "cell_type": "markdown",
   "metadata": {},
   "source": [
    "As logistic regression is a supervised learning model, we need to train the model using a y-vector of instances of correct categorization that we have. This is acomplished by using 2016 as our  categorization year, and using as our features set the data on participation in races from 2003 to 2015. In this case, we exclude all participants who do not have a race between 2003 and 2015 (those who only race in 2016). "
   ]
  },
  {
   "cell_type": "code",
   "execution_count": 42,
   "metadata": {
    "collapsed": false
   },
   "outputs": [
    {
     "name": "stdout",
     "output_type": "stream",
     "text": [
      "71.58392810821533\n"
     ]
    }
   ],
   "source": [
    "#Create our dataframe, looking back from 2016\n",
    "train_df = create_frame(2015)\n",
    "#remove entries where there are no races\n",
    "train_df = train_df[train_df[\"Num Marathons\"] > 0 ]\n",
    "del train_df[\"Years Since Last\"]\n",
    "train_df[\"Dummy\"] = np.ones(len(train_df))\n",
    "train_array = train_df.as_matrix()"
   ]
  },
  {
   "cell_type": "code",
   "execution_count": 43,
   "metadata": {
    "collapsed": false
   },
   "outputs": [
    {
     "data": {
      "text/plain": [
       "26171"
      ]
     },
     "execution_count": 43,
     "metadata": {},
     "output_type": "execute_result"
    }
   ],
   "source": [
    "def get_y(year, index): \n",
    "    tempy = pd.isnull(data_pivot[\"Rank\"]).iloc[:,((year - 2014))].apply(lambda x: 0 if x else 1)\n",
    "    tempy = tempy.loc[index]\n",
    "    return tempy.as_matrix()\n",
    "# #The other component that we need is our y-vector, which is the participation boolean for 2016\n",
    "# y_vect = pd.isnull(data_pivot[\"Rank\"]).iloc[:,(12)].apply(lambda x: 0 if x else 1)\n",
    "# y_vect = y_vect.loc[train_df.index]\n",
    "# y_vect = y_vect.as_matrix()\n",
    "# len(y_vect)\n",
    "\n",
    "y_vect = get_y(2016, train_df.index)\n",
    "len(y_vect)"
   ]
  },
  {
   "cell_type": "code",
   "execution_count": 44,
   "metadata": {
    "collapsed": false
   },
   "outputs": [
    {
     "data": {
      "image/png": "[encoded data removed]",
      "text/plain": [
       "<matplotlib.figure.Figure at 0x119a315c0>"
      ]
     },
     "metadata": {},
     "output_type": "display_data"
    }
   ],
   "source": [
    "plt.hist(train_df[\"Time of Last\"], bins = 100)\n",
    "plt.show()"
   ]
  },
  {
   "cell_type": "code",
   "execution_count": 45,
   "metadata": {
    "collapsed": false
   },
   "outputs": [],
   "source": [
    "##Here is where we perform the gradient descent\n",
    "def sigmoid(x):\n",
    "    return 1 / (1 + np.exp(-1 * x))\n",
    "\n",
    "def error_fxn(w_vect, x_array, y_vect):\n",
    "    #This function computes the error function, given a weights vector w_vect\n",
    "    #This allow us to call this function repeatedly as we optimize the w_vect through gradient descent\n",
    "    y0 = np.log(sigmoid(x_array.dot(w_vect))).dot(y_vect)\n",
    "    y1 = np.log(1 - sigmoid(x_array.dot(w_vect))).dot(1-y_vect)\n",
    "    return -(y0 + y1) / len(y_vect)\n",
    "\n",
    "def grad_fxn(w_vect, x_array, y_vect): \n",
    "    #This function computes the gradient function, given the weights vector w_vect\n",
    "    return (y_vect - sigmoid(np.dot(x_array, w_vect))).dot(x_array)\n",
    "\n",
    "def grad_descent(w_vect, x_array, y_vect, step, tol, maxi, print_out = True):\n",
    "    start = time.time()\n",
    "    #performs the gradient descent\n",
    "    grad_history = [[w_vect, error_fxn(w_vect, x_array, y_vect)]]\n",
    "    #store all the past values of the w vector and the error function\n",
    "    #(we use this to plot the gradient descent or diagnose problems)\n",
    "    delta = grad_history[0][1]\n",
    "    delta = 1\n",
    "    i = 0\n",
    "    stepi = step\n",
    "    while(delta > tol): \n",
    "        #We continue the descent until the change in error (delta) is less than our tolerance parameter (tol)\n",
    "        w_old = w_vect\n",
    "        w_vect = w_old + stepi * grad_fxn(w_old, x_array, y_vect)\n",
    "        grad_history.append([w_vect, error_fxn(w_vect, x_array, y_vect)])\n",
    "        delta =  grad_history[-2][1] - grad_history[-1][1]\n",
    "        stepi = step / (0.1*i + 1)\n",
    "        #we decrease the step each time to help with convergence\n",
    "        i = i + 1\n",
    "        if(i > maxi):\n",
    "            #We want to end the loop if it has run for two long without converging\n",
    "            break\n",
    "    if(print_out):\n",
    "        print(\"Loops run = \" + str(i))\n",
    "        print(\"Time = \" + str(time.time() - start))\n",
    "        print(\"Exit delta = \" + str(delta))\n",
    "        print(\"Exit Error = \" + str(error_fxn(w_vect, x_array, y_vect)))\n",
    "        plt.plot([i[1] for i in grad_history])\n",
    "        plt.title(\"Gradient Descent\")\n",
    "        plt.xlabel(\"Iteration\")\n",
    "        plt.ylabel(\"Error\")\n",
    "        plt.show()\n",
    "        \n",
    "    return w_vect, grad_history"
   ]
  },
  {
   "cell_type": "code",
   "execution_count": 46,
   "metadata": {
    "collapsed": false
   },
   "outputs": [
    {
     "name": "stdout",
     "output_type": "stream",
     "text": [
      "Loops run = 10001\n",
      "Time = 22.76331400871277\n",
      "Exit delta = 4.41225110882e-07\n",
      "Exit Error = 0.0290793737975\n"
     ]
    },
    {
     "data": {
      "image/png": "[encoded data removed]",
      "text/plain": [
       "<matplotlib.figure.Figure at 0x11ad9b1d0>"
      ]
     },
     "metadata": {},
     "output_type": "display_data"
    }
   ],
   "source": [
    "my_w, grad_history = grad_descent(w_vect = np.zeros(train_array.shape[1]), \n",
    "                                  x_array = train_array, y_vect = y_vect, \n",
    "                                  step = 1e-4, tol = 1e-8, maxi = 10000)"
   ]
  },
  {
   "cell_type": "code",
   "execution_count": 47,
   "metadata": {
    "collapsed": false
   },
   "outputs": [
    {
     "data": {
      "text/plain": [
       "array([-0.42366746, -0.7173226 , -0.97538891, -0.71974301, -0.62814378,\n",
       "       -0.50583888, -0.43357945, -0.42139789, -0.1963356 , -0.07325522,\n",
       "        5.08094308,  0.12178687, -0.07812878,  0.45359583, -1.04081608,\n",
       "       -0.95554727, -3.08580137])"
      ]
     },
     "execution_count": 47,
     "metadata": {},
     "output_type": "execute_result"
    }
   ],
   "source": [
    "my_w"
   ]
  },
  {
   "cell_type": "code",
   "execution_count": 48,
   "metadata": {
    "collapsed": false
   },
   "outputs": [
    {
     "data": {
      "text/plain": [
       "(26171, 17)"
      ]
     },
     "execution_count": 48,
     "metadata": {},
     "output_type": "execute_result"
    }
   ],
   "source": [
    "train_array.shape"
   ]
  },
  {
   "cell_type": "code",
   "execution_count": 49,
   "metadata": {
    "collapsed": false,
    "scrolled": false
   },
   "outputs": [
    {
     "data": {
      "image/png": "[encoded data removed]",
      "text/plain": [
       "<matplotlib.figure.Figure at 0x119ff4978>"
      ]
     },
     "metadata": {},
     "output_type": "display_data"
    }
   ],
   "source": [
    "#plot the gradient descent\n",
    "#We are plotting the cost function (y-axis) of each iteration\n",
    "#against the value of one position of the w-vector for that iteration\n",
    "errs = [i[1] for i in grad_history]\n",
    "nrows = 4\n",
    "ncols = 4\n",
    "fig, axes = plt.subplots(nrows, ncols, figsize = (8,8))\n",
    "j = 0\n",
    "for ax in axes.reshape(-1): \n",
    "    ax.plot([i[0][j] for i in grad_history], errs)\n",
    "    j = j+1"
   ]
  },
  {
   "cell_type": "markdown",
   "metadata": {},
   "source": [
    "# Train on pre-2015 to get accuracy of model on 2016"
   ]
  },
  {
   "cell_type": "code",
   "execution_count": 50,
   "metadata": {
    "collapsed": false
   },
   "outputs": [],
   "source": [
    "def predict_y(w_vect, x_array): \n",
    "    prob_y1 = sigmoid(x_array.dot(w_vect))\n",
    "    #probability\n",
    "    part_y = np.where(prob_y1 > 0.5, 1, 0)\n",
    "    #participation\n",
    "    return part_y\n",
    "\n",
    "def prediction_stats(y_pred, y_vect):\n",
    "    ac = sum(np.invert(np.logical_xor(y_vect, y_pred))) / len(y_vect)\n",
    "    naive_ac = 1 - sum(y_test) / len(y_vect)\n",
    "    tpos = sum(y_pred * y_vect)\n",
    "    sensitivity = tpos / sum(y_vect)\n",
    "    specificity = (len(y_vect) - sum(np.logical_or(y_vect, y_pred))) / (len(y_vect) - sum(y_vect))\n",
    "    \n",
    "    print(\"Predicted Y1 = \" + str(sum(y_pred)))\n",
    "    print(\"Accuracy = \" + str(ac))\n",
    "    print(\"Naive Accuracy = \" + str(naive_ac))\n",
    "    print(\"Sensitivity = \" + str(sensitivity))\n",
    "    print(\"Specificity = \" + str(specificity))"
   ]
  },
  {
   "cell_type": "code",
   "execution_count": 51,
   "metadata": {
    "collapsed": false
   },
   "outputs": [
    {
     "name": "stdout",
     "output_type": "stream",
     "text": [
      "69.57218813896179\n"
     ]
    },
    {
     "data": {
      "text/plain": [
       "(23450, 16)"
      ]
     },
     "execution_count": 51,
     "metadata": {},
     "output_type": "execute_result"
    }
   ],
   "source": [
    "train_df = create_frame(2014)\n",
    "#remove entries where there are no races\n",
    "train_df = train_df[train_df[\"Num Marathons\"] > 0]\n",
    "del train_df[\"Years Since Last\"]\n",
    "train_array = train_df.as_matrix()\n",
    "train_array.shape"
   ]
  },
  {
   "cell_type": "code",
   "execution_count": 52,
   "metadata": {
    "collapsed": false
   },
   "outputs": [
    {
     "name": "stdout",
     "output_type": "stream",
     "text": [
      "66.14812898635864\n"
     ]
    }
   ],
   "source": [
    "test_df = create_frame(2015)\n",
    "test_df = test_df[test_df[\"Num Marathons\"] > 0 ]\n",
    "del test_df[\"Years Since Last\"]\n",
    "del test_df[\"Lag_12\"]\n",
    "test_array = test_df.as_matrix()"
   ]
  },
  {
   "cell_type": "code",
   "execution_count": 97,
   "metadata": {
    "collapsed": true
   },
   "outputs": [],
   "source": [
    "y_vect = get_y(2015, train_df.index)"
   ]
  },
  {
   "cell_type": "code",
   "execution_count": 100,
   "metadata": {
    "collapsed": false
   },
   "outputs": [
    {
     "data": {
      "text/plain": [
       "23450"
      ]
     },
     "execution_count": 100,
     "metadata": {},
     "output_type": "execute_result"
    }
   ],
   "source": [
    "len(train_df)"
   ]
  },
  {
   "cell_type": "code",
   "execution_count": 99,
   "metadata": {
    "collapsed": false
   },
   "outputs": [
    {
     "data": {
      "text/plain": [
       "26171"
      ]
     },
     "execution_count": 99,
     "metadata": {},
     "output_type": "execute_result"
    }
   ],
   "source": [
    "len(test_df)"
   ]
  },
  {
   "cell_type": "code",
   "execution_count": 95,
   "metadata": {
    "collapsed": false
   },
   "outputs": [
    {
     "data": {
      "text/html": [
       "<div>\n",
       "<table border=\"1\" class=\"dataframe\">\n",
       "  <thead>\n",
       "    <tr style=\"text-align: right;\">\n",
       "      <th></th>\n",
       "      <th>Sex</th>\n",
       "      <th>Lag_1</th>\n",
       "      <th>Lag_2</th>\n",
       "      <th>Lag_3</th>\n",
       "      <th>Lag_4</th>\n",
       "      <th>Lag_5</th>\n",
       "      <th>Lag_6</th>\n",
       "      <th>Lag_7</th>\n",
       "      <th>Lag_8</th>\n",
       "      <th>Lag_9</th>\n",
       "      <th>Lag_10</th>\n",
       "      <th>Lag_11</th>\n",
       "      <th>Num Marathons</th>\n",
       "      <th>Time of Last</th>\n",
       "      <th>Age Last</th>\n",
       "      <th>Dummy</th>\n",
       "    </tr>\n",
       "    <tr>\n",
       "      <th>Id</th>\n",
       "      <th></th>\n",
       "      <th></th>\n",
       "      <th></th>\n",
       "      <th></th>\n",
       "      <th></th>\n",
       "      <th></th>\n",
       "      <th></th>\n",
       "      <th></th>\n",
       "      <th></th>\n",
       "      <th></th>\n",
       "      <th></th>\n",
       "      <th></th>\n",
       "      <th></th>\n",
       "      <th></th>\n",
       "      <th></th>\n",
       "      <th></th>\n",
       "    </tr>\n",
       "  </thead>\n",
       "  <tbody>\n",
       "    <tr>\n",
       "      <th>5</th>\n",
       "      <td>1.0</td>\n",
       "      <td>0</td>\n",
       "      <td>1</td>\n",
       "      <td>1</td>\n",
       "      <td>1</td>\n",
       "      <td>1</td>\n",
       "      <td>1</td>\n",
       "      <td>1</td>\n",
       "      <td>1</td>\n",
       "      <td>0</td>\n",
       "      <td>0</td>\n",
       "      <td>0</td>\n",
       "      <td>7</td>\n",
       "      <td>0.632166</td>\n",
       "      <td>0.428571</td>\n",
       "      <td>1.0</td>\n",
       "    </tr>\n",
       "    <tr>\n",
       "      <th>9</th>\n",
       "      <td>0.0</td>\n",
       "      <td>0</td>\n",
       "      <td>1</td>\n",
       "      <td>0</td>\n",
       "      <td>0</td>\n",
       "      <td>0</td>\n",
       "      <td>0</td>\n",
       "      <td>0</td>\n",
       "      <td>0</td>\n",
       "      <td>0</td>\n",
       "      <td>0</td>\n",
       "      <td>0</td>\n",
       "      <td>1</td>\n",
       "      <td>0.509986</td>\n",
       "      <td>0.530612</td>\n",
       "      <td>1.0</td>\n",
       "    </tr>\n",
       "    <tr>\n",
       "      <th>15</th>\n",
       "      <td>0.0</td>\n",
       "      <td>0</td>\n",
       "      <td>1</td>\n",
       "      <td>1</td>\n",
       "      <td>0</td>\n",
       "      <td>0</td>\n",
       "      <td>1</td>\n",
       "      <td>0</td>\n",
       "      <td>0</td>\n",
       "      <td>0</td>\n",
       "      <td>0</td>\n",
       "      <td>0</td>\n",
       "      <td>3</td>\n",
       "      <td>0.514124</td>\n",
       "      <td>0.377551</td>\n",
       "      <td>1.0</td>\n",
       "    </tr>\n",
       "    <tr>\n",
       "      <th>16</th>\n",
       "      <td>0.0</td>\n",
       "      <td>0</td>\n",
       "      <td>1</td>\n",
       "      <td>1</td>\n",
       "      <td>1</td>\n",
       "      <td>1</td>\n",
       "      <td>0</td>\n",
       "      <td>0</td>\n",
       "      <td>0</td>\n",
       "      <td>0</td>\n",
       "      <td>0</td>\n",
       "      <td>0</td>\n",
       "      <td>4</td>\n",
       "      <td>0.415369</td>\n",
       "      <td>0.459184</td>\n",
       "      <td>1.0</td>\n",
       "    </tr>\n",
       "    <tr>\n",
       "      <th>22</th>\n",
       "      <td>1.0</td>\n",
       "      <td>0</td>\n",
       "      <td>0</td>\n",
       "      <td>1</td>\n",
       "      <td>0</td>\n",
       "      <td>0</td>\n",
       "      <td>0</td>\n",
       "      <td>0</td>\n",
       "      <td>0</td>\n",
       "      <td>0</td>\n",
       "      <td>0</td>\n",
       "      <td>0</td>\n",
       "      <td>1</td>\n",
       "      <td>0.436252</td>\n",
       "      <td>0.448980</td>\n",
       "      <td>1.0</td>\n",
       "    </tr>\n",
       "  </tbody>\n",
       "</table>\n",
       "</div>"
      ],
      "text/plain": [
       "    Sex  Lag_1  Lag_2  Lag_3  Lag_4  Lag_5  Lag_6  Lag_7  Lag_8  Lag_9  \\\n",
       "Id                                                                       \n",
       "5   1.0      0      1      1      1      1      1      1      1      0   \n",
       "9   0.0      0      1      0      0      0      0      0      0      0   \n",
       "15  0.0      0      1      1      0      0      1      0      0      0   \n",
       "16  0.0      0      1      1      1      1      0      0      0      0   \n",
       "22  1.0      0      0      1      0      0      0      0      0      0   \n",
       "\n",
       "    Lag_10  Lag_11  Num Marathons  Time of Last  Age Last  Dummy  \n",
       "Id                                                                \n",
       "5        0       0              7      0.632166  0.428571    1.0  \n",
       "9        0       0              1      0.509986  0.530612    1.0  \n",
       "15       0       0              3      0.514124  0.377551    1.0  \n",
       "16       0       0              4      0.415369  0.459184    1.0  \n",
       "22       0       0              1      0.436252  0.448980    1.0  "
      ]
     },
     "execution_count": 95,
     "metadata": {},
     "output_type": "execute_result"
    }
   ],
   "source": [
    "train_df.head(5)"
   ]
  },
  {
   "cell_type": "code",
   "execution_count": 96,
   "metadata": {
    "collapsed": false
   },
   "outputs": [
    {
     "data": {
      "text/html": [
       "<div>\n",
       "<table border=\"1\" class=\"dataframe\">\n",
       "  <thead>\n",
       "    <tr style=\"text-align: right;\">\n",
       "      <th></th>\n",
       "      <th>Sex</th>\n",
       "      <th>Lag_1</th>\n",
       "      <th>Lag_2</th>\n",
       "      <th>Lag_3</th>\n",
       "      <th>Lag_4</th>\n",
       "      <th>Lag_5</th>\n",
       "      <th>Lag_6</th>\n",
       "      <th>Lag_7</th>\n",
       "      <th>Lag_8</th>\n",
       "      <th>Lag_9</th>\n",
       "      <th>Lag_10</th>\n",
       "      <th>Lag_11</th>\n",
       "      <th>Num Marathons</th>\n",
       "      <th>Time of Last</th>\n",
       "      <th>Age Last</th>\n",
       "      <th>Dummy</th>\n",
       "    </tr>\n",
       "    <tr>\n",
       "      <th>Id</th>\n",
       "      <th></th>\n",
       "      <th></th>\n",
       "      <th></th>\n",
       "      <th></th>\n",
       "      <th></th>\n",
       "      <th></th>\n",
       "      <th></th>\n",
       "      <th></th>\n",
       "      <th></th>\n",
       "      <th></th>\n",
       "      <th></th>\n",
       "      <th></th>\n",
       "      <th></th>\n",
       "      <th></th>\n",
       "      <th></th>\n",
       "      <th></th>\n",
       "    </tr>\n",
       "  </thead>\n",
       "  <tbody>\n",
       "    <tr>\n",
       "      <th>5</th>\n",
       "      <td>1.0</td>\n",
       "      <td>1</td>\n",
       "      <td>0</td>\n",
       "      <td>1</td>\n",
       "      <td>1</td>\n",
       "      <td>1</td>\n",
       "      <td>1</td>\n",
       "      <td>1</td>\n",
       "      <td>1</td>\n",
       "      <td>1</td>\n",
       "      <td>0</td>\n",
       "      <td>0</td>\n",
       "      <td>8</td>\n",
       "      <td>0.632166</td>\n",
       "      <td>0.428571</td>\n",
       "      <td>1.0</td>\n",
       "    </tr>\n",
       "    <tr>\n",
       "      <th>7</th>\n",
       "      <td>0.0</td>\n",
       "      <td>1</td>\n",
       "      <td>0</td>\n",
       "      <td>0</td>\n",
       "      <td>0</td>\n",
       "      <td>0</td>\n",
       "      <td>0</td>\n",
       "      <td>0</td>\n",
       "      <td>0</td>\n",
       "      <td>0</td>\n",
       "      <td>0</td>\n",
       "      <td>0</td>\n",
       "      <td>1</td>\n",
       "      <td>0.407738</td>\n",
       "      <td>0.428571</td>\n",
       "      <td>1.0</td>\n",
       "    </tr>\n",
       "    <tr>\n",
       "      <th>9</th>\n",
       "      <td>0.0</td>\n",
       "      <td>1</td>\n",
       "      <td>0</td>\n",
       "      <td>1</td>\n",
       "      <td>0</td>\n",
       "      <td>0</td>\n",
       "      <td>0</td>\n",
       "      <td>0</td>\n",
       "      <td>0</td>\n",
       "      <td>0</td>\n",
       "      <td>0</td>\n",
       "      <td>0</td>\n",
       "      <td>2</td>\n",
       "      <td>0.442782</td>\n",
       "      <td>0.510204</td>\n",
       "      <td>1.0</td>\n",
       "    </tr>\n",
       "    <tr>\n",
       "      <th>11</th>\n",
       "      <td>1.0</td>\n",
       "      <td>1</td>\n",
       "      <td>0</td>\n",
       "      <td>0</td>\n",
       "      <td>0</td>\n",
       "      <td>0</td>\n",
       "      <td>0</td>\n",
       "      <td>0</td>\n",
       "      <td>0</td>\n",
       "      <td>0</td>\n",
       "      <td>0</td>\n",
       "      <td>0</td>\n",
       "      <td>1</td>\n",
       "      <td>0.597198</td>\n",
       "      <td>0.408163</td>\n",
       "      <td>1.0</td>\n",
       "    </tr>\n",
       "    <tr>\n",
       "      <th>15</th>\n",
       "      <td>0.0</td>\n",
       "      <td>0</td>\n",
       "      <td>0</td>\n",
       "      <td>1</td>\n",
       "      <td>1</td>\n",
       "      <td>0</td>\n",
       "      <td>0</td>\n",
       "      <td>1</td>\n",
       "      <td>0</td>\n",
       "      <td>0</td>\n",
       "      <td>0</td>\n",
       "      <td>0</td>\n",
       "      <td>3</td>\n",
       "      <td>0.596742</td>\n",
       "      <td>0.408163</td>\n",
       "      <td>1.0</td>\n",
       "    </tr>\n",
       "  </tbody>\n",
       "</table>\n",
       "</div>"
      ],
      "text/plain": [
       "    Sex  Lag_1  Lag_2  Lag_3  Lag_4  Lag_5  Lag_6  Lag_7  Lag_8  Lag_9  \\\n",
       "Id                                                                       \n",
       "5   1.0      1      0      1      1      1      1      1      1      1   \n",
       "7   0.0      1      0      0      0      0      0      0      0      0   \n",
       "9   0.0      1      0      1      0      0      0      0      0      0   \n",
       "11  1.0      1      0      0      0      0      0      0      0      0   \n",
       "15  0.0      0      0      1      1      0      0      1      0      0   \n",
       "\n",
       "    Lag_10  Lag_11  Num Marathons  Time of Last  Age Last  Dummy  \n",
       "Id                                                                \n",
       "5        0       0              8      0.632166  0.428571    1.0  \n",
       "7        0       0              1      0.407738  0.428571    1.0  \n",
       "9        0       0              2      0.442782  0.510204    1.0  \n",
       "11       0       0              1      0.597198  0.408163    1.0  \n",
       "15       0       0              3      0.596742  0.408163    1.0  "
      ]
     },
     "execution_count": 96,
     "metadata": {},
     "output_type": "execute_result"
    }
   ],
   "source": [
    "test_df.head(5)"
   ]
  },
  {
   "cell_type": "code",
   "execution_count": 103,
   "metadata": {
    "collapsed": false
   },
   "outputs": [
    {
     "data": {
      "text/html": [
       "<div>\n",
       "<table border=\"1\" class=\"dataframe\">\n",
       "  <thead>\n",
       "    <tr>\n",
       "      <th></th>\n",
       "      <th colspan=\"14\" halign=\"left\">Rank</th>\n",
       "      <th colspan=\"14\" halign=\"left\">Age Category</th>\n",
       "      <th colspan=\"14\" halign=\"left\">Time</th>\n",
       "      <th>Num Marathons</th>\n",
       "    </tr>\n",
       "    <tr>\n",
       "      <th>Year</th>\n",
       "      <th>2003</th>\n",
       "      <th>2004</th>\n",
       "      <th>2005</th>\n",
       "      <th>2006</th>\n",
       "      <th>2007</th>\n",
       "      <th>2008</th>\n",
       "      <th>2009</th>\n",
       "      <th>2010</th>\n",
       "      <th>2011</th>\n",
       "      <th>2012</th>\n",
       "      <th>2013</th>\n",
       "      <th>2014</th>\n",
       "      <th>2015</th>\n",
       "      <th>2016</th>\n",
       "      <th>2003</th>\n",
       "      <th>2004</th>\n",
       "      <th>2005</th>\n",
       "      <th>2006</th>\n",
       "      <th>2007</th>\n",
       "      <th>2008</th>\n",
       "      <th>2009</th>\n",
       "      <th>2010</th>\n",
       "      <th>2011</th>\n",
       "      <th>2012</th>\n",
       "      <th>2013</th>\n",
       "      <th>2014</th>\n",
       "      <th>2015</th>\n",
       "      <th>2016</th>\n",
       "      <th>2003</th>\n",
       "      <th>2004</th>\n",
       "      <th>2005</th>\n",
       "      <th>2006</th>\n",
       "      <th>2007</th>\n",
       "      <th>2008</th>\n",
       "      <th>2009</th>\n",
       "      <th>2010</th>\n",
       "      <th>2011</th>\n",
       "      <th>2012</th>\n",
       "      <th>2013</th>\n",
       "      <th>2014</th>\n",
       "      <th>2015</th>\n",
       "      <th>2016</th>\n",
       "      <th></th>\n",
       "    </tr>\n",
       "    <tr>\n",
       "      <th>Id</th>\n",
       "      <th></th>\n",
       "      <th></th>\n",
       "      <th></th>\n",
       "      <th></th>\n",
       "      <th></th>\n",
       "      <th></th>\n",
       "      <th></th>\n",
       "      <th></th>\n",
       "      <th></th>\n",
       "      <th></th>\n",
       "      <th></th>\n",
       "      <th></th>\n",
       "      <th></th>\n",
       "      <th></th>\n",
       "      <th></th>\n",
       "      <th></th>\n",
       "      <th></th>\n",
       "      <th></th>\n",
       "      <th></th>\n",
       "      <th></th>\n",
       "      <th></th>\n",
       "      <th></th>\n",
       "      <th></th>\n",
       "      <th></th>\n",
       "      <th></th>\n",
       "      <th></th>\n",
       "      <th></th>\n",
       "      <th></th>\n",
       "      <th></th>\n",
       "      <th></th>\n",
       "      <th></th>\n",
       "      <th></th>\n",
       "      <th></th>\n",
       "      <th></th>\n",
       "      <th></th>\n",
       "      <th></th>\n",
       "      <th></th>\n",
       "      <th></th>\n",
       "      <th></th>\n",
       "      <th></th>\n",
       "      <th></th>\n",
       "      <th></th>\n",
       "      <th></th>\n",
       "    </tr>\n",
       "  </thead>\n",
       "  <tbody>\n",
       "    <tr>\n",
       "      <th>1</th>\n",
       "      <td>None</td>\n",
       "      <td>None</td>\n",
       "      <td>None</td>\n",
       "      <td>None</td>\n",
       "      <td>None</td>\n",
       "      <td>None</td>\n",
       "      <td>None</td>\n",
       "      <td>None</td>\n",
       "      <td>None</td>\n",
       "      <td>None</td>\n",
       "      <td>None</td>\n",
       "      <td>None</td>\n",
       "      <td>None</td>\n",
       "      <td>1263</td>\n",
       "      <td>None</td>\n",
       "      <td>None</td>\n",
       "      <td>None</td>\n",
       "      <td>None</td>\n",
       "      <td>None</td>\n",
       "      <td>None</td>\n",
       "      <td>None</td>\n",
       "      <td>None</td>\n",
       "      <td>None</td>\n",
       "      <td>None</td>\n",
       "      <td>None</td>\n",
       "      <td>None</td>\n",
       "      <td>None</td>\n",
       "      <td>30</td>\n",
       "      <td>None</td>\n",
       "      <td>None</td>\n",
       "      <td>None</td>\n",
       "      <td>None</td>\n",
       "      <td>None</td>\n",
       "      <td>None</td>\n",
       "      <td>None</td>\n",
       "      <td>None</td>\n",
       "      <td>None</td>\n",
       "      <td>None</td>\n",
       "      <td>None</td>\n",
       "      <td>None</td>\n",
       "      <td>None</td>\n",
       "      <td>0 days 04:15:00</td>\n",
       "      <td>1</td>\n",
       "    </tr>\n",
       "    <tr>\n",
       "      <th>2</th>\n",
       "      <td>None</td>\n",
       "      <td>None</td>\n",
       "      <td>None</td>\n",
       "      <td>None</td>\n",
       "      <td>None</td>\n",
       "      <td>None</td>\n",
       "      <td>None</td>\n",
       "      <td>None</td>\n",
       "      <td>None</td>\n",
       "      <td>None</td>\n",
       "      <td>None</td>\n",
       "      <td>None</td>\n",
       "      <td>None</td>\n",
       "      <td>2289</td>\n",
       "      <td>None</td>\n",
       "      <td>None</td>\n",
       "      <td>None</td>\n",
       "      <td>None</td>\n",
       "      <td>None</td>\n",
       "      <td>None</td>\n",
       "      <td>None</td>\n",
       "      <td>None</td>\n",
       "      <td>None</td>\n",
       "      <td>None</td>\n",
       "      <td>None</td>\n",
       "      <td>None</td>\n",
       "      <td>None</td>\n",
       "      <td>60</td>\n",
       "      <td>None</td>\n",
       "      <td>None</td>\n",
       "      <td>None</td>\n",
       "      <td>None</td>\n",
       "      <td>None</td>\n",
       "      <td>None</td>\n",
       "      <td>None</td>\n",
       "      <td>None</td>\n",
       "      <td>None</td>\n",
       "      <td>None</td>\n",
       "      <td>None</td>\n",
       "      <td>None</td>\n",
       "      <td>None</td>\n",
       "      <td>0 days 05:05:42</td>\n",
       "      <td>1</td>\n",
       "    </tr>\n",
       "    <tr>\n",
       "      <th>3</th>\n",
       "      <td>None</td>\n",
       "      <td>None</td>\n",
       "      <td>None</td>\n",
       "      <td>None</td>\n",
       "      <td>None</td>\n",
       "      <td>None</td>\n",
       "      <td>None</td>\n",
       "      <td>None</td>\n",
       "      <td>None</td>\n",
       "      <td>None</td>\n",
       "      <td>None</td>\n",
       "      <td>None</td>\n",
       "      <td>None</td>\n",
       "      <td>2276</td>\n",
       "      <td>None</td>\n",
       "      <td>None</td>\n",
       "      <td>None</td>\n",
       "      <td>None</td>\n",
       "      <td>None</td>\n",
       "      <td>None</td>\n",
       "      <td>None</td>\n",
       "      <td>None</td>\n",
       "      <td>None</td>\n",
       "      <td>None</td>\n",
       "      <td>None</td>\n",
       "      <td>None</td>\n",
       "      <td>None</td>\n",
       "      <td>30</td>\n",
       "      <td>None</td>\n",
       "      <td>None</td>\n",
       "      <td>None</td>\n",
       "      <td>None</td>\n",
       "      <td>None</td>\n",
       "      <td>None</td>\n",
       "      <td>None</td>\n",
       "      <td>None</td>\n",
       "      <td>None</td>\n",
       "      <td>None</td>\n",
       "      <td>None</td>\n",
       "      <td>None</td>\n",
       "      <td>None</td>\n",
       "      <td>0 days 05:04:34</td>\n",
       "      <td>1</td>\n",
       "    </tr>\n",
       "    <tr>\n",
       "      <th>4</th>\n",
       "      <td>None</td>\n",
       "      <td>None</td>\n",
       "      <td>None</td>\n",
       "      <td>None</td>\n",
       "      <td>None</td>\n",
       "      <td>None</td>\n",
       "      <td>None</td>\n",
       "      <td>None</td>\n",
       "      <td>None</td>\n",
       "      <td>None</td>\n",
       "      <td>None</td>\n",
       "      <td>None</td>\n",
       "      <td>670</td>\n",
       "      <td>2390</td>\n",
       "      <td>None</td>\n",
       "      <td>None</td>\n",
       "      <td>None</td>\n",
       "      <td>None</td>\n",
       "      <td>None</td>\n",
       "      <td>None</td>\n",
       "      <td>None</td>\n",
       "      <td>None</td>\n",
       "      <td>None</td>\n",
       "      <td>None</td>\n",
       "      <td>None</td>\n",
       "      <td>None</td>\n",
       "      <td>35</td>\n",
       "      <td>35</td>\n",
       "      <td>None</td>\n",
       "      <td>None</td>\n",
       "      <td>None</td>\n",
       "      <td>None</td>\n",
       "      <td>None</td>\n",
       "      <td>None</td>\n",
       "      <td>None</td>\n",
       "      <td>None</td>\n",
       "      <td>None</td>\n",
       "      <td>None</td>\n",
       "      <td>None</td>\n",
       "      <td>None</td>\n",
       "      <td>0 days 03:52:57</td>\n",
       "      <td>0 days 05:13:30</td>\n",
       "      <td>2</td>\n",
       "    </tr>\n",
       "    <tr>\n",
       "      <th>5</th>\n",
       "      <td>None</td>\n",
       "      <td>None</td>\n",
       "      <td>None</td>\n",
       "      <td>2013</td>\n",
       "      <td>2002</td>\n",
       "      <td>2343</td>\n",
       "      <td>2415</td>\n",
       "      <td>2455</td>\n",
       "      <td>3140</td>\n",
       "      <td>3329</td>\n",
       "      <td>None</td>\n",
       "      <td>3086</td>\n",
       "      <td>None</td>\n",
       "      <td>2608</td>\n",
       "      <td>None</td>\n",
       "      <td>None</td>\n",
       "      <td>None</td>\n",
       "      <td>34</td>\n",
       "      <td>35</td>\n",
       "      <td>36</td>\n",
       "      <td>37</td>\n",
       "      <td>38</td>\n",
       "      <td>39</td>\n",
       "      <td>40</td>\n",
       "      <td>None</td>\n",
       "      <td>42</td>\n",
       "      <td>None</td>\n",
       "      <td>40</td>\n",
       "      <td>None</td>\n",
       "      <td>None</td>\n",
       "      <td>None</td>\n",
       "      <td>0 days 05:29:32</td>\n",
       "      <td>0 days 05:26:12</td>\n",
       "      <td>0 days 05:28:49</td>\n",
       "      <td>0 days 05:27:27</td>\n",
       "      <td>0 days 05:29:04</td>\n",
       "      <td>0 days 05:28:24</td>\n",
       "      <td>0 days 05:28:35</td>\n",
       "      <td>None</td>\n",
       "      <td>0 days 05:43:14</td>\n",
       "      <td>None</td>\n",
       "      <td>0 days 05:28:34</td>\n",
       "      <td>9</td>\n",
       "    </tr>\n",
       "    <tr>\n",
       "      <th>6</th>\n",
       "      <td>None</td>\n",
       "      <td>None</td>\n",
       "      <td>None</td>\n",
       "      <td>None</td>\n",
       "      <td>None</td>\n",
       "      <td>None</td>\n",
       "      <td>None</td>\n",
       "      <td>None</td>\n",
       "      <td>None</td>\n",
       "      <td>None</td>\n",
       "      <td>None</td>\n",
       "      <td>None</td>\n",
       "      <td>None</td>\n",
       "      <td>1845</td>\n",
       "      <td>None</td>\n",
       "      <td>None</td>\n",
       "      <td>None</td>\n",
       "      <td>None</td>\n",
       "      <td>None</td>\n",
       "      <td>None</td>\n",
       "      <td>None</td>\n",
       "      <td>None</td>\n",
       "      <td>None</td>\n",
       "      <td>None</td>\n",
       "      <td>None</td>\n",
       "      <td>None</td>\n",
       "      <td>None</td>\n",
       "      <td>45</td>\n",
       "      <td>None</td>\n",
       "      <td>None</td>\n",
       "      <td>None</td>\n",
       "      <td>None</td>\n",
       "      <td>None</td>\n",
       "      <td>None</td>\n",
       "      <td>None</td>\n",
       "      <td>None</td>\n",
       "      <td>None</td>\n",
       "      <td>None</td>\n",
       "      <td>None</td>\n",
       "      <td>None</td>\n",
       "      <td>None</td>\n",
       "      <td>0 days 04:42:23</td>\n",
       "      <td>1</td>\n",
       "    </tr>\n",
       "    <tr>\n",
       "      <th>7</th>\n",
       "      <td>None</td>\n",
       "      <td>None</td>\n",
       "      <td>None</td>\n",
       "      <td>None</td>\n",
       "      <td>None</td>\n",
       "      <td>None</td>\n",
       "      <td>None</td>\n",
       "      <td>None</td>\n",
       "      <td>None</td>\n",
       "      <td>None</td>\n",
       "      <td>None</td>\n",
       "      <td>821</td>\n",
       "      <td>None</td>\n",
       "      <td>384</td>\n",
       "      <td>None</td>\n",
       "      <td>None</td>\n",
       "      <td>None</td>\n",
       "      <td>None</td>\n",
       "      <td>None</td>\n",
       "      <td>None</td>\n",
       "      <td>None</td>\n",
       "      <td>None</td>\n",
       "      <td>None</td>\n",
       "      <td>None</td>\n",
       "      <td>None</td>\n",
       "      <td>42</td>\n",
       "      <td>None</td>\n",
       "      <td>40</td>\n",
       "      <td>None</td>\n",
       "      <td>None</td>\n",
       "      <td>None</td>\n",
       "      <td>None</td>\n",
       "      <td>None</td>\n",
       "      <td>None</td>\n",
       "      <td>None</td>\n",
       "      <td>None</td>\n",
       "      <td>None</td>\n",
       "      <td>None</td>\n",
       "      <td>None</td>\n",
       "      <td>0 days 04:04:43</td>\n",
       "      <td>None</td>\n",
       "      <td>0 days 03:36:03</td>\n",
       "      <td>2</td>\n",
       "    </tr>\n",
       "    <tr>\n",
       "      <th>8</th>\n",
       "      <td>None</td>\n",
       "      <td>None</td>\n",
       "      <td>None</td>\n",
       "      <td>None</td>\n",
       "      <td>None</td>\n",
       "      <td>None</td>\n",
       "      <td>None</td>\n",
       "      <td>None</td>\n",
       "      <td>None</td>\n",
       "      <td>None</td>\n",
       "      <td>None</td>\n",
       "      <td>None</td>\n",
       "      <td>None</td>\n",
       "      <td>912</td>\n",
       "      <td>None</td>\n",
       "      <td>None</td>\n",
       "      <td>None</td>\n",
       "      <td>None</td>\n",
       "      <td>None</td>\n",
       "      <td>None</td>\n",
       "      <td>None</td>\n",
       "      <td>None</td>\n",
       "      <td>None</td>\n",
       "      <td>None</td>\n",
       "      <td>None</td>\n",
       "      <td>None</td>\n",
       "      <td>None</td>\n",
       "      <td>30</td>\n",
       "      <td>None</td>\n",
       "      <td>None</td>\n",
       "      <td>None</td>\n",
       "      <td>None</td>\n",
       "      <td>None</td>\n",
       "      <td>None</td>\n",
       "      <td>None</td>\n",
       "      <td>None</td>\n",
       "      <td>None</td>\n",
       "      <td>None</td>\n",
       "      <td>None</td>\n",
       "      <td>None</td>\n",
       "      <td>None</td>\n",
       "      <td>0 days 03:59:14</td>\n",
       "      <td>1</td>\n",
       "    </tr>\n",
       "    <tr>\n",
       "      <th>9</th>\n",
       "      <td>None</td>\n",
       "      <td>None</td>\n",
       "      <td>None</td>\n",
       "      <td>None</td>\n",
       "      <td>None</td>\n",
       "      <td>None</td>\n",
       "      <td>None</td>\n",
       "      <td>None</td>\n",
       "      <td>None</td>\n",
       "      <td>1637</td>\n",
       "      <td>None</td>\n",
       "      <td>2023</td>\n",
       "      <td>1281</td>\n",
       "      <td>2620</td>\n",
       "      <td>None</td>\n",
       "      <td>None</td>\n",
       "      <td>None</td>\n",
       "      <td>None</td>\n",
       "      <td>None</td>\n",
       "      <td>None</td>\n",
       "      <td>None</td>\n",
       "      <td>None</td>\n",
       "      <td>None</td>\n",
       "      <td>50</td>\n",
       "      <td>None</td>\n",
       "      <td>52</td>\n",
       "      <td>50</td>\n",
       "      <td>50</td>\n",
       "      <td>None</td>\n",
       "      <td>None</td>\n",
       "      <td>None</td>\n",
       "      <td>None</td>\n",
       "      <td>None</td>\n",
       "      <td>None</td>\n",
       "      <td>None</td>\n",
       "      <td>None</td>\n",
       "      <td>None</td>\n",
       "      <td>0 days 04:21:11</td>\n",
       "      <td>None</td>\n",
       "      <td>0 days 04:49:36</td>\n",
       "      <td>0 days 04:20:06</td>\n",
       "      <td>0 days 05:29:48</td>\n",
       "      <td>4</td>\n",
       "    </tr>\n",
       "    <tr>\n",
       "      <th>10</th>\n",
       "      <td>None</td>\n",
       "      <td>None</td>\n",
       "      <td>None</td>\n",
       "      <td>None</td>\n",
       "      <td>None</td>\n",
       "      <td>None</td>\n",
       "      <td>None</td>\n",
       "      <td>None</td>\n",
       "      <td>None</td>\n",
       "      <td>None</td>\n",
       "      <td>None</td>\n",
       "      <td>None</td>\n",
       "      <td>None</td>\n",
       "      <td>1934</td>\n",
       "      <td>None</td>\n",
       "      <td>None</td>\n",
       "      <td>None</td>\n",
       "      <td>None</td>\n",
       "      <td>None</td>\n",
       "      <td>None</td>\n",
       "      <td>None</td>\n",
       "      <td>None</td>\n",
       "      <td>None</td>\n",
       "      <td>None</td>\n",
       "      <td>None</td>\n",
       "      <td>None</td>\n",
       "      <td>None</td>\n",
       "      <td>25</td>\n",
       "      <td>None</td>\n",
       "      <td>None</td>\n",
       "      <td>None</td>\n",
       "      <td>None</td>\n",
       "      <td>None</td>\n",
       "      <td>None</td>\n",
       "      <td>None</td>\n",
       "      <td>None</td>\n",
       "      <td>None</td>\n",
       "      <td>None</td>\n",
       "      <td>None</td>\n",
       "      <td>None</td>\n",
       "      <td>None</td>\n",
       "      <td>0 days 04:46:13</td>\n",
       "      <td>1</td>\n",
       "    </tr>\n",
       "  </tbody>\n",
       "</table>\n",
       "</div>"
      ],
      "text/plain": [
       "      Rank                                                                    \\\n",
       "Year  2003  2004  2005  2006  2007  2008  2009  2010  2011  2012  2013  2014   \n",
       "Id                                                                             \n",
       "1     None  None  None  None  None  None  None  None  None  None  None  None   \n",
       "2     None  None  None  None  None  None  None  None  None  None  None  None   \n",
       "3     None  None  None  None  None  None  None  None  None  None  None  None   \n",
       "4     None  None  None  None  None  None  None  None  None  None  None  None   \n",
       "5     None  None  None  2013  2002  2343  2415  2455  3140  3329  None  3086   \n",
       "6     None  None  None  None  None  None  None  None  None  None  None  None   \n",
       "7     None  None  None  None  None  None  None  None  None  None  None   821   \n",
       "8     None  None  None  None  None  None  None  None  None  None  None  None   \n",
       "9     None  None  None  None  None  None  None  None  None  1637  None  2023   \n",
       "10    None  None  None  None  None  None  None  None  None  None  None  None   \n",
       "\n",
       "                 Age Category                                                  \\\n",
       "Year  2015  2016         2003  2004  2005  2006  2007  2008  2009  2010  2011   \n",
       "Id                                                                              \n",
       "1     None  1263         None  None  None  None  None  None  None  None  None   \n",
       "2     None  2289         None  None  None  None  None  None  None  None  None   \n",
       "3     None  2276         None  None  None  None  None  None  None  None  None   \n",
       "4      670  2390         None  None  None  None  None  None  None  None  None   \n",
       "5     None  2608         None  None  None    34    35    36    37    38    39   \n",
       "6     None  1845         None  None  None  None  None  None  None  None  None   \n",
       "7     None   384         None  None  None  None  None  None  None  None  None   \n",
       "8     None   912         None  None  None  None  None  None  None  None  None   \n",
       "9     1281  2620         None  None  None  None  None  None  None  None  None   \n",
       "10    None  1934         None  None  None  None  None  None  None  None  None   \n",
       "\n",
       "                                   Time                               \\\n",
       "Year  2012  2013  2014  2015 2016  2003  2004  2005             2006   \n",
       "Id                                                                     \n",
       "1     None  None  None  None   30  None  None  None             None   \n",
       "2     None  None  None  None   60  None  None  None             None   \n",
       "3     None  None  None  None   30  None  None  None             None   \n",
       "4     None  None  None    35   35  None  None  None             None   \n",
       "5       40  None    42  None   40  None  None  None  0 days 05:29:32   \n",
       "6     None  None  None  None   45  None  None  None             None   \n",
       "7     None  None    42  None   40  None  None  None             None   \n",
       "8     None  None  None  None   30  None  None  None             None   \n",
       "9       50  None    52    50   50  None  None  None             None   \n",
       "10    None  None  None  None   25  None  None  None             None   \n",
       "\n",
       "                                                                          \\\n",
       "Year             2007             2008             2009             2010   \n",
       "Id                                                                         \n",
       "1                None             None             None             None   \n",
       "2                None             None             None             None   \n",
       "3                None             None             None             None   \n",
       "4                None             None             None             None   \n",
       "5     0 days 05:26:12  0 days 05:28:49  0 days 05:27:27  0 days 05:29:04   \n",
       "6                None             None             None             None   \n",
       "7                None             None             None             None   \n",
       "8                None             None             None             None   \n",
       "9                None             None             None             None   \n",
       "10               None             None             None             None   \n",
       "\n",
       "                                                               \\\n",
       "Year             2011             2012  2013             2014   \n",
       "Id                                                              \n",
       "1                None             None  None             None   \n",
       "2                None             None  None             None   \n",
       "3                None             None  None             None   \n",
       "4                None             None  None             None   \n",
       "5     0 days 05:28:24  0 days 05:28:35  None  0 days 05:43:14   \n",
       "6                None             None  None             None   \n",
       "7                None             None  None  0 days 04:04:43   \n",
       "8                None             None  None             None   \n",
       "9                None  0 days 04:21:11  None  0 days 04:49:36   \n",
       "10               None             None  None             None   \n",
       "\n",
       "                                       Num Marathons  \n",
       "Year             2015             2016                \n",
       "Id                                                    \n",
       "1                None  0 days 04:15:00             1  \n",
       "2                None  0 days 05:05:42             1  \n",
       "3                None  0 days 05:04:34             1  \n",
       "4     0 days 03:52:57  0 days 05:13:30             2  \n",
       "5                None  0 days 05:28:34             9  \n",
       "6                None  0 days 04:42:23             1  \n",
       "7                None  0 days 03:36:03             2  \n",
       "8                None  0 days 03:59:14             1  \n",
       "9     0 days 04:20:06  0 days 05:29:48             4  \n",
       "10               None  0 days 04:46:13             1  "
      ]
     },
     "execution_count": 103,
     "metadata": {},
     "output_type": "execute_result"
    }
   ],
   "source": [
    "data_pivot.head(10)"
   ]
  },
  {
   "cell_type": "code",
   "execution_count": 79,
   "metadata": {
    "collapsed": false
   },
   "outputs": [
    {
     "data": {
      "text/plain": [
       "array([-0.43026348, -1.05079811, -0.81775983, -0.70355458, -0.57186026,\n",
       "       -0.51307682, -0.49178621, -0.32266399, -0.26161271,  0.103343  ,\n",
       "        4.96142972,  0.1269915 ,  0.45865171, -0.94778156, -0.99826554,\n",
       "       -2.96402025])"
      ]
     },
     "execution_count": 79,
     "metadata": {},
     "output_type": "execute_result"
    }
   ],
   "source": [
    "my_w"
   ]
  },
  {
   "cell_type": "code",
   "execution_count": 65,
   "metadata": {
    "collapsed": false
   },
   "outputs": [
    {
     "data": {
      "text/plain": [
       "0.69314718055994629"
      ]
     },
     "execution_count": 65,
     "metadata": {},
     "output_type": "execute_result"
    }
   ],
   "source": [
    "error_fxn(np.zeros(16), train_array, y_vect)"
   ]
  },
  {
   "cell_type": "code",
   "execution_count": 66,
   "metadata": {
    "collapsed": false
   },
   "outputs": [
    {
     "data": {
      "text/plain": [
       "1745"
      ]
     },
     "execution_count": 66,
     "metadata": {},
     "output_type": "execute_result"
    }
   ],
   "source": [
    "sum(y_pred)"
   ]
  },
  {
   "cell_type": "code",
   "execution_count": 81,
   "metadata": {
    "collapsed": false
   },
   "outputs": [
    {
     "name": "stdout",
     "output_type": "stream",
     "text": [
      "Loops run = 10001\n",
      "Time = 19.583991050720215\n",
      "Exit delta = 4.76966812449e-07\n",
      "Exit Error = 0.0317536933101\n"
     ]
    },
    {
     "data": {
      "image/png": "[encoded data removed]",
      "text/plain": [
       "<matplotlib.figure.Figure at 0x1154b5f98>"
      ]
     },
     "metadata": {},
     "output_type": "display_data"
    }
   ],
   "source": [
    "my_w, grad_history = grad_descent(w_vect = np.zeros(train_array.shape[1]), \n",
    "                                  x_array = train_array, y_vect = y_vect, \n",
    "                                  step = 1e-4, tol = 1e-8, maxi = 10000)"
   ]
  },
  {
   "cell_type": "code",
   "execution_count": 82,
   "metadata": {
    "collapsed": false
   },
   "outputs": [
    {
     "name": "stdout",
     "output_type": "stream",
     "text": [
      "Predicted Y1 = 1745\n",
      "Accuracy = 1.0\n",
      "Naive Accuracy = 0.933323143938\n",
      "Sensitivity = 1.0\n",
      "Specificity = 1.0\n"
     ]
    }
   ],
   "source": [
    "y_test = get_y(2016, test_df.index)\n",
    "y_pred = predict_y(my_w, test_array)\n",
    "prediction_stats(y_pred, y_test)"
   ]
  },
  {
   "cell_type": "markdown",
   "metadata": {},
   "source": [
    "## K-Fold"
   ]
  },
  {
   "cell_type": "code",
   "execution_count": 62,
   "metadata": {
    "collapsed": false,
    "scrolled": true
   },
   "outputs": [
    {
     "name": "stdout",
     "output_type": "stream",
     "text": [
      "Predicted Y1 = 1745\n",
      "Accuracy = 1.0\n",
      "Naive Accuracy = 0.933323143938\n",
      "Sensitivity = 1.0\n",
      "Specificity = 1.0\n"
     ]
    }
   ],
   "source": [
    "prediction_stats(y_pred, get_y(2016, test_df.index))"
   ]
  },
  {
   "cell_type": "code",
   "execution_count": null,
   "metadata": {
    "collapsed": false
   },
   "outputs": [],
   "source": [
    "y_pred = predict_y(my_w, train_array)\n",
    "\n",
    "print(\"Predicted Y=1: \" + str(sum(y_pred)))\n",
    "print(\"Correct predictions for Y=1: \" + str(sum(y_pred * y_vect)))\n",
    "pred_ratio = ratio_predicted(y_pred, y_vect)\n",
    "print(\"Ratio of correct predictions: \" + str(pred_ratio))\n",
    "print(\"Naive in-sample = \" + str((1 - sum(y_vect)/ len(y_vect))))\n",
    "plt.hist(prob_y_pred, bins = 50)\n",
    "plt.show()"
   ]
  },
  {
   "cell_type": "code",
   "execution_count": null,
   "metadata": {
    "collapsed": false
   },
   "outputs": [],
   "source": [
    "#Lets try k-fold cross validation.\n",
    "#First, we will just perform the cross validation to get an idea of the out-of-sample accuracy of the model,\n",
    "#Then, we will do the cross validation with a hyperparameter of the tolerance in the gradient descent \n",
    "\n",
    "y_df = pd.isnull(data_pivot[\"Rank\"]).iloc[:,(12)].apply(lambda x: 0 if x else 1)\n",
    "\n",
    "\n",
    "k_train_index = random.sample(list(train_df.index),int(np.floor(len(train_df)*0.8)))\n",
    "#Train on 80% of the data (~20k rows)\n",
    "k_train_array= train_df.loc[k_train_index].as_matrix()\n",
    "not_df = train_df.index.isin(k_train_index)\n",
    "k_test_df = train_df[~not_df]\n",
    "k_test_array = k_test_df.as_matrix()\n",
    "#Test with the remaining 20% (~5k rows)\n",
    "\n",
    "k_y_train = y_df.loc[k_train_index].as_matrix()\n",
    "#training y-vector\n",
    "k_y_test = y_df.loc[k_test_df.index].as_matrix()\n",
    "#testing y-vector\n",
    "\n",
    "k_w, k_hist = grad_descent(w_vect = np.zeros(train_array.shape[1]), x_array = k_train_array, \n",
    "                           y_vect = k_y_train, step = 1e-4, tol = 1e-6, maxi = 10000, print_out = False)\n",
    "\n",
    "k_y_pred_train = predict_y(k_w, k_train_array)\n",
    "\n",
    "k_insample = ratio_predicted(k_y_pred_train, k_y_train)\n",
    "\n",
    "print()\n",
    "print(\"In Sample = \" + str(k_insample))\n",
    "print(\"Naive in sample = \" + str((1 - sum(k_y_train)/ len(k_y_train))))\n",
    "print()\n",
    "\n",
    "#Now, let's look at the out of sample! \n",
    "\n",
    "k_y_pred_test = predict_y(k_w, k_test_array)\n",
    "k_oos = ratio_predicted(k_y_pred_test, k_y_test)\n",
    "\n",
    "print(\"Out of Sample = \" + str(k_oos))\n",
    "print(\"Naive Out of Sample = \" + str((1 - sum(k_y_test)/ len(k_y_test))))"
   ]
  },
  {
   "cell_type": "code",
   "execution_count": null,
   "metadata": {
    "collapsed": false
   },
   "outputs": [],
   "source": [
    "#Lets try k-fold cross validation.\n",
    "\n",
    "#TODO: prevent the different folds from overlapping\n",
    "#This is actually bootstrapping rather than k-fold \n",
    "\n",
    "#First, we will just perform the cross validation to get an idea of the out-of-sample accuracy of the model,\n",
    "#Then, we will do the cross validation with a hyperparameter of the tolerance in the gradient descent \n",
    "\n",
    "y_df = pd.isnull(data_pivot[\"Rank\"]).iloc[:,(12)].apply(lambda x: 0 if x else 1)\n",
    "\n",
    "#Randomize rows at beginning, then take the first \n",
    "def kfold(k):\n",
    "    start = time.time()\n",
    "    accuracy = []\n",
    "    \n",
    "    for i in range(1,k):\n",
    "        k_train_index = random.sample(list(train_df.index),int(np.floor(len(train_df)*0.8)))\n",
    "        #Train on 80% of the data (~20k rows)\n",
    "        k_train_array= train_df.loc[k_train_index].as_matrix()\n",
    "        not_df = train_df.index.isin(k_train_index)\n",
    "        k_test_df = train_df[~not_df]\n",
    "        k_test_array = k_test_df.as_matrix()\n",
    "        #Test with the remaining 20% (~5k rows)\n",
    "\n",
    "        k_y_train = y_df.loc[k_train_index].as_matrix()\n",
    "        #training y-vector\n",
    "        k_y_test = y_df.loc[k_test_df.index].as_matrix()\n",
    "        #testing y-vector\n",
    "\n",
    "        k_w, k_hist = grad_descent(w_vect = np.zeros(train_array.shape[1]), x_array = k_train_array, \n",
    "                                   y_vect = k_y_train, step = 1e-4, tol = 1e-6, maxi = 10000, print_out = False)\n",
    "\n",
    "        k_y_pred_train = predict_y(k_w, k_train_array)\n",
    "\n",
    "        k_insample = ratio_predicted(k_y_pred_train, k_y_train)\n",
    "\n",
    "    #     print()\n",
    "    #     print(\"In Sample = \" + str(k_insample))\n",
    "    #     print(\"Naive in sample = \" + str((1 - sum(k_y_train)/ len(k_y_train))))\n",
    "    #     print()\n",
    "\n",
    "        #Now, let's look at the out of sample! \n",
    "\n",
    "        k_y_pred_test = predict_y(k_w, k_test_array)\n",
    "        k_oos = ratio_predicted(k_y_pred_test, k_y_test)\n",
    "        k_oos_naive = (1 - sum(k_y_test)/ len(k_y_test))\n",
    "        accuracy.append((k_oos / k_oos_naive))\n",
    "\n",
    "    #     print(\"Out of Sample = \" + str(k_oos))\n",
    "    #     print(\"Naive Out of Sample = \" + str(k_oos_naive)\n",
    "    print(\"Time Taken = \" + str(time.time() - start))\n",
    "    print(\"Average Accuracy Above Naive = \" + str(np.mean(accuracy)))"
   ]
  },
  {
   "cell_type": "code",
   "execution_count": null,
   "metadata": {
    "collapsed": false
   },
   "outputs": [],
   "source": [
    "test_df[\"Dummies\"] = np.ones(len(test_df))\n",
    "test_df.head()"
   ]
  },
  {
   "cell_type": "code",
   "execution_count": null,
   "metadata": {
    "collapsed": true
   },
   "outputs": [],
   "source": []
  }
 ],
 "metadata": {
  "anaconda-cloud": {},
  "kernelspec": {
   "display_name": "Python [Root]",
   "language": "python",
   "name": "Python [Root]"
  },
  "language_info": {
   "codemirror_mode": {
    "name": "ipython",
    "version": 3
   },
   "file_extension": ".py",
   "mimetype": "text/x-python",
   "name": "python",
   "nbconvert_exporter": "python",
   "pygments_lexer": "ipython3",
   "version": "3.5.2"
  }
 },
 "nbformat": 4,
 "nbformat_minor": 0
}
