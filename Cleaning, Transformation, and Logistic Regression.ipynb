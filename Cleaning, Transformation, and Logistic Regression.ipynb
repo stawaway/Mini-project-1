{
 "cells": [
  {
   "cell_type": "code",
   "execution_count": 67,
   "metadata": {
    "collapsed": false
   },
   "outputs": [
    {
     "name": "stdout",
     "output_type": "stream",
     "text": [
      "sys.version_info(major=3, minor=5, micro=2, releaselevel='final', serial=0)\n"
     ]
    }
   ],
   "source": [
    "import sys\n",
    "%matplotlib inline\n",
    "import matplotlib.pyplot as plt\n",
    "import numpy as np\n",
    "import pandas as pd \n",
    "import time\n",
    "import random\n",
    "pd.set_option('display.max_columns', None)\n",
    "print(sys.version_info)"
   ]
  },
  {
   "cell_type": "markdown",
   "metadata": {},
   "source": [
    "## First: load in the data and do some basic analysis to look for problems"
   ]
  },
  {
   "cell_type": "code",
   "execution_count": 3,
   "metadata": {
    "collapsed": false
   },
   "outputs": [
    {
     "data": {
      "text/html": [
       "<div>\n",
       "<table border=\"1\" class=\"dataframe\">\n",
       "  <thead>\n",
       "    <tr style=\"text-align: right;\">\n",
       "      <th></th>\n",
       "      <th>Id</th>\n",
       "      <th>Name</th>\n",
       "      <th>Age Category</th>\n",
       "      <th>Sex</th>\n",
       "      <th>Rank</th>\n",
       "      <th>Time</th>\n",
       "      <th>Pace</th>\n",
       "      <th>Year</th>\n",
       "    </tr>\n",
       "  </thead>\n",
       "  <tbody>\n",
       "    <tr>\n",
       "      <th>0</th>\n",
       "      <td>1</td>\n",
       "      <td>carlos enrique portugal quintero</td>\n",
       "      <td>30</td>\n",
       "      <td>M</td>\n",
       "      <td>1263</td>\n",
       "      <td>04:15:00</td>\n",
       "      <td>09:44</td>\n",
       "      <td>2016</td>\n",
       "    </tr>\n",
       "    <tr>\n",
       "      <th>1</th>\n",
       "      <td>2</td>\n",
       "      <td>leonel furlan</td>\n",
       "      <td>60</td>\n",
       "      <td>M</td>\n",
       "      <td>2289</td>\n",
       "      <td>05:05:42</td>\n",
       "      <td>11:41</td>\n",
       "      <td>2016</td>\n",
       "    </tr>\n",
       "    <tr>\n",
       "      <th>2</th>\n",
       "      <td>3</td>\n",
       "      <td>meredith gray</td>\n",
       "      <td>30</td>\n",
       "      <td>F</td>\n",
       "      <td>2276</td>\n",
       "      <td>05:04:34</td>\n",
       "      <td>11:38</td>\n",
       "      <td>2016</td>\n",
       "    </tr>\n",
       "    <tr>\n",
       "      <th>3</th>\n",
       "      <td>4</td>\n",
       "      <td>jason ainspan</td>\n",
       "      <td>35</td>\n",
       "      <td>M</td>\n",
       "      <td>670</td>\n",
       "      <td>03:52:57</td>\n",
       "      <td>08:53</td>\n",
       "      <td>2015</td>\n",
       "    </tr>\n",
       "    <tr>\n",
       "      <th>4</th>\n",
       "      <td>4</td>\n",
       "      <td>jason ainspan</td>\n",
       "      <td>35</td>\n",
       "      <td>M</td>\n",
       "      <td>2390</td>\n",
       "      <td>05:13:30</td>\n",
       "      <td>11:58</td>\n",
       "      <td>2016</td>\n",
       "    </tr>\n",
       "  </tbody>\n",
       "</table>\n",
       "</div>"
      ],
      "text/plain": [
       "   Id                              Name  Age Category Sex  Rank     Time  \\\n",
       "0   1  carlos enrique portugal quintero            30   M  1263 04:15:00   \n",
       "1   2                     leonel furlan            60   M  2289 05:05:42   \n",
       "2   3                     meredith gray            30   F  2276 05:04:34   \n",
       "3   4                     jason ainspan            35   M   670 03:52:57   \n",
       "4   4                     jason ainspan            35   M  2390 05:13:30   \n",
       "\n",
       "    Pace  Year  \n",
       "0  09:44  2016  \n",
       "1  11:41  2016  \n",
       "2  11:38  2016  \n",
       "3  08:53  2015  \n",
       "4  11:58  2016  "
      ]
     },
     "execution_count": 3,
     "metadata": {},
     "output_type": "execute_result"
    }
   ],
   "source": [
    "#read in the data\n",
    "marathon_data = pd.read_csv(\"data.csv\")\n",
    "marathon_data = marathon_data.dropna()\n",
    "marathon_data['Time'] = pd.to_timedelta(marathon_data['Time'])\n",
    "marathon_data.head()"
   ]
  },
  {
   "cell_type": "code",
   "execution_count": 7,
   "metadata": {
    "collapsed": false
   },
   "outputs": [
    {
     "data": {
      "text/plain": [
       "7029    #value! #value!\n",
       "3175        aaron allen\n",
       "Name: Name, dtype: object"
      ]
     },
     "execution_count": 7,
     "metadata": {},
     "output_type": "execute_result"
    }
   ],
   "source": [
    "marathon_data[\"Name\"].sort_values().head(2)\n",
    "#We also have this person, who's name is not a valid value"
   ]
  },
  {
   "cell_type": "code",
   "execution_count": 77,
   "metadata": {
    "collapsed": false
   },
   "outputs": [
    {
     "data": {
      "text/plain": [
       "(20, 8)"
      ]
     },
     "execution_count": 77,
     "metadata": {},
     "output_type": "execute_result"
    }
   ],
   "source": [
    "#There are some people with the age set to 0 \n",
    "bad_id_list = list(marathon_data[marathon_data[\"Age Category\"] == 0].index)\n",
    "marathon_data[marathon_data[\"Age Category\"] == 0].shape"
   ]
  },
  {
   "cell_type": "code",
   "execution_count": 78,
   "metadata": {
    "collapsed": false
   },
   "outputs": [
    {
     "data": {
      "text/plain": [
       "(33, 8)"
      ]
     },
     "execution_count": 78,
     "metadata": {},
     "output_type": "execute_result"
    }
   ],
   "source": [
    "#Gender that is not set to M or F\n",
    "for temp_id in list(marathon_data[~ marathon_data[\"Sex\"].isin([\"M\",\"F\"])].index):\n",
    "    bad_id_list.append(temp_id)\n",
    "    #add these people to the blacklist\n",
    "marathon_data[~ marathon_data[\"Sex\"].isin([\"M\",\"F\"])].shape"
   ]
  },
  {
   "cell_type": "code",
   "execution_count": 82,
   "metadata": {
    "collapsed": false
   },
   "outputs": [
    {
     "data": {
      "text/plain": [
       "Name\n",
       "private            347\n",
       "paul schoenlaub     13\n",
       "dtype: int64"
      ]
     },
     "execution_count": 82,
     "metadata": {},
     "output_type": "execute_result"
    }
   ],
   "source": [
    "marathon_data.groupby(\"Name\").size().sort_values(ascending = False).head(2)\n",
    "#Problem with this person"
   ]
  },
  {
   "cell_type": "code",
   "execution_count": 86,
   "metadata": {
    "collapsed": false
   },
   "outputs": [
    {
     "name": "stdout",
     "output_type": "stream",
     "text": [
      "Id\n",
      "3327    347\n",
      "1640     13\n",
      "dtype: int64\n"
     ]
    }
   ],
   "source": [
    "print(marathon_data.groupby(\"Id\").size().sort_values(ascending = False).head(2))\n",
    "bad_id_list.append(list(marathon_data.groupby(\"Id\").size().sort_values(ascending = False).head(1).index)[0])\n",
    "#This is the ID for the private"
   ]
  },
  {
   "cell_type": "code",
   "execution_count": 38,
   "metadata": {
    "collapsed": false
   },
   "outputs": [
    {
     "data": {
      "text/plain": [
       "<matplotlib.axes._subplots.AxesSubplot at 0x1156d9eb8>"
      ]
     },
     "execution_count": 38,
     "metadata": {},
     "output_type": "execute_result"
    },
    {
     "data": {
      "image/png": "[encoded data removed]",
      "text/plain": [
       "<matplotlib.figure.Figure at 0x1187d6be0>"
      ]
     },
     "metadata": {},
     "output_type": "display_data"
    }
   ],
   "source": [
    "(marathon_data[marathon_data[\"Year\"] != 2013][\"Time\"] / pd.Timedelta(minutes = 1)).hist()\n",
    "#Histogram of the finishing times for all years except 2013, in minutes"
   ]
  },
  {
   "cell_type": "code",
   "execution_count": 133,
   "metadata": {
    "collapsed": false
   },
   "outputs": [
    {
     "data": {
      "text/plain": [
       "<matplotlib.axes._subplots.AxesSubplot at 0x119cb3748>"
      ]
     },
     "execution_count": 133,
     "metadata": {},
     "output_type": "execute_result"
    },
    {
     "data": {
      "image/png": "[encoded data removed]",
      "text/plain": [
       "<matplotlib.figure.Figure at 0x11d063c50>"
      ]
     },
     "metadata": {},
     "output_type": "display_data"
    }
   ],
   "source": [
    "(marathon_data.groupby(\"Year\").get_group(2013)[\"Time\"] / pd.Timedelta(minutes = 0.5)).hist()\n",
    "#Histogram of the finishing times for 2013, in minutes"
   ]
  },
  {
   "cell_type": "code",
   "execution_count": 137,
   "metadata": {
    "collapsed": false
   },
   "outputs": [],
   "source": [
    "rows_2013 = marathon_data[marathon_data[\"Year\"] == 2013].index\n",
    "marathon_data.loc[rows_2013,\"Time\"] = marathon_data.loc[rows_2013,\"Time\"] * 2\n",
    "#double the times of the half marathon to better fit with the other data\n",
    "#This is an imperfect solution, but works to a reasonable approximation.. "
   ]
  },
  {
   "cell_type": "code",
   "execution_count": 138,
   "metadata": {
    "collapsed": false
   },
   "outputs": [
    {
     "data": {
      "text/plain": [
       "<matplotlib.axes._subplots.AxesSubplot at 0x11d07e320>"
      ]
     },
     "execution_count": 138,
     "metadata": {},
     "output_type": "execute_result"
    },
    {
     "data": {
      "image/png": "[encoded data removed]",
      "text/plain": [
       "<matplotlib.figure.Figure at 0x11b0e0630>"
      ]
     },
     "metadata": {},
     "output_type": "display_data"
    }
   ],
   "source": [
    "(marathon_data.groupby(\"Year\").get_group(2013)[\"Time\"] / pd.Timedelta(minutes = 1)).hist()"
   ]
  },
  {
   "cell_type": "code",
   "execution_count": 20,
   "metadata": {
    "collapsed": false
   },
   "outputs": [
    {
     "data": {
      "image/png": "[encoded data removed]",
      "text/plain": [
       "<matplotlib.figure.Figure at 0x118503860>"
      ]
     },
     "metadata": {},
     "output_type": "display_data"
    }
   ],
   "source": [
    "marathon_data[\"Age Category\"].hist(bins = 100)\n",
    "plt.xlabel(\"Age\")\n",
    "plt.title(\"Histogram of Ages\")\n",
    "plt.ylabel(\"Frequency\")\n",
    "plt.show()\n",
    "\n",
    "#Note the spikes in frequency of ages at 5-year intervals, starting from 20\n",
    "#We can see that the age category is a mix of binned and true age data\n",
    "#However, as the bins are only 5 years apart and teh data is roughly normal, this doesn't present a problem\n",
    "#We normalize this data to [0,1] later on"
   ]
  },
  {
   "cell_type": "code",
   "execution_count": 84,
   "metadata": {
    "collapsed": false
   },
   "outputs": [
    {
     "data": {
      "text/html": [
       "<div>\n",
       "<table border=\"1\" class=\"dataframe\">\n",
       "  <thead>\n",
       "    <tr style=\"text-align: right;\">\n",
       "      <th></th>\n",
       "      <th>Id</th>\n",
       "      <th>Name</th>\n",
       "      <th>Age Category</th>\n",
       "      <th>Sex</th>\n",
       "      <th>Rank</th>\n",
       "      <th>Time</th>\n",
       "      <th>Pace</th>\n",
       "      <th>Year</th>\n",
       "    </tr>\n",
       "  </thead>\n",
       "  <tbody>\n",
       "    <tr>\n",
       "      <th>33820</th>\n",
       "      <td>25606</td>\n",
       "      <td>robert mbithi</td>\n",
       "      <td>23</td>\n",
       "      <td>M</td>\n",
       "      <td>1</td>\n",
       "      <td>01:05:44</td>\n",
       "      <td>05:01</td>\n",
       "      <td>2013</td>\n",
       "    </tr>\n",
       "    <tr>\n",
       "      <th>31834</th>\n",
       "      <td>23730</td>\n",
       "      <td>danilo briceno</td>\n",
       "      <td>31</td>\n",
       "      <td>M</td>\n",
       "      <td>2</td>\n",
       "      <td>01:10:41</td>\n",
       "      <td>05:23</td>\n",
       "      <td>2013</td>\n",
       "    </tr>\n",
       "    <tr>\n",
       "      <th>30990</th>\n",
       "      <td>22939</td>\n",
       "      <td>fornes jose</td>\n",
       "      <td>27</td>\n",
       "      <td>M</td>\n",
       "      <td>3</td>\n",
       "      <td>01:10:57</td>\n",
       "      <td>05:24</td>\n",
       "      <td>2013</td>\n",
       "    </tr>\n",
       "    <tr>\n",
       "      <th>31504</th>\n",
       "      <td>23420</td>\n",
       "      <td>leo kormanik ii</td>\n",
       "      <td>30</td>\n",
       "      <td>M</td>\n",
       "      <td>3</td>\n",
       "      <td>01:10:57</td>\n",
       "      <td>05:24</td>\n",
       "      <td>2013</td>\n",
       "    </tr>\n",
       "    <tr>\n",
       "      <th>32479</th>\n",
       "      <td>24335</td>\n",
       "      <td>mauricio cruz</td>\n",
       "      <td>17</td>\n",
       "      <td>M</td>\n",
       "      <td>5</td>\n",
       "      <td>01:11:37</td>\n",
       "      <td>05:28</td>\n",
       "      <td>2013</td>\n",
       "    </tr>\n",
       "  </tbody>\n",
       "</table>\n",
       "</div>"
      ],
      "text/plain": [
       "          Id             Name  Age Category Sex  Rank     Time   Pace  Year\n",
       "33820  25606    robert mbithi            23   M     1 01:05:44  05:01  2013\n",
       "31834  23730   danilo briceno            31   M     2 01:10:41  05:23  2013\n",
       "30990  22939      fornes jose            27   M     3 01:10:57  05:24  2013\n",
       "31504  23420  leo kormanik ii            30   M     3 01:10:57  05:24  2013\n",
       "32479  24335    mauricio cruz            17   M     5 01:11:37  05:28  2013"
      ]
     },
     "execution_count": 84,
     "metadata": {},
     "output_type": "execute_result"
    }
   ],
   "source": [
    "marathon_data.sort_values('Time').head()\n",
    "#This looks good (all the very low times are winners of the race, or close to it)"
   ]
  },
  {
   "cell_type": "markdown",
   "metadata": {},
   "source": [
    "## Now, we have clean data but need to extract the features for our models"
   ]
  },
  {
   "cell_type": "code",
   "execution_count": 121,
   "metadata": {
    "collapsed": false
   },
   "outputs": [
    {
     "name": "stdout",
     "output_type": "stream",
     "text": [
      "Number attending in 2016 who also attended in other years = 793\n",
      "Number attending in 2003 who also attended in other years = 502\n",
      "Number attending in 2004 who also attended in other years = 679\n",
      "Number attending in 2005 who also attended in other years = 692\n",
      "Number attending in 2006 who also attended in other years = 780\n",
      "Number attending in 2007 who also attended in other years = 850\n",
      "Number attending in 2008 who also attended in other years = 864\n",
      "Number attending in 2009 who also attended in other years = 1021\n",
      "Number attending in 2010 who also attended in other years = 1093\n",
      "Number attending in 2011 who also attended in other years = 1232\n",
      "Number attending in 2012 who also attended in other years = 1254\n",
      "Number attending in 2013 who also attended in other years = 752\n",
      "Number attending in 2014 who also attended in other years = 1085\n",
      "Number attending in 2015 who also attended in other years = 882\n"
     ]
    }
   ],
   "source": [
    "data_pivot = pd.pivot_table(marathon_data, index = [\"Id\"], columns = \"Year\", values = [\"Rank\",\"Age Category\", \"Time\"], aggfunc= \"first\")\n",
    "\n",
    "data_pivot[\"Num Marathons\"] = data_pivot.apply(lambda x: x.iloc[0:14].count() , axis = 1)\n",
    "for yr in marathon_data.groupby('Year').groups:\n",
    "    print(\"Number attending in \" + str(yr) + \" who also attended in other years = \" + str(sum(data_pivot.loc[np.invert(pd.isnull(data_pivot[\"Rank\"][yr]))][\"Num Marathons\"].apply(lambda x: 1 if x > 1 else 0))))"
   ]
  },
  {
   "cell_type": "code",
   "execution_count": 139,
   "metadata": {
    "collapsed": false,
    "scrolled": true
   },
   "outputs": [],
   "source": [
    "data_pivot = pd.pivot_table(marathon_data, index = [\"Id\"], columns = \"Year\", values = [\"Rank\",\"Age Category\", \"Time\"], aggfunc= \"first\")\n",
    "#A pivot table reshapes the data to be one row per person\n",
    "\n",
    "def create_frame(last_year):\n",
    "    start = time.time()\n",
    "    \n",
    "    #This is the function to create a frame with the relavant features for each runner, given a year\n",
    "    #The basic process is we create a pandas pivot table to help us, then we iterate over this pivot table (mostly using apply)\n",
    "    #to create a new pandas dataframe (new_frame) that contains all relavent features \n",
    "    \n",
    "    #the year we input (last_year) is the last year that we look at (1 year back from current)\n",
    "    #IE, if we are looking to train a model to predict for 2017, we would give 2015 as the last_year, and the features would include all years up to 2015\n",
    "    #Then, to predict for 2017 we input 2016 to include features\n",
    "    \n",
    "    new_frame = pd.DataFrame(data = {\"Id\": marathon_data.Id, \"Sex\": marathon_data.Sex})\n",
    "    new_frame = new_frame.drop_duplicates(\"Id\")\n",
    "    new_frame[\"Sex\"] = pd.get_dummies(new_frame[\"Sex\"])\n",
    "    #1 is male, 0 is female\n",
    "    \n",
    "    new_frame.index = new_frame.Id\n",
    "    \n",
    "    #helper functions\n",
    "    def lastfilled(row):\n",
    "        key = last_year\n",
    "        while pd.isnull(row.loc[key]): \n",
    "            key = key-1\n",
    "            #if (key == 2013):\n",
    "            #    key = key - 1\n",
    "            if (key < 2003): \n",
    "                return None \n",
    "        return (last_year - key + 1)\n",
    "        \n",
    "    def valuelast(row):\n",
    "        key = last_year\n",
    "        while pd.isnull(row.loc[key]): \n",
    "            key = key - 1\n",
    "            #if (key == 2013):\n",
    "            #    key = key - 1\n",
    "            if (key < 2003): \n",
    "                return None\n",
    "        return row.loc[key]\n",
    "    \n",
    "    for i in range(0,(last_year - 2002)):\n",
    "        #Here we iterate over the relavent columns in order to get the dummies for participation\n",
    "        #Each column will be a boolean variable, with a 1 if the runner participated that year, and a 0 otherwise\n",
    "        #the output is expressed in terms of lags: IE, Lag_1 is one year ago, Lag_4 is 4 years ago...\n",
    "        new_frame[\"_\".join((\"Lag\",str(i + 1)))] = pd.isnull(data_pivot[\"Rank\"]).iloc[:,(last_year - 2003 - i)].apply(lambda x: 0 if x else 1)\n",
    "\n",
    "    new_frame[\"Num Marathons\"] = data_pivot.apply(lambda x: x.iloc[0:(last_year - 2002)].count() , axis = 1)\n",
    "    #number of marathons ran\n",
    "    new_frame[\"Years Since Last\"] = data_pivot.apply(lambda x: lastfilled(x[\"Rank\"]), axis = 1)\n",
    "    #years since last ra \n",
    "    new_frame[\"Time of Last\"] = data_pivot.apply(lambda x: valuelast(x[\"Time\"]), axis = 1)\n",
    "    #time of the last marathon they competed in \n",
    "    new_frame[\"Age Last\"] = data_pivot.apply(lambda x: valuelast(x[\"Age Category\"]), axis = 1)\n",
    "    #NOTE: these apply functions are very time-costly. It takes around 60seconds to run this function fully\n",
    "    \n",
    "    #Normalization on the time and age columns\n",
    "    new_frame[\"Time of Last\"] = (new_frame[\"Time of Last\"] - new_frame[\"Time of Last\"].min()) / (new_frame[\"Time of Last\"].max() - new_frame[\"Time of Last\"].min())\n",
    "    new_frame[\"Age Last\"] = (new_frame[\"Age Last\"] - new_frame[\"Age Last\"].min()) / (new_frame[\"Age Last\"].max() - new_frame[\"Age Last\"].min())\n",
    "    \n",
    "    new_frame[\"Dummy\"] = np.ones(len(new_frame))\n",
    "    \n",
    "    del new_frame[\"Id\"]\n",
    "    \n",
    "    print(time.time() - start)\n",
    "    return new_frame"
   ]
  },
  {
   "cell_type": "markdown",
   "metadata": {},
   "source": [
    "## Now: Logistic Regression "
   ]
  },
  {
   "cell_type": "markdown",
   "metadata": {},
   "source": [
    "As logistic regression is a supervised learning model, we need to train the model using a y-vector of instances of correct categorization that we have. This is acomplished by using 2016 as our  categorization year, and using as our features set the data on participation in races from 2003 to 2015. In this case, we exclude all participants who do not have a race between 2003 and 2015 (those who only race in 2016). "
   ]
  },
  {
   "cell_type": "code",
   "execution_count": 140,
   "metadata": {
    "collapsed": false
   },
   "outputs": [],
   "source": [
    "##Here is where we perform the gradient descent\n",
    "def sigmoid(x):\n",
    "    return 1 / (1 + np.exp(-1 * x))\n",
    "\n",
    "def error_fxn(w_vect, x_array, y_vect):\n",
    "    #This function computes the error function, given a weights vector w_vect\n",
    "    #This allow us to call this function repeatedly as we optimize the w_vect through gradient descent\n",
    "    y0 = np.log(sigmoid(x_array.dot(w_vect))).dot(y_vect)\n",
    "    y1 = np.log(1 - sigmoid(x_array.dot(w_vect))).dot(1-y_vect)\n",
    "    return -(y0 + y1) / len(y_vect)\n",
    "\n",
    "def grad_fxn(w_vect, x_array, y_vect): \n",
    "    #This function computes the gradient function, given the weights vector w_vect\n",
    "    return (y_vect - sigmoid(np.dot(x_array, w_vect))).dot(x_array)\n",
    "\n",
    "def grad_descent(w_vect, x_array, y_vect, step, tol, maxi, alpha = 0.5, print_out = True):\n",
    "    start = time.time()\n",
    "    #performs the gradient descent\n",
    "    grad_history = [[w_vect, error_fxn(w_vect, x_array, y_vect)]]\n",
    "    #store all the past values of the w vector and the error function\n",
    "    #(we use this to plot the gradient descent or diagnose problems)\n",
    "    delta = grad_history[0][1]\n",
    "    delta = 1\n",
    "    i = 0\n",
    "    stepi = step\n",
    "    while(delta > tol): \n",
    "        #We continue the descent until the change in error (delta) is less than our tolerance parameter (tol)\n",
    "        w_old = w_vect\n",
    "        w_vect = w_old + stepi * grad_fxn(w_old, x_array, y_vect)\n",
    "        grad_history.append([w_vect, error_fxn(w_vect, x_array, y_vect)])\n",
    "        delta =  grad_history[-2][1] - grad_history[-1][1]\n",
    "        stepi = step / (alpha*i + 1)\n",
    "        #we decrease the step each time to help with convergence\n",
    "        i = i + 1\n",
    "        if(i > maxi):\n",
    "            #We want to end the loop if it has run for two long without converging\n",
    "            break\n",
    "    if(print_out):\n",
    "        print(\"Loops run = \" + str(i))\n",
    "        print(\"Time = \" + str(time.time() - start))\n",
    "        print(\"Exit delta = \" + str(delta))\n",
    "        print(\"Exit Error = \" + str(error_fxn(w_vect, x_array, y_vect)))\n",
    "        plt.plot([i[1] for i in grad_history])\n",
    "        plt.title(\"Gradient Descent\")\n",
    "        plt.xlabel(\"Iteration\")\n",
    "        plt.ylabel(\"Error\")\n",
    "        plt.show()\n",
    "        \n",
    "    return w_vect, grad_history"
   ]
  },
  {
   "cell_type": "code",
   "execution_count": 141,
   "metadata": {
    "collapsed": false,
    "scrolled": false
   },
   "outputs": [],
   "source": [
    "#plot the gradient descent\n",
    "#We are plotting the cost function (y-axis) of each iteration\n",
    "#against the value of one position of the w-vector for that iteration\n",
    "\n",
    "def plot_grads(grad_history):\n",
    "    errs = [i[1] for i in grad_history]\n",
    "    nrows = 5\n",
    "    ncols = 4\n",
    "    fig, axes = plt.subplots(nrows, ncols, figsize = (10,10))\n",
    "    j = 0\n",
    "\n",
    "    for ax in axes.reshape(-1): \n",
    "        ax.plot([i[0][j] for i in grad_history], errs)\n",
    "        j = j+1\n",
    "        if(j >= len(grad_history[0][0])):\n",
    "            break"
   ]
  },
  {
   "cell_type": "markdown",
   "metadata": {},
   "source": [
    "# Train on pre-2015 to get accuracy of model on 2016"
   ]
  },
  {
   "cell_type": "code",
   "execution_count": 142,
   "metadata": {
    "collapsed": false
   },
   "outputs": [],
   "source": [
    "def get_y(year, index): \n",
    "    tempy = pd.isnull(data_pivot[\"Rank\"]).iloc[:,((year - 2003))].apply(lambda x: 0 if x else 1)\n",
    "    tempy = tempy.loc[index]\n",
    "    return tempy.as_matrix()\n",
    "#The other component that we need is our y-vector, which is the participation boolean for 2016\n",
    "\n",
    "def predict_y(w_vect, x_array): \n",
    "    prob_y1 = sigmoid(x_array.dot(w_vect))\n",
    "    #probability\n",
    "    part_y = np.where(prob_y1 > 0.5, 1, 0)\n",
    "    #participation\n",
    "    return part_y\n",
    "\n",
    "def prediction_stats_print(y_pred, y_vect):\n",
    "    #y_pred is the vector of predicted y\n",
    "    #y_vect is the vector of actual values for y \n",
    "    \n",
    "    #prints out the relavent prediction stats\n",
    "    ac = sum(np.invert(np.logical_xor(y_vect, y_pred))) / len(y_vect)\n",
    "    naive_ac = 1 - sum(y_vect) / len(y_vect)\n",
    "    tpos = sum(y_pred * y_vect)\n",
    "    sensitivity = tpos / sum(y_vect)\n",
    "    specificity = (len(y_vect) - sum(np.logical_or(y_vect, y_pred))) / (len(y_vect) - sum(y_vect))\n",
    "    \n",
    "    print(\"Predicted Y1 = \" + str(sum(y_pred)))\n",
    "    print(\"Accuracy = \" + str(ac))\n",
    "    print(\"Naive Accuracy = \" + str(naive_ac))\n",
    "    print(\"Sensitivity = \" + str(sensitivity))\n",
    "    print(\"Specificity = \" + str(specificity))\n",
    "    \n",
    "def prediction_stats(y_pred, y_vect):\n",
    "    #y_pred is the vector of predicted y\n",
    "    #y_vect is the vector of actual values for y \n",
    "    #returns prediction_stats in a list form\n",
    "    ac = sum(np.invert(np.logical_xor(y_vect, y_pred))) / len(y_vect)\n",
    "    naive_ac = 1 - sum(y_test) / len(y_vect)\n",
    "    tpos = sum(y_pred * y_vect)\n",
    "    sensitivity = tpos / sum(y_vect)\n",
    "    specificity = (len(y_vect) - sum(np.logical_or(y_vect, y_pred))) / (len(y_vect) - sum(y_vect))\n",
    "    \n",
    "    return [ac, sensitivity, specificity]"
   ]
  },
  {
   "cell_type": "code",
   "execution_count": 143,
   "metadata": {
    "collapsed": false
   },
   "outputs": [
    {
     "name": "stdout",
     "output_type": "stream",
     "text": [
      "77.13384199142456\n"
     ]
    },
    {
     "data": {
      "text/plain": [
       "(26136, 17)"
      ]
     },
     "execution_count": 143,
     "metadata": {},
     "output_type": "execute_result"
    }
   ],
   "source": [
    "train_df = create_frame(2014)\n",
    "#remove entries where there are no races\n",
    "train_df = train_df[train_df[\"Num Marathons\"] > 0]\n",
    "train_df = train_df[~ train_df.index.isin(bad_id_list)]\n",
    "del train_df[\"Years Since Last\"]\n",
    "train_array = train_df.as_matrix()\n",
    "train_array.shape"
   ]
  },
  {
   "cell_type": "code",
   "execution_count": 144,
   "metadata": {
    "collapsed": false
   },
   "outputs": [
    {
     "name": "stdout",
     "output_type": "stream",
     "text": [
      "78.51866912841797\n"
     ]
    }
   ],
   "source": [
    "test_df = create_frame(2015)\n",
    "test_df = test_df[test_df[\"Num Marathons\"] > 0 ]\n",
    "del test_df[\"Years Since Last\"]\n",
    "del test_df[\"Lag_12\"]\n",
    "test_array = test_df.as_matrix()"
   ]
  },
  {
   "cell_type": "code",
   "execution_count": 145,
   "metadata": {
    "collapsed": false
   },
   "outputs": [
    {
     "data": {
      "text/plain": [
       "<matplotlib.axes._subplots.AxesSubplot at 0x11cfe6748>"
      ]
     },
     "execution_count": 145,
     "metadata": {},
     "output_type": "execute_result"
    },
    {
     "data": {
      "image/png": "[encoded data removed]",
      "text/plain": [
       "<matplotlib.figure.Figure at 0x11cedd978>"
      ]
     },
     "metadata": {},
     "output_type": "display_data"
    }
   ],
   "source": [
    "train_df[\"Time of Last\"].hist(bins = 100)"
   ]
  },
  {
   "cell_type": "code",
   "execution_count": 146,
   "metadata": {
    "collapsed": true
   },
   "outputs": [],
   "source": [
    "y_vect = get_y(2015, train_df.index)"
   ]
  },
  {
   "cell_type": "code",
   "execution_count": null,
   "metadata": {
    "collapsed": false
   },
   "outputs": [],
   "source": [
    "my_w, grad_history = grad_descent(w_vect = np.zeros(train_array.shape[1]), \n",
    "                                  x_array = train_array, y_vect = y_vect, \n",
    "                                  step = 1e-4, tol = 1e-10, maxi = 10000, alpha = 0)"
   ]
  },
  {
   "cell_type": "code",
   "execution_count": null,
   "metadata": {
    "collapsed": false
   },
   "outputs": [],
   "source": [
    "my_w"
   ]
  },
  {
   "cell_type": "code",
   "execution_count": null,
   "metadata": {
    "collapsed": false
   },
   "outputs": [],
   "source": [
    "plot_grads(grad_history)"
   ]
  },
  {
   "cell_type": "code",
   "execution_count": null,
   "metadata": {
    "collapsed": false
   },
   "outputs": [],
   "source": [
    "#Accuracy on 2016 predictions\n",
    "y_test = get_y(2016, test_df.index)\n",
    "y_pred = predict_y(my_w, test_array)\n",
    "prediction_stats_print(y_pred, y_test)"
   ]
  },
  {
   "cell_type": "markdown",
   "metadata": {},
   "source": [
    "## Cross Validate the step sizes"
   ]
  },
  {
   "cell_type": "code",
   "execution_count": null,
   "metadata": {
    "collapsed": true
   },
   "outputs": [],
   "source": [
    "def get_results(test_year, step, tol, alpha, maxi): \n",
    "    #function wrapper that returns the predictions for a given test year, given gradient descent parameters\n",
    "    #to allow us to iterate over these parameters\n",
    "    \n",
    "    my_w, grad_history = grad_descent(w_vect = np.zeros(train_array.shape[1]), \n",
    "                                  x_array = train_array, y_vect = y_vect, \n",
    "                                  step = step, tol = tol, maxi = maxi, alpha = alpha, print_out = False)\n",
    "    \n",
    "    y_pred = predict_y(my_w, test_array)\n",
    "    return prediction_stats(y_pred, y_test)\n",
    "    "
   ]
  },
  {
   "cell_type": "code",
   "execution_count": null,
   "metadata": {
    "collapsed": false
   },
   "outputs": [],
   "source": [
    "alpha_list = np.linspace(0,1,11)\n",
    "results_list = []\n",
    "\n",
    "train_df = create_frame(2014)\n",
    "#remove entries where there are no races\n",
    "train_df = train_df[train_df[\"Num Marathons\"] > 0]\n",
    "train_df = train_df[~ train_df.index.isin(bad_id_list)]\n",
    "#delete the bad IDs from our training data\n",
    "del train_df[\"Years Since Last\"]\n",
    "train_df = train_df[train_df]\n",
    "train_array = train_df.as_matrix()\n",
    "\n",
    "test_df = create_frame(2015)\n",
    "test_df = test_df[test_df[\"Num Marathons\"] > 0 ]\n",
    "del test_df[\"Years Since Last\"]\n",
    "del test_df[\"Lag_12\"]\n",
    "test_array = test_df.as_matrix()\n",
    "\n",
    "y_vect = get_y(2015, train_df.index)\n",
    "y_test = get_y(2016, test_df.index)"
   ]
  },
  {
   "cell_type": "code",
   "execution_count": null,
   "metadata": {
    "collapsed": false
   },
   "outputs": [],
   "source": [
    "#Here, we iterate over the values of alpha, collecting the accuracy of each iteration \n",
    "#We can then use this to determine the optimal value of alpha\n",
    "alpha_list = np.linspace(0.001,.01,10)\n",
    "results_list = []\n",
    "\n",
    "i = 0\n",
    "for alph in alpha_list:\n",
    "    start = time.time()\n",
    "    my_w, grad_history = grad_descent(w_vect = np.zeros(train_array.shape[1]), \n",
    "                                  x_array = train_array, y_vect = y_vect, \n",
    "                                  step = 1e-4, tol = 1e-8, maxi = 10000, alpha = alph, print_out = False)\n",
    "    y_pred = predict_y(my_w, test_array)\n",
    "    results_list.append([alph, prediction_stats(y_pred, y_test)])\n",
    "    print(\"i = \" + str(i) + \", time of loop = \" + str(time.time() - start))\n",
    "    i = i + 1"
   ]
  },
  {
   "cell_type": "code",
   "execution_count": null,
   "metadata": {
    "collapsed": false
   },
   "outputs": [],
   "source": [
    "results_list"
   ]
  },
  {
   "cell_type": "code",
   "execution_count": null,
   "metadata": {
    "collapsed": true
   },
   "outputs": [],
   "source": []
  },
  {
   "cell_type": "code",
   "execution_count": null,
   "metadata": {
    "collapsed": false
   },
   "outputs": [],
   "source": [
    "#Lets try k-fold cross validation.\n",
    "#First, we will just perform the cross validation to get an idea of the out-of-sample accuracy of the model,\n",
    "#Then, we will do the cross validation with a hyperparameter of the tolerance in the gradient descent \n",
    "\n",
    "y_df = pd.isnull(data_pivot[\"Rank\"]).iloc[:,(12)].apply(lambda x: 0 if x else 1)\n",
    "\n",
    "\n",
    "k_train_index = random.sample(list(train_df.index),int(np.floor(len(train_df)*0.8)))\n",
    "#Train on 80% of the data (~20k rows)\n",
    "k_train_array= train_df.loc[k_train_index].as_matrix()\n",
    "not_df = train_df.index.isin(k_train_index)\n",
    "k_test_df = train_df[~not_df]\n",
    "k_test_array = k_test_df.as_matrix()\n",
    "#Test with the remaining 20% (~5k rows)\n",
    "\n",
    "k_y_train = y_df.loc[k_train_index].as_matrix()\n",
    "#training y-vector\n",
    "k_y_test = y_df.loc[k_test_df.index].as_matrix()\n",
    "#testing y-vector\n",
    "\n",
    "k_w, k_hist = grad_descent(w_vect = np.zeros(train_array.shape[1]), x_array = k_train_array, \n",
    "                           y_vect = k_y_train, step = 1e-4, tol = 1e-6, maxi = 10000, print_out = False)\n",
    "\n",
    "k_y_pred_train = predict_y(k_w, k_train_array)\n",
    "\n",
    "k_insample = ratio_predicted(k_y_pred_train, k_y_train)\n",
    "\n",
    "print()\n",
    "print(\"In Sample = \" + str(k_insample))\n",
    "print(\"Naive in sample = \" + str((1 - sum(k_y_train)/ len(k_y_train))))\n",
    "print()\n",
    "\n",
    "#Now, let's look at the out of sample! \n",
    "\n",
    "k_y_pred_test = predict_y(k_w, k_test_array)\n",
    "k_oos = ratio_predicted(k_y_pred_test, k_y_test)\n",
    "\n",
    "print(\"Out of Sample = \" + str(k_oos))\n",
    "print(\"Naive Out of Sample = \" + str((1 - sum(k_y_test)/ len(k_y_test))))"
   ]
  },
  {
   "cell_type": "code",
   "execution_count": null,
   "metadata": {
    "collapsed": false
   },
   "outputs": [],
   "source": [
    "#Lets try k-fold cross validation.\n",
    "\n",
    "#TODO: prevent the different folds from overlapping\n",
    "#This is actually bootstrapping rather than k-fold \n",
    "\n",
    "#First, we will just perform the cross validation to get an idea of the out-of-sample accuracy of the model,\n",
    "#Then, we will do the cross validation with a hyperparameter of the tolerance in the gradient descent \n",
    "\n",
    "y_df = pd.isnull(data_pivot[\"Rank\"]).iloc[:,(12)].apply(lambda x: 0 if x else 1)\n",
    "\n",
    "train_df_rand = train_df.reindex(np.random.permutation(train_df.index))\n",
    "#reindex the dataframe in random order\n",
    "\n",
    "\n",
    "#Randomize rows at beginning, then take the first \n",
    "def kfold(k):\n",
    "    start = time.time()\n",
    "    accuracy = []\n",
    "    \n",
    "    for i in range(1,k):\n",
    "        k_train_index = random.sample(list(train_df.index),int(np.floor(len(train_df)*0.8)))\n",
    "        #Train on 80% of the data (~20k rows)\n",
    "        k_train_array= train_df.loc[k_train_index].as_matrix()\n",
    "        not_df = train_df.index.isin(k_train_index)\n",
    "        k_test_df = train_df[~not_df]\n",
    "        k_test_array = k_test_df.as_matrix()\n",
    "        #Test with the remaining 20% (~5k rows)\n",
    "\n",
    "        k_y_train = y_df.loc[k_train_index].as_matrix()\n",
    "        #training y-vector\n",
    "        k_y_test = y_df.loc[k_test_df.index].as_matrix()\n",
    "        #testing y-vector\n",
    "\n",
    "        k_w, k_hist = grad_descent(w_vect = np.zeros(train_array.shape[1]), x_array = k_train_array, \n",
    "                                   y_vect = k_y_train, step = 1e-4, tol = 1e-6, maxi = 10000, print_out = False)\n",
    "\n",
    "        k_y_pred_train = predict_y(k_w, k_train_array)\n",
    "\n",
    "        k_insample = ratio_predicted(k_y_pred_train, k_y_train)\n",
    "\n",
    "    #     print()\n",
    "    #     print(\"In Sample = \" + str(k_insample))\n",
    "    #     print(\"Naive in sample = \" + str((1 - sum(k_y_train)/ len(k_y_train))))\n",
    "    #     print()\n",
    "\n",
    "        #Now, let's look at the out of sample! \n",
    "\n",
    "        k_y_pred_test = predict_y(k_w, k_test_array)\n",
    "        k_oos = ratio_predicted(k_y_pred_test, k_y_test)\n",
    "        k_oos_naive = (1 - sum(k_y_test)/ len(k_y_test))\n",
    "        accuracy.append((k_oos / k_oos_naive))\n",
    "\n",
    "    #     print(\"Out of Sample = \" + str(k_oos))\n",
    "    #     print(\"Naive Out of Sample = \" + str(k_oos_naive)\n",
    "    print(\"Time Taken = \" + str(time.time() - start))\n",
    "    print(\"Average Accuracy Above Naive = \" + str(np.mean(accuracy)))"
   ]
  },
  {
   "cell_type": "code",
   "execution_count": null,
   "metadata": {
    "collapsed": false
   },
   "outputs": [],
   "source": [
    "train_df.loc[[3327]]"
   ]
  },
  {
   "cell_type": "code",
   "execution_count": null,
   "metadata": {
    "collapsed": false
   },
   "outputs": [],
   "source": [
    "train_df = train_df[train_df.index != 3327]"
   ]
  },
  {
   "cell_type": "code",
   "execution_count": null,
   "metadata": {
    "collapsed": false
   },
   "outputs": [],
   "source": [
    "train_df.loc[[3327]]"
   ]
  },
  {
   "cell_type": "code",
   "execution_count": null,
   "metadata": {
    "collapsed": true
   },
   "outputs": [],
   "source": []
  }
 ],
 "metadata": {
  "anaconda-cloud": {},
  "kernelspec": {
   "display_name": "Python [Root]",
   "language": "python",
   "name": "Python [Root]"
  },
  "language_info": {
   "codemirror_mode": {
    "name": "ipython",
    "version": 3
   },
   "file_extension": ".py",
   "mimetype": "text/x-python",
   "name": "python",
   "nbconvert_exporter": "python",
   "pygments_lexer": "ipython3",
   "version": "3.5.2"
  }
 },
 "nbformat": 4,
 "nbformat_minor": 0
}
