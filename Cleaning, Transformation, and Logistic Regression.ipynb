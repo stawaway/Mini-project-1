{
 "cells": [
  {
   "cell_type": "code",
   "execution_count": 216,
   "metadata": {
    "collapsed": false
   },
   "outputs": [],
   "source": [
    "import sys\n",
    "sys.version_info\n",
    "%matplotlib inline\n",
    "import matplotlib.pyplot as plt\n",
    "import numpy as np\n",
    "import pandas as pd \n",
    "import time"
   ]
  },
  {
   "cell_type": "code",
   "execution_count": 230,
   "metadata": {
    "collapsed": false
   },
   "outputs": [],
   "source": [
    "pd.set_option('display.max_columns', None)"
   ]
  },
  {
   "cell_type": "markdown",
   "metadata": {},
   "source": [
    "## First: load in our data and do some basic analysis to look for problems"
   ]
  },
  {
   "cell_type": "code",
   "execution_count": 218,
   "metadata": {
    "collapsed": false
   },
   "outputs": [
    {
     "data": {
      "text/html": [
       "<div>\n",
       "<table border=\"1\" class=\"dataframe\">\n",
       "  <thead>\n",
       "    <tr style=\"text-align: right;\">\n",
       "      <th></th>\n",
       "      <th>Id</th>\n",
       "      <th>Name</th>\n",
       "      <th>Age Category</th>\n",
       "      <th>Sex</th>\n",
       "      <th>Rank</th>\n",
       "      <th>Time</th>\n",
       "      <th>Pace</th>\n",
       "      <th>Year</th>\n",
       "    </tr>\n",
       "  </thead>\n",
       "  <tbody>\n",
       "    <tr>\n",
       "      <th>0</th>\n",
       "      <td>1</td>\n",
       "      <td>carlos enrique portugal quintero</td>\n",
       "      <td>30</td>\n",
       "      <td>M</td>\n",
       "      <td>1263</td>\n",
       "      <td>04:15:00</td>\n",
       "      <td>09:44</td>\n",
       "      <td>2016</td>\n",
       "    </tr>\n",
       "    <tr>\n",
       "      <th>1</th>\n",
       "      <td>2</td>\n",
       "      <td>leonel furlan</td>\n",
       "      <td>60</td>\n",
       "      <td>M</td>\n",
       "      <td>2289</td>\n",
       "      <td>05:05:42</td>\n",
       "      <td>11:41</td>\n",
       "      <td>2016</td>\n",
       "    </tr>\n",
       "    <tr>\n",
       "      <th>2</th>\n",
       "      <td>3</td>\n",
       "      <td>meredith gray</td>\n",
       "      <td>30</td>\n",
       "      <td>F</td>\n",
       "      <td>2276</td>\n",
       "      <td>05:04:34</td>\n",
       "      <td>11:38</td>\n",
       "      <td>2016</td>\n",
       "    </tr>\n",
       "    <tr>\n",
       "      <th>3</th>\n",
       "      <td>4</td>\n",
       "      <td>jason ainspan</td>\n",
       "      <td>35</td>\n",
       "      <td>M</td>\n",
       "      <td>670</td>\n",
       "      <td>03:52:57</td>\n",
       "      <td>08:53</td>\n",
       "      <td>2015</td>\n",
       "    </tr>\n",
       "    <tr>\n",
       "      <th>4</th>\n",
       "      <td>4</td>\n",
       "      <td>jason ainspan</td>\n",
       "      <td>35</td>\n",
       "      <td>M</td>\n",
       "      <td>2390</td>\n",
       "      <td>05:13:30</td>\n",
       "      <td>11:58</td>\n",
       "      <td>2016</td>\n",
       "    </tr>\n",
       "  </tbody>\n",
       "</table>\n",
       "</div>"
      ],
      "text/plain": [
       "   Id                              Name  Age Category Sex  Rank     Time  \\\n",
       "0   1  carlos enrique portugal quintero            30   M  1263 04:15:00   \n",
       "1   2                     leonel furlan            60   M  2289 05:05:42   \n",
       "2   3                     meredith gray            30   F  2276 05:04:34   \n",
       "3   4                     jason ainspan            35   M   670 03:52:57   \n",
       "4   4                     jason ainspan            35   M  2390 05:13:30   \n",
       "\n",
       "    Pace  Year  \n",
       "0  09:44  2016  \n",
       "1  11:41  2016  \n",
       "2  11:38  2016  \n",
       "3  08:53  2015  \n",
       "4  11:58  2016  "
      ]
     },
     "execution_count": 218,
     "metadata": {},
     "output_type": "execute_result"
    }
   ],
   "source": [
    "#read in the data\n",
    "marathon_data = pd.read_csv(\"data.csv\")\n",
    "marathon_data = marathon_data.dropna()\n",
    "marathon_data['Time'] = pd.to_timedelta(marathon_data['Time'])\n",
    "marathon_data.head()"
   ]
  },
  {
   "cell_type": "code",
   "execution_count": 219,
   "metadata": {
    "collapsed": false
   },
   "outputs": [
    {
     "name": "stdout",
     "output_type": "stream",
     "text": [
      "2016 0 days 04:32:55.103116\n",
      "2003 0 days 04:18:00.990378\n",
      "2004 0 days 04:28:34.934463\n",
      "2005 0 days 04:25:55.415105\n",
      "2006 0 days 04:37:25.943564\n",
      "2007 0 days 04:43:34.228222\n",
      "2008 0 days 04:28:04.394986\n",
      "2009 0 days 04:29:01.636166\n",
      "2010 0 days 04:36:43.382291\n",
      "2011 0 days 04:27:12.712468\n",
      "2012 0 days 04:35:52.052658\n",
      "2013 0 days 01:51:27.648069\n",
      "2014 0 days 04:43:50.870375\n",
      "2015 0 days 04:30:48.480377\n"
     ]
    }
   ],
   "source": [
    "for yr in marathon_data.groupby('Year').groups: \n",
    "    print(yr, str(marathon_data.groupby('Year').get_group(yr)['Time'].mean()))\n",
    "#here, we are trying to figure out which year was the half marathon (2013)\n",
    "#Let's drop that year\n",
    "marathon_data = marathon_data[marathon_data.Year != 2013]\n",
    "#marathon_data.Year.value_counts()"
   ]
  },
  {
   "cell_type": "code",
   "execution_count": 220,
   "metadata": {
    "collapsed": false
   },
   "outputs": [],
   "source": [
    "##Do we want to remove the entries without valid name?\n",
    "\n",
    "#marathon_data.Name.value_counts().sort_values().tail()\n",
    "#Note: we see that some of the participants have the name set to private. we should probably drop these \n",
    "#marathon_data = marathon_data[marathon_data.Name != \"private\"]\n",
    "#marathon_data.Name.value_counts().sort_values().tail()\n",
    "#marathon_data = marathon_data[marathon_data.Name.str.contains(\"#\") == False]\n",
    "#get rid of one garbage name"
   ]
  },
  {
   "cell_type": "code",
   "execution_count": 221,
   "metadata": {
    "collapsed": false
   },
   "outputs": [
    {
     "data": {
      "text/html": [
       "<div>\n",
       "<table border=\"1\" class=\"dataframe\">\n",
       "  <thead>\n",
       "    <tr style=\"text-align: right;\">\n",
       "      <th></th>\n",
       "      <th>Id</th>\n",
       "      <th>Name</th>\n",
       "      <th>Age Category</th>\n",
       "      <th>Sex</th>\n",
       "      <th>Rank</th>\n",
       "      <th>Time</th>\n",
       "      <th>Pace</th>\n",
       "      <th>Year</th>\n",
       "    </tr>\n",
       "  </thead>\n",
       "  <tbody>\n",
       "    <tr>\n",
       "      <th>5268</th>\n",
       "      <td>3243</td>\n",
       "      <td>david ruto</td>\n",
       "      <td>23</td>\n",
       "      <td>M</td>\n",
       "      <td>1</td>\n",
       "      <td>02:12:22</td>\n",
       "      <td>05:03</td>\n",
       "      <td>2003</td>\n",
       "    </tr>\n",
       "    <tr>\n",
       "      <th>7631</th>\n",
       "      <td>4390</td>\n",
       "      <td>otavio dos santos p</td>\n",
       "      <td>29</td>\n",
       "      <td>M</td>\n",
       "      <td>2</td>\n",
       "      <td>02:12:23</td>\n",
       "      <td>05:03</td>\n",
       "      <td>2003</td>\n",
       "    </tr>\n",
       "    <tr>\n",
       "      <th>6621</th>\n",
       "      <td>3816</td>\n",
       "      <td>kiplimo rono</td>\n",
       "      <td>32</td>\n",
       "      <td>M</td>\n",
       "      <td>3</td>\n",
       "      <td>02:12:40</td>\n",
       "      <td>05:03</td>\n",
       "      <td>2003</td>\n",
       "    </tr>\n",
       "    <tr>\n",
       "      <th>24807</th>\n",
       "      <td>17531</td>\n",
       "      <td>tesfaye alemayehu</td>\n",
       "      <td>25</td>\n",
       "      <td>M</td>\n",
       "      <td>1</td>\n",
       "      <td>02:12:57</td>\n",
       "      <td>05:04</td>\n",
       "      <td>2011</td>\n",
       "    </tr>\n",
       "    <tr>\n",
       "      <th>8341</th>\n",
       "      <td>4853</td>\n",
       "      <td>william gomez amori</td>\n",
       "      <td>25</td>\n",
       "      <td>M</td>\n",
       "      <td>1</td>\n",
       "      <td>02:14:42</td>\n",
       "      <td>05:08</td>\n",
       "      <td>2004</td>\n",
       "    </tr>\n",
       "  </tbody>\n",
       "</table>\n",
       "</div>"
      ],
      "text/plain": [
       "          Id                 Name  Age Category Sex  Rank     Time   Pace  \\\n",
       "5268    3243           david ruto            23   M     1 02:12:22  05:03   \n",
       "7631    4390  otavio dos santos p            29   M     2 02:12:23  05:03   \n",
       "6621    3816         kiplimo rono            32   M     3 02:12:40  05:03   \n",
       "24807  17531    tesfaye alemayehu            25   M     1 02:12:57  05:04   \n",
       "8341    4853  william gomez amori            25   M     1 02:14:42  05:08   \n",
       "\n",
       "       Year  \n",
       "5268   2003  \n",
       "7631   2003  \n",
       "6621   2003  \n",
       "24807  2011  \n",
       "8341   2004  "
      ]
     },
     "execution_count": 221,
     "metadata": {},
     "output_type": "execute_result"
    }
   ],
   "source": [
    "marathon_data.sort_values('Time').head()\n",
    "#This looks good (all the very low times are winners of the race, or close to it)"
   ]
  },
  {
   "cell_type": "code",
   "execution_count": 232,
   "metadata": {
    "collapsed": false
   },
   "outputs": [
    {
     "data": {
      "text/plain": [
       "Name\n",
       "matt duncan         12\n",
       "mike culp           12\n",
       "juan carson         12\n",
       "joseph scott        12\n",
       "kenneth royster     12\n",
       "dennis marsella     12\n",
       "wayne wright        12\n",
       "mark platt          12\n",
       "tammy lopez         13\n",
       "tony jones          13\n",
       "alan bloom          13\n",
       "norberto milan      13\n",
       "paul schoenlaub     13\n",
       "alexis garcia       13\n",
       "private            301\n",
       "dtype: int64"
      ]
     },
     "execution_count": 232,
     "metadata": {},
     "output_type": "execute_result"
    }
   ],
   "source": [
    "marathon_data.groupby('Name').size().sort_values().tail(15)\n",
    "#This is reasonable, we se that some people participated in the marathon each year that it occured"
   ]
  },
  {
   "cell_type": "markdown",
   "metadata": {},
   "source": [
    "## Now, we have clean data but need to extract the features for our models"
   ]
  },
  {
   "cell_type": "code",
   "execution_count": 301,
   "metadata": {
    "collapsed": false,
    "scrolled": true
   },
   "outputs": [],
   "source": [
    "data_pivot = pd.pivot_table(marathon_data, index = [\"Id\"], columns = \"Year\", values = [\"Rank\",\"Age Category\", \"Time\"], aggfunc= \"first\")\n",
    "\n",
    "\n",
    "def create_frame(last_year):\n",
    "    start = time.time()\n",
    "    \n",
    "    #This is the function to create a frame with the relavant features for each runner, given a year\n",
    "    #The basic process is we create a pandas pivot table to help us, then we iterate over this pivot table (mostly using apply)\n",
    "    #to create a new pandas dataframe (new_frame) that contains all relavent features \n",
    "    \n",
    "    #the year we input (last_year) is the last year that we look at (1 year back from current)\n",
    "    #IE, if we are looking to predict for 2017, we would give 2016 as the last_year, and the features would include all years up to 2016\n",
    "    \n",
    "    new_frame = pd.DataFrame(data = {\"Id\": marathon_data.Id, \"Sex\": marathon_data.Sex})\n",
    "    new_frame = working_frame.drop_duplicates(\"Id\")\n",
    "    new_frame[\"Sex\"] = pd.get_dummies(working_frame[\"Sex\"])\n",
    "    #1 is male, 0 is female\n",
    "    \n",
    "    new_frame.index = new_frame.Id\n",
    "    \n",
    "    #helper functions\n",
    "    def lastfilled(row):\n",
    "        key = last_year\n",
    "        while pd.isnull(row.loc[key]): \n",
    "            key = key-1\n",
    "            if (key == 2013):\n",
    "                key = key - 1\n",
    "            if (key < 2003): \n",
    "                return None \n",
    "        return (last_year - key + 1)\n",
    "        \n",
    "    def valuelast(row):\n",
    "        key = last_year\n",
    "        while pd.isnull(row.loc[key]): \n",
    "            key = key - 1\n",
    "            if (key == 2013):\n",
    "                key = key - 1\n",
    "            if (key < 2003): \n",
    "                return None\n",
    "        return row.loc[key]\n",
    "    \n",
    "    \n",
    "    for i in range(0,(last_year - 2003)):\n",
    "        #Here we iterate over the relavent columns in order to get the dummies for participation\n",
    "        #Each column will be a boolean variable, with a 0 if the runner participated that year, and a 0 otherwise\n",
    "        #the output is expressed in terms of lags: IE, Lag_1 is one year ago, Lag_4 is 4 years ago...\n",
    "        new_frame[\"_\".join((\"Lag\",str(i + 1)))] = pd.isnull(data_pivot[\"Rank\"]).iloc[:,(last_year - 2004 - i)].apply(lambda x: 0 if x else 1)\n",
    "\n",
    "    new_frame[\"Num Marathons\"] = data_pivot.apply(lambda x: x.iloc[0:(last_year - 2003)].count() , axis = 1)\n",
    "    #number of marathons ran\n",
    "    new_frame[\"Years Since Last\"] = data_pivot.apply(lambda x: lastfilled(x[\"Rank\"]), axis = 1)\n",
    "    #years since last ra \n",
    "    new_frame[\"Time of Last\"] = data_pivot.apply(lambda x: valuelast(x[\"Time\"]), axis = 1)\n",
    "    #time of the last marathon they competed in \n",
    "    new_frame[\"Age Last\"] = data_pivot.apply(lambda x: valuelast(x[\"Age Category\"]), axis = 1)\n",
    "    #NOTE: these apply functions are very time-costly. It takes around 60seconds to run this function fully\n",
    "    #It would be possible to optimize this, but I am not sure if it is worth my time\n",
    "    \n",
    "    #Normalization on the time column \n",
    "    new_frame[\"Time of Last\"] = (new_frame[\"Time of Last\"] - new_frame[\"Time of Last\"].min()) / (new_frame[\"Time of Last\"].max() - new_frame[\"Time of Last\"].min())\n",
    "    \n",
    "    del new_frame[\"Id\"]\n",
    "    \n",
    "    print(time.time() - start)\n",
    "    return new_frame"
   ]
  },
  {
   "cell_type": "code",
   "execution_count": 247,
   "metadata": {
    "collapsed": false
   },
   "outputs": [
    {
     "name": "stdout",
     "output_type": "stream",
     "text": [
      "59.192607164382935\n"
     ]
    }
   ],
   "source": [
    "my_frame = create_frame(2015)"
   ]
  },
  {
   "cell_type": "code",
   "execution_count": 253,
   "metadata": {
    "collapsed": false
   },
   "outputs": [
    {
     "data": {
      "text/html": [
       "<div>\n",
       "<table border=\"1\" class=\"dataframe\">\n",
       "  <thead>\n",
       "    <tr style=\"text-align: right;\">\n",
       "      <th></th>\n",
       "      <th>Id</th>\n",
       "      <th>Sex</th>\n",
       "      <th>Lag_1</th>\n",
       "      <th>Lag_2</th>\n",
       "      <th>Lag_3</th>\n",
       "      <th>Lag_4</th>\n",
       "      <th>Lag_5</th>\n",
       "      <th>Lag_6</th>\n",
       "      <th>Lag_7</th>\n",
       "      <th>Lag_8</th>\n",
       "      <th>Lag_9</th>\n",
       "      <th>Lag_10</th>\n",
       "      <th>Lag_11</th>\n",
       "      <th>Lag_12</th>\n",
       "      <th>Num Marathons</th>\n",
       "      <th>Years Since Last</th>\n",
       "      <th>Time of Last</th>\n",
       "      <th>Age Last</th>\n",
       "    </tr>\n",
       "    <tr>\n",
       "      <th>Id</th>\n",
       "      <th></th>\n",
       "      <th></th>\n",
       "      <th></th>\n",
       "      <th></th>\n",
       "      <th></th>\n",
       "      <th></th>\n",
       "      <th></th>\n",
       "      <th></th>\n",
       "      <th></th>\n",
       "      <th></th>\n",
       "      <th></th>\n",
       "      <th></th>\n",
       "      <th></th>\n",
       "      <th></th>\n",
       "      <th></th>\n",
       "      <th></th>\n",
       "      <th></th>\n",
       "      <th></th>\n",
       "    </tr>\n",
       "  </thead>\n",
       "  <tbody>\n",
       "    <tr>\n",
       "      <th>1</th>\n",
       "      <td>1</td>\n",
       "      <td>1.0</td>\n",
       "      <td>0</td>\n",
       "      <td>0</td>\n",
       "      <td>0</td>\n",
       "      <td>0</td>\n",
       "      <td>0</td>\n",
       "      <td>0</td>\n",
       "      <td>0</td>\n",
       "      <td>0</td>\n",
       "      <td>0</td>\n",
       "      <td>0</td>\n",
       "      <td>0</td>\n",
       "      <td>0</td>\n",
       "      <td>0</td>\n",
       "      <td>NaN</td>\n",
       "      <td>NaT</td>\n",
       "      <td>NaN</td>\n",
       "    </tr>\n",
       "    <tr>\n",
       "      <th>2</th>\n",
       "      <td>2</td>\n",
       "      <td>1.0</td>\n",
       "      <td>0</td>\n",
       "      <td>0</td>\n",
       "      <td>0</td>\n",
       "      <td>0</td>\n",
       "      <td>0</td>\n",
       "      <td>0</td>\n",
       "      <td>0</td>\n",
       "      <td>0</td>\n",
       "      <td>0</td>\n",
       "      <td>0</td>\n",
       "      <td>0</td>\n",
       "      <td>0</td>\n",
       "      <td>0</td>\n",
       "      <td>NaN</td>\n",
       "      <td>NaT</td>\n",
       "      <td>NaN</td>\n",
       "    </tr>\n",
       "    <tr>\n",
       "      <th>3</th>\n",
       "      <td>3</td>\n",
       "      <td>0.0</td>\n",
       "      <td>0</td>\n",
       "      <td>0</td>\n",
       "      <td>0</td>\n",
       "      <td>0</td>\n",
       "      <td>0</td>\n",
       "      <td>0</td>\n",
       "      <td>0</td>\n",
       "      <td>0</td>\n",
       "      <td>0</td>\n",
       "      <td>0</td>\n",
       "      <td>0</td>\n",
       "      <td>0</td>\n",
       "      <td>0</td>\n",
       "      <td>NaN</td>\n",
       "      <td>NaT</td>\n",
       "      <td>NaN</td>\n",
       "    </tr>\n",
       "    <tr>\n",
       "      <th>4</th>\n",
       "      <td>4</td>\n",
       "      <td>1.0</td>\n",
       "      <td>1</td>\n",
       "      <td>0</td>\n",
       "      <td>0</td>\n",
       "      <td>0</td>\n",
       "      <td>0</td>\n",
       "      <td>0</td>\n",
       "      <td>0</td>\n",
       "      <td>0</td>\n",
       "      <td>0</td>\n",
       "      <td>0</td>\n",
       "      <td>0</td>\n",
       "      <td>0</td>\n",
       "      <td>1</td>\n",
       "      <td>1.0</td>\n",
       "      <td>03:52:57</td>\n",
       "      <td>35.0</td>\n",
       "    </tr>\n",
       "    <tr>\n",
       "      <th>5</th>\n",
       "      <td>5</td>\n",
       "      <td>0.0</td>\n",
       "      <td>0</td>\n",
       "      <td>1</td>\n",
       "      <td>1</td>\n",
       "      <td>1</td>\n",
       "      <td>1</td>\n",
       "      <td>1</td>\n",
       "      <td>1</td>\n",
       "      <td>1</td>\n",
       "      <td>1</td>\n",
       "      <td>0</td>\n",
       "      <td>0</td>\n",
       "      <td>0</td>\n",
       "      <td>8</td>\n",
       "      <td>2.0</td>\n",
       "      <td>05:43:14</td>\n",
       "      <td>42.0</td>\n",
       "    </tr>\n",
       "  </tbody>\n",
       "</table>\n",
       "</div>"
      ],
      "text/plain": [
       "    Id  Sex  Lag_1  Lag_2  Lag_3  Lag_4  Lag_5  Lag_6  Lag_7  Lag_8  Lag_9  \\\n",
       "Id                                                                           \n",
       "1    1  1.0      0      0      0      0      0      0      0      0      0   \n",
       "2    2  1.0      0      0      0      0      0      0      0      0      0   \n",
       "3    3  0.0      0      0      0      0      0      0      0      0      0   \n",
       "4    4  1.0      1      0      0      0      0      0      0      0      0   \n",
       "5    5  0.0      0      1      1      1      1      1      1      1      1   \n",
       "\n",
       "    Lag_10  Lag_11  Lag_12  Num Marathons  Years Since Last  Time of Last  \\\n",
       "Id                                                                          \n",
       "1        0       0       0              0               NaN           NaT   \n",
       "2        0       0       0              0               NaN           NaT   \n",
       "3        0       0       0              0               NaN           NaT   \n",
       "4        0       0       0              1               1.0      03:52:57   \n",
       "5        0       0       0              8               2.0      05:43:14   \n",
       "\n",
       "    Age Last  \n",
       "Id            \n",
       "1        NaN  \n",
       "2        NaN  \n",
       "3        NaN  \n",
       "4       35.0  \n",
       "5       42.0  "
      ]
     },
     "execution_count": 253,
     "metadata": {},
     "output_type": "execute_result"
    }
   ],
   "source": [
    "my_frame.head()"
   ]
  },
  {
   "cell_type": "code",
   "execution_count": 235,
   "metadata": {
    "collapsed": true
   },
   "outputs": [
    {
     "data": {
      "text/html": [
       "<div>\n",
       "<table border=\"1\" class=\"dataframe\">\n",
       "  <thead>\n",
       "    <tr style=\"text-align: right;\">\n",
       "      <th></th>\n",
       "      <th>Id</th>\n",
       "      <th>Sex</th>\n",
       "      <th>Lag_1</th>\n",
       "      <th>Lag_2</th>\n",
       "      <th>Lag_3</th>\n",
       "      <th>Lag_4</th>\n",
       "      <th>Lag_5</th>\n",
       "      <th>Lag_6</th>\n",
       "      <th>Lag_7</th>\n",
       "      <th>Lag_8</th>\n",
       "      <th>Lag_9</th>\n",
       "      <th>Lag_10</th>\n",
       "      <th>Lag_11</th>\n",
       "      <th>Lag_12</th>\n",
       "      <th>Lag_13</th>\n",
       "      <th>Num Marathons</th>\n",
       "      <th>Years Since Last</th>\n",
       "      <th>Time of Last</th>\n",
       "      <th>Age Last</th>\n",
       "      <th>Time_Sex</th>\n",
       "    </tr>\n",
       "    <tr>\n",
       "      <th>Id</th>\n",
       "      <th></th>\n",
       "      <th></th>\n",
       "      <th></th>\n",
       "      <th></th>\n",
       "      <th></th>\n",
       "      <th></th>\n",
       "      <th></th>\n",
       "      <th></th>\n",
       "      <th></th>\n",
       "      <th></th>\n",
       "      <th></th>\n",
       "      <th></th>\n",
       "      <th></th>\n",
       "      <th></th>\n",
       "      <th></th>\n",
       "      <th></th>\n",
       "      <th></th>\n",
       "      <th></th>\n",
       "      <th></th>\n",
       "      <th></th>\n",
       "    </tr>\n",
       "  </thead>\n",
       "  <tbody>\n",
       "    <tr>\n",
       "      <th>1</th>\n",
       "      <td>1</td>\n",
       "      <td>1.0</td>\n",
       "      <td>1</td>\n",
       "      <td>0</td>\n",
       "      <td>0</td>\n",
       "      <td>0</td>\n",
       "      <td>0</td>\n",
       "      <td>0</td>\n",
       "      <td>0</td>\n",
       "      <td>0</td>\n",
       "      <td>0</td>\n",
       "      <td>0</td>\n",
       "      <td>0</td>\n",
       "      <td>0</td>\n",
       "      <td>0</td>\n",
       "      <td>1</td>\n",
       "      <td>1</td>\n",
       "      <td>04:15:00</td>\n",
       "      <td>30</td>\n",
       "      <td>04:15:00</td>\n",
       "    </tr>\n",
       "    <tr>\n",
       "      <th>2</th>\n",
       "      <td>2</td>\n",
       "      <td>1.0</td>\n",
       "      <td>1</td>\n",
       "      <td>0</td>\n",
       "      <td>0</td>\n",
       "      <td>0</td>\n",
       "      <td>0</td>\n",
       "      <td>0</td>\n",
       "      <td>0</td>\n",
       "      <td>0</td>\n",
       "      <td>0</td>\n",
       "      <td>0</td>\n",
       "      <td>0</td>\n",
       "      <td>0</td>\n",
       "      <td>0</td>\n",
       "      <td>1</td>\n",
       "      <td>1</td>\n",
       "      <td>05:05:42</td>\n",
       "      <td>60</td>\n",
       "      <td>05:05:42</td>\n",
       "    </tr>\n",
       "    <tr>\n",
       "      <th>3</th>\n",
       "      <td>3</td>\n",
       "      <td>0.0</td>\n",
       "      <td>1</td>\n",
       "      <td>0</td>\n",
       "      <td>0</td>\n",
       "      <td>0</td>\n",
       "      <td>0</td>\n",
       "      <td>0</td>\n",
       "      <td>0</td>\n",
       "      <td>0</td>\n",
       "      <td>0</td>\n",
       "      <td>0</td>\n",
       "      <td>0</td>\n",
       "      <td>0</td>\n",
       "      <td>0</td>\n",
       "      <td>1</td>\n",
       "      <td>1</td>\n",
       "      <td>05:04:34</td>\n",
       "      <td>30</td>\n",
       "      <td>00:00:00</td>\n",
       "    </tr>\n",
       "    <tr>\n",
       "      <th>4</th>\n",
       "      <td>4</td>\n",
       "      <td>1.0</td>\n",
       "      <td>1</td>\n",
       "      <td>1</td>\n",
       "      <td>0</td>\n",
       "      <td>0</td>\n",
       "      <td>0</td>\n",
       "      <td>0</td>\n",
       "      <td>0</td>\n",
       "      <td>0</td>\n",
       "      <td>0</td>\n",
       "      <td>0</td>\n",
       "      <td>0</td>\n",
       "      <td>0</td>\n",
       "      <td>0</td>\n",
       "      <td>2</td>\n",
       "      <td>1</td>\n",
       "      <td>05:13:30</td>\n",
       "      <td>35</td>\n",
       "      <td>05:13:30</td>\n",
       "    </tr>\n",
       "    <tr>\n",
       "      <th>5</th>\n",
       "      <td>5</td>\n",
       "      <td>0.0</td>\n",
       "      <td>1</td>\n",
       "      <td>0</td>\n",
       "      <td>1</td>\n",
       "      <td>1</td>\n",
       "      <td>1</td>\n",
       "      <td>1</td>\n",
       "      <td>1</td>\n",
       "      <td>1</td>\n",
       "      <td>1</td>\n",
       "      <td>1</td>\n",
       "      <td>0</td>\n",
       "      <td>0</td>\n",
       "      <td>0</td>\n",
       "      <td>9</td>\n",
       "      <td>1</td>\n",
       "      <td>05:28:34</td>\n",
       "      <td>40</td>\n",
       "      <td>00:00:00</td>\n",
       "    </tr>\n",
       "  </tbody>\n",
       "</table>\n",
       "</div>"
      ],
      "text/plain": [
       "    Id  Sex  Lag_1  Lag_2  Lag_3  Lag_4  Lag_5  Lag_6  Lag_7  Lag_8  Lag_9  \\\n",
       "Id                                                                           \n",
       "1    1  1.0      1      0      0      0      0      0      0      0      0   \n",
       "2    2  1.0      1      0      0      0      0      0      0      0      0   \n",
       "3    3  0.0      1      0      0      0      0      0      0      0      0   \n",
       "4    4  1.0      1      1      0      0      0      0      0      0      0   \n",
       "5    5  0.0      1      0      1      1      1      1      1      1      1   \n",
       "\n",
       "    Lag_10  Lag_11  Lag_12  Lag_13  Num Marathons  Years Since Last  \\\n",
       "Id                                                                    \n",
       "1        0       0       0       0              1                 1   \n",
       "2        0       0       0       0              1                 1   \n",
       "3        0       0       0       0              1                 1   \n",
       "4        0       0       0       0              2                 1   \n",
       "5        1       0       0       0              9                 1   \n",
       "\n",
       "    Time of Last  Age Last  Time_Sex  \n",
       "Id                                    \n",
       "1       04:15:00        30  04:15:00  \n",
       "2       05:05:42        60  05:05:42  \n",
       "3       05:04:34        30  00:00:00  \n",
       "4       05:13:30        35  05:13:30  \n",
       "5       05:28:34        40  00:00:00  "
      ]
     },
     "execution_count": 235,
     "metadata": {},
     "output_type": "execute_result"
    }
   ],
   "source": [
    "my_frame[\"Time_Sex\"] = my_frame[\"Sex\"] * my_frame[\"Time of Last\"]\n",
    "my_frame.head()"
   ]
  },
  {
   "cell_type": "code",
   "execution_count": 254,
   "metadata": {
    "collapsed": false
   },
   "outputs": [
    {
     "data": {
      "text/html": [
       "<div>\n",
       "<table border=\"1\" class=\"dataframe\">\n",
       "  <thead>\n",
       "    <tr>\n",
       "      <th></th>\n",
       "      <th colspan=\"13\" halign=\"left\">Rank</th>\n",
       "      <th colspan=\"13\" halign=\"left\">Age Category</th>\n",
       "      <th colspan=\"13\" halign=\"left\">Time</th>\n",
       "    </tr>\n",
       "    <tr>\n",
       "      <th>Year</th>\n",
       "      <th>2003</th>\n",
       "      <th>2004</th>\n",
       "      <th>2005</th>\n",
       "      <th>2006</th>\n",
       "      <th>2007</th>\n",
       "      <th>2008</th>\n",
       "      <th>2009</th>\n",
       "      <th>2010</th>\n",
       "      <th>2011</th>\n",
       "      <th>2012</th>\n",
       "      <th>2014</th>\n",
       "      <th>2015</th>\n",
       "      <th>2016</th>\n",
       "      <th>2003</th>\n",
       "      <th>2004</th>\n",
       "      <th>2005</th>\n",
       "      <th>2006</th>\n",
       "      <th>2007</th>\n",
       "      <th>2008</th>\n",
       "      <th>2009</th>\n",
       "      <th>2010</th>\n",
       "      <th>2011</th>\n",
       "      <th>2012</th>\n",
       "      <th>2014</th>\n",
       "      <th>2015</th>\n",
       "      <th>2016</th>\n",
       "      <th>2003</th>\n",
       "      <th>2004</th>\n",
       "      <th>2005</th>\n",
       "      <th>2006</th>\n",
       "      <th>2007</th>\n",
       "      <th>2008</th>\n",
       "      <th>2009</th>\n",
       "      <th>2010</th>\n",
       "      <th>2011</th>\n",
       "      <th>2012</th>\n",
       "      <th>2014</th>\n",
       "      <th>2015</th>\n",
       "      <th>2016</th>\n",
       "    </tr>\n",
       "    <tr>\n",
       "      <th>Id</th>\n",
       "      <th></th>\n",
       "      <th></th>\n",
       "      <th></th>\n",
       "      <th></th>\n",
       "      <th></th>\n",
       "      <th></th>\n",
       "      <th></th>\n",
       "      <th></th>\n",
       "      <th></th>\n",
       "      <th></th>\n",
       "      <th></th>\n",
       "      <th></th>\n",
       "      <th></th>\n",
       "      <th></th>\n",
       "      <th></th>\n",
       "      <th></th>\n",
       "      <th></th>\n",
       "      <th></th>\n",
       "      <th></th>\n",
       "      <th></th>\n",
       "      <th></th>\n",
       "      <th></th>\n",
       "      <th></th>\n",
       "      <th></th>\n",
       "      <th></th>\n",
       "      <th></th>\n",
       "      <th></th>\n",
       "      <th></th>\n",
       "      <th></th>\n",
       "      <th></th>\n",
       "      <th></th>\n",
       "      <th></th>\n",
       "      <th></th>\n",
       "      <th></th>\n",
       "      <th></th>\n",
       "      <th></th>\n",
       "      <th></th>\n",
       "      <th></th>\n",
       "      <th></th>\n",
       "    </tr>\n",
       "  </thead>\n",
       "  <tbody>\n",
       "    <tr>\n",
       "      <th>1</th>\n",
       "      <td>None</td>\n",
       "      <td>None</td>\n",
       "      <td>None</td>\n",
       "      <td>None</td>\n",
       "      <td>None</td>\n",
       "      <td>None</td>\n",
       "      <td>None</td>\n",
       "      <td>None</td>\n",
       "      <td>None</td>\n",
       "      <td>None</td>\n",
       "      <td>None</td>\n",
       "      <td>None</td>\n",
       "      <td>1263</td>\n",
       "      <td>None</td>\n",
       "      <td>None</td>\n",
       "      <td>None</td>\n",
       "      <td>None</td>\n",
       "      <td>None</td>\n",
       "      <td>None</td>\n",
       "      <td>None</td>\n",
       "      <td>None</td>\n",
       "      <td>None</td>\n",
       "      <td>None</td>\n",
       "      <td>None</td>\n",
       "      <td>None</td>\n",
       "      <td>30</td>\n",
       "      <td>None</td>\n",
       "      <td>None</td>\n",
       "      <td>None</td>\n",
       "      <td>None</td>\n",
       "      <td>None</td>\n",
       "      <td>None</td>\n",
       "      <td>None</td>\n",
       "      <td>None</td>\n",
       "      <td>None</td>\n",
       "      <td>None</td>\n",
       "      <td>None</td>\n",
       "      <td>None</td>\n",
       "      <td>0 days 04:15:00</td>\n",
       "    </tr>\n",
       "    <tr>\n",
       "      <th>2</th>\n",
       "      <td>None</td>\n",
       "      <td>None</td>\n",
       "      <td>None</td>\n",
       "      <td>None</td>\n",
       "      <td>None</td>\n",
       "      <td>None</td>\n",
       "      <td>None</td>\n",
       "      <td>None</td>\n",
       "      <td>None</td>\n",
       "      <td>None</td>\n",
       "      <td>None</td>\n",
       "      <td>None</td>\n",
       "      <td>2289</td>\n",
       "      <td>None</td>\n",
       "      <td>None</td>\n",
       "      <td>None</td>\n",
       "      <td>None</td>\n",
       "      <td>None</td>\n",
       "      <td>None</td>\n",
       "      <td>None</td>\n",
       "      <td>None</td>\n",
       "      <td>None</td>\n",
       "      <td>None</td>\n",
       "      <td>None</td>\n",
       "      <td>None</td>\n",
       "      <td>60</td>\n",
       "      <td>None</td>\n",
       "      <td>None</td>\n",
       "      <td>None</td>\n",
       "      <td>None</td>\n",
       "      <td>None</td>\n",
       "      <td>None</td>\n",
       "      <td>None</td>\n",
       "      <td>None</td>\n",
       "      <td>None</td>\n",
       "      <td>None</td>\n",
       "      <td>None</td>\n",
       "      <td>None</td>\n",
       "      <td>0 days 05:05:42</td>\n",
       "    </tr>\n",
       "    <tr>\n",
       "      <th>3</th>\n",
       "      <td>None</td>\n",
       "      <td>None</td>\n",
       "      <td>None</td>\n",
       "      <td>None</td>\n",
       "      <td>None</td>\n",
       "      <td>None</td>\n",
       "      <td>None</td>\n",
       "      <td>None</td>\n",
       "      <td>None</td>\n",
       "      <td>None</td>\n",
       "      <td>None</td>\n",
       "      <td>None</td>\n",
       "      <td>2276</td>\n",
       "      <td>None</td>\n",
       "      <td>None</td>\n",
       "      <td>None</td>\n",
       "      <td>None</td>\n",
       "      <td>None</td>\n",
       "      <td>None</td>\n",
       "      <td>None</td>\n",
       "      <td>None</td>\n",
       "      <td>None</td>\n",
       "      <td>None</td>\n",
       "      <td>None</td>\n",
       "      <td>None</td>\n",
       "      <td>30</td>\n",
       "      <td>None</td>\n",
       "      <td>None</td>\n",
       "      <td>None</td>\n",
       "      <td>None</td>\n",
       "      <td>None</td>\n",
       "      <td>None</td>\n",
       "      <td>None</td>\n",
       "      <td>None</td>\n",
       "      <td>None</td>\n",
       "      <td>None</td>\n",
       "      <td>None</td>\n",
       "      <td>None</td>\n",
       "      <td>0 days 05:04:34</td>\n",
       "    </tr>\n",
       "    <tr>\n",
       "      <th>4</th>\n",
       "      <td>None</td>\n",
       "      <td>None</td>\n",
       "      <td>None</td>\n",
       "      <td>None</td>\n",
       "      <td>None</td>\n",
       "      <td>None</td>\n",
       "      <td>None</td>\n",
       "      <td>None</td>\n",
       "      <td>None</td>\n",
       "      <td>None</td>\n",
       "      <td>None</td>\n",
       "      <td>670</td>\n",
       "      <td>2390</td>\n",
       "      <td>None</td>\n",
       "      <td>None</td>\n",
       "      <td>None</td>\n",
       "      <td>None</td>\n",
       "      <td>None</td>\n",
       "      <td>None</td>\n",
       "      <td>None</td>\n",
       "      <td>None</td>\n",
       "      <td>None</td>\n",
       "      <td>None</td>\n",
       "      <td>None</td>\n",
       "      <td>35</td>\n",
       "      <td>35</td>\n",
       "      <td>None</td>\n",
       "      <td>None</td>\n",
       "      <td>None</td>\n",
       "      <td>None</td>\n",
       "      <td>None</td>\n",
       "      <td>None</td>\n",
       "      <td>None</td>\n",
       "      <td>None</td>\n",
       "      <td>None</td>\n",
       "      <td>None</td>\n",
       "      <td>None</td>\n",
       "      <td>0 days 03:52:57</td>\n",
       "      <td>0 days 05:13:30</td>\n",
       "    </tr>\n",
       "    <tr>\n",
       "      <th>5</th>\n",
       "      <td>None</td>\n",
       "      <td>None</td>\n",
       "      <td>None</td>\n",
       "      <td>2013</td>\n",
       "      <td>2002</td>\n",
       "      <td>2343</td>\n",
       "      <td>2415</td>\n",
       "      <td>2455</td>\n",
       "      <td>3140</td>\n",
       "      <td>3329</td>\n",
       "      <td>3086</td>\n",
       "      <td>None</td>\n",
       "      <td>2608</td>\n",
       "      <td>None</td>\n",
       "      <td>None</td>\n",
       "      <td>None</td>\n",
       "      <td>34</td>\n",
       "      <td>35</td>\n",
       "      <td>36</td>\n",
       "      <td>37</td>\n",
       "      <td>38</td>\n",
       "      <td>39</td>\n",
       "      <td>40</td>\n",
       "      <td>42</td>\n",
       "      <td>None</td>\n",
       "      <td>40</td>\n",
       "      <td>None</td>\n",
       "      <td>None</td>\n",
       "      <td>None</td>\n",
       "      <td>0 days 05:29:32</td>\n",
       "      <td>0 days 05:26:12</td>\n",
       "      <td>0 days 05:28:49</td>\n",
       "      <td>0 days 05:27:27</td>\n",
       "      <td>0 days 05:29:04</td>\n",
       "      <td>0 days 05:28:24</td>\n",
       "      <td>0 days 05:28:35</td>\n",
       "      <td>0 days 05:43:14</td>\n",
       "      <td>None</td>\n",
       "      <td>0 days 05:28:34</td>\n",
       "    </tr>\n",
       "  </tbody>\n",
       "</table>\n",
       "</div>"
      ],
      "text/plain": [
       "      Rank                                                                    \\\n",
       "Year  2003  2004  2005  2006  2007  2008  2009  2010  2011  2012  2014  2015   \n",
       "Id                                                                             \n",
       "1     None  None  None  None  None  None  None  None  None  None  None  None   \n",
       "2     None  None  None  None  None  None  None  None  None  None  None  None   \n",
       "3     None  None  None  None  None  None  None  None  None  None  None  None   \n",
       "4     None  None  None  None  None  None  None  None  None  None  None   670   \n",
       "5     None  None  None  2013  2002  2343  2415  2455  3140  3329  3086  None   \n",
       "\n",
       "           Age Category                                                        \\\n",
       "Year  2016         2003  2004  2005  2006  2007  2008  2009  2010  2011  2012   \n",
       "Id                                                                              \n",
       "1     1263         None  None  None  None  None  None  None  None  None  None   \n",
       "2     2289         None  None  None  None  None  None  None  None  None  None   \n",
       "3     2276         None  None  None  None  None  None  None  None  None  None   \n",
       "4     2390         None  None  None  None  None  None  None  None  None  None   \n",
       "5     2608         None  None  None    34    35    36    37    38    39    40   \n",
       "\n",
       "                       Time                                                \\\n",
       "Year  2014  2015 2016  2003  2004  2005             2006             2007   \n",
       "Id                                                                          \n",
       "1     None  None   30  None  None  None             None             None   \n",
       "2     None  None   60  None  None  None             None             None   \n",
       "3     None  None   30  None  None  None             None             None   \n",
       "4     None    35   35  None  None  None             None             None   \n",
       "5       42  None   40  None  None  None  0 days 05:29:32  0 days 05:26:12   \n",
       "\n",
       "                                                                          \\\n",
       "Year             2008             2009             2010             2011   \n",
       "Id                                                                         \n",
       "1                None             None             None             None   \n",
       "2                None             None             None             None   \n",
       "3                None             None             None             None   \n",
       "4                None             None             None             None   \n",
       "5     0 days 05:28:49  0 days 05:27:27  0 days 05:29:04  0 days 05:28:24   \n",
       "\n",
       "                                                                          \n",
       "Year             2012             2014             2015             2016  \n",
       "Id                                                                        \n",
       "1                None             None             None  0 days 04:15:00  \n",
       "2                None             None             None  0 days 05:05:42  \n",
       "3                None             None             None  0 days 05:04:34  \n",
       "4                None             None  0 days 03:52:57  0 days 05:13:30  \n",
       "5     0 days 05:28:35  0 days 05:43:14             None  0 days 05:28:34  "
      ]
     },
     "execution_count": 254,
     "metadata": {},
     "output_type": "execute_result"
    }
   ],
   "source": [
    "#Verify this data against the data in the pivot table\n",
    "data_pivot.head()"
   ]
  },
  {
   "cell_type": "code",
   "execution_count": 228,
   "metadata": {
    "collapsed": false
   },
   "outputs": [
    {
     "data": {
      "text/plain": [
       "array([[1, 1.0, 1, ..., 1, Timedelta('0 days 04:15:00'), 30],\n",
       "       [2, 1.0, 1, ..., 1, Timedelta('0 days 05:05:42'), 60],\n",
       "       [3, 0.0, 1, ..., 1, Timedelta('0 days 05:04:34'), 30],\n",
       "       ..., \n",
       "       [30415, 0.0, 0, ..., 2, Timedelta('0 days 03:44:54'), 45],\n",
       "       [30416, 1.0, 0, ..., 2, Timedelta('0 days 03:51:36'), 35],\n",
       "       [30417, 1.0, 0, ..., 2, Timedelta('0 days 02:50:26'), 40]], dtype=object)"
      ]
     },
     "execution_count": 228,
     "metadata": {},
     "output_type": "execute_result"
    }
   ],
   "source": [
    "my_frame.as_matrix()\n",
    "#As you can see, we can represent this data as a matrix as well:"
   ]
  },
  {
   "cell_type": "markdown",
   "metadata": {},
   "source": [
    "## Now: Logistic Regression "
   ]
  },
  {
   "cell_type": "markdown",
   "metadata": {},
   "source": [
    "As logistic regression is a supervised learning model, we need to train the model using a y-vector of instances of correct categorization that we have. This is acomplished by using 2016 as our  categorization year, and using as our features set the data on participation in races from 2003 to 2015. In this case, we exclude all participants who do not have a race between 2003 and 2015 (those who only race in 2016). "
   ]
  },
  {
   "cell_type": "code",
   "execution_count": 290,
   "metadata": {
    "collapsed": false
   },
   "outputs": [
    {
     "name": "stdout",
     "output_type": "stream",
     "text": [
      "64.9304358959198\n"
     ]
    }
   ],
   "source": [
    "#Create our dataframe, looking back from 2016\n",
    "train_df = create_frame(2015)"
   ]
  },
  {
   "cell_type": "code",
   "execution_count": 344,
   "metadata": {
    "collapsed": false
   },
   "outputs": [
    {
     "data": {
      "text/plain": [
       "array([1, 1, 1, ..., 0, 0, 0])"
      ]
     },
     "execution_count": 344,
     "metadata": {},
     "output_type": "execute_result"
    }
   ],
   "source": [
    "#The other component that we need is our y-vector, which is the participation boolean for 2016\n",
    "y_vect = pd.isnull(data_pivot[\"Rank\"]).iloc[:,(12)].apply(lambda x: 0 if x else 1)\n",
    "y_vect = y_vect.loc[train_df.index]\n",
    "y_vect = y_vect.as_matrix()\n",
    "y_vect"
   ]
  },
  {
   "cell_type": "code",
   "execution_count": 291,
   "metadata": {
    "collapsed": false
   },
   "outputs": [
    {
     "data": {
      "text/html": [
       "<div>\n",
       "<table border=\"1\" class=\"dataframe\">\n",
       "  <thead>\n",
       "    <tr style=\"text-align: right;\">\n",
       "      <th></th>\n",
       "      <th>Id</th>\n",
       "      <th>Sex</th>\n",
       "      <th>Lag_1</th>\n",
       "      <th>Lag_2</th>\n",
       "      <th>Lag_3</th>\n",
       "      <th>Lag_4</th>\n",
       "      <th>Lag_5</th>\n",
       "      <th>Lag_6</th>\n",
       "      <th>Lag_7</th>\n",
       "      <th>Lag_8</th>\n",
       "      <th>Lag_9</th>\n",
       "      <th>Lag_10</th>\n",
       "      <th>Lag_11</th>\n",
       "      <th>Lag_12</th>\n",
       "      <th>Num Marathons</th>\n",
       "      <th>Years Since Last</th>\n",
       "      <th>Time of Last</th>\n",
       "      <th>Age Last</th>\n",
       "    </tr>\n",
       "    <tr>\n",
       "      <th>Id</th>\n",
       "      <th></th>\n",
       "      <th></th>\n",
       "      <th></th>\n",
       "      <th></th>\n",
       "      <th></th>\n",
       "      <th></th>\n",
       "      <th></th>\n",
       "      <th></th>\n",
       "      <th></th>\n",
       "      <th></th>\n",
       "      <th></th>\n",
       "      <th></th>\n",
       "      <th></th>\n",
       "      <th></th>\n",
       "      <th></th>\n",
       "      <th></th>\n",
       "      <th></th>\n",
       "      <th></th>\n",
       "    </tr>\n",
       "  </thead>\n",
       "  <tbody>\n",
       "    <tr>\n",
       "      <th>4</th>\n",
       "      <td>4</td>\n",
       "      <td>1.0</td>\n",
       "      <td>1</td>\n",
       "      <td>0</td>\n",
       "      <td>0</td>\n",
       "      <td>0</td>\n",
       "      <td>0</td>\n",
       "      <td>0</td>\n",
       "      <td>0</td>\n",
       "      <td>0</td>\n",
       "      <td>0</td>\n",
       "      <td>0</td>\n",
       "      <td>0</td>\n",
       "      <td>0</td>\n",
       "      <td>1</td>\n",
       "      <td>1.0</td>\n",
       "      <td>0.270143</td>\n",
       "      <td>35.0</td>\n",
       "    </tr>\n",
       "    <tr>\n",
       "      <th>5</th>\n",
       "      <td>5</td>\n",
       "      <td>0.0</td>\n",
       "      <td>0</td>\n",
       "      <td>1</td>\n",
       "      <td>1</td>\n",
       "      <td>1</td>\n",
       "      <td>1</td>\n",
       "      <td>1</td>\n",
       "      <td>1</td>\n",
       "      <td>1</td>\n",
       "      <td>1</td>\n",
       "      <td>0</td>\n",
       "      <td>0</td>\n",
       "      <td>0</td>\n",
       "      <td>8</td>\n",
       "      <td>2.0</td>\n",
       "      <td>0.566338</td>\n",
       "      <td>42.0</td>\n",
       "    </tr>\n",
       "    <tr>\n",
       "      <th>7</th>\n",
       "      <td>7</td>\n",
       "      <td>1.0</td>\n",
       "      <td>0</td>\n",
       "      <td>1</td>\n",
       "      <td>0</td>\n",
       "      <td>0</td>\n",
       "      <td>0</td>\n",
       "      <td>0</td>\n",
       "      <td>0</td>\n",
       "      <td>0</td>\n",
       "      <td>0</td>\n",
       "      <td>0</td>\n",
       "      <td>0</td>\n",
       "      <td>0</td>\n",
       "      <td>1</td>\n",
       "      <td>2.0</td>\n",
       "      <td>0.301746</td>\n",
       "      <td>42.0</td>\n",
       "    </tr>\n",
       "    <tr>\n",
       "      <th>9</th>\n",
       "      <td>9</td>\n",
       "      <td>1.0</td>\n",
       "      <td>1</td>\n",
       "      <td>1</td>\n",
       "      <td>1</td>\n",
       "      <td>0</td>\n",
       "      <td>0</td>\n",
       "      <td>0</td>\n",
       "      <td>0</td>\n",
       "      <td>0</td>\n",
       "      <td>0</td>\n",
       "      <td>0</td>\n",
       "      <td>0</td>\n",
       "      <td>0</td>\n",
       "      <td>3</td>\n",
       "      <td>1.0</td>\n",
       "      <td>0.343062</td>\n",
       "      <td>50.0</td>\n",
       "    </tr>\n",
       "    <tr>\n",
       "      <th>11</th>\n",
       "      <td>11</td>\n",
       "      <td>0.0</td>\n",
       "      <td>1</td>\n",
       "      <td>1</td>\n",
       "      <td>0</td>\n",
       "      <td>0</td>\n",
       "      <td>0</td>\n",
       "      <td>0</td>\n",
       "      <td>0</td>\n",
       "      <td>0</td>\n",
       "      <td>0</td>\n",
       "      <td>0</td>\n",
       "      <td>0</td>\n",
       "      <td>0</td>\n",
       "      <td>2</td>\n",
       "      <td>1.0</td>\n",
       "      <td>0.525112</td>\n",
       "      <td>40.0</td>\n",
       "    </tr>\n",
       "  </tbody>\n",
       "</table>\n",
       "</div>"
      ],
      "text/plain": [
       "    Id  Sex  Lag_1  Lag_2  Lag_3  Lag_4  Lag_5  Lag_6  Lag_7  Lag_8  Lag_9  \\\n",
       "Id                                                                           \n",
       "4    4  1.0      1      0      0      0      0      0      0      0      0   \n",
       "5    5  0.0      0      1      1      1      1      1      1      1      1   \n",
       "7    7  1.0      0      1      0      0      0      0      0      0      0   \n",
       "9    9  1.0      1      1      1      0      0      0      0      0      0   \n",
       "11  11  0.0      1      1      0      0      0      0      0      0      0   \n",
       "\n",
       "    Lag_10  Lag_11  Lag_12  Num Marathons  Years Since Last  Time of Last  \\\n",
       "Id                                                                          \n",
       "4        0       0       0              1               1.0      0.270143   \n",
       "5        0       0       0              8               2.0      0.566338   \n",
       "7        0       0       0              1               2.0      0.301746   \n",
       "9        0       0       0              3               1.0      0.343062   \n",
       "11       0       0       0              2               1.0      0.525112   \n",
       "\n",
       "    Age Last  \n",
       "Id            \n",
       "4       35.0  \n",
       "5       42.0  \n",
       "7       42.0  \n",
       "9       50.0  \n",
       "11      40.0  "
      ]
     },
     "execution_count": 291,
     "metadata": {},
     "output_type": "execute_result"
    }
   ],
   "source": [
    "#remove entries where there are no races\n",
    "train_df = train_df[train_df[\"Num Marathons\"] > 0 ]\n",
    "train_df.head()\n",
    "#We lost about 2,000 entries, but still have a large number: > 25,000"
   ]
  },
  {
   "cell_type": "code",
   "execution_count": 302,
   "metadata": {
    "collapsed": false
   },
   "outputs": [
    {
     "data": {
      "image/png": "[encoded data removed]",
      "text/plain": [
       "<matplotlib.figure.Figure at 0x1236bfc88>"
      ]
     },
     "metadata": {},
     "output_type": "display_data"
    }
   ],
   "source": [
    "plt.hist(train_df[\"Time of Last\"], bins = 100)\n",
    "plt.show()"
   ]
  },
  {
   "cell_type": "code",
   "execution_count": 304,
   "metadata": {
    "collapsed": true
   },
   "outputs": [],
   "source": [
    "train_array = train_df.as_matrix()"
   ]
  },
  {
   "cell_type": "code",
   "execution_count": 469,
   "metadata": {
    "collapsed": false
   },
   "outputs": [
    {
     "data": {
      "text/plain": [
       "array([ 0.,  0.,  0.,  0.,  0.,  0.,  0.,  0.,  0.,  0.,  0.,  0.,  0.,\n",
       "        0.,  0.,  0.,  0.])"
      ]
     },
     "execution_count": 469,
     "metadata": {},
     "output_type": "execute_result"
    }
   ],
   "source": [
    "#We now have 17 features, so we can initialize our weights vector to the zero vector \n",
    "w_vector = np.zeros(17)\n",
    "w_vector"
   ]
  },
  {
   "cell_type": "code",
   "execution_count": 514,
   "metadata": {
    "collapsed": false
   },
   "outputs": [
    {
     "data": {
      "text/plain": [
       "17465.922655749531"
      ]
     },
     "execution_count": 514,
     "metadata": {},
     "output_type": "execute_result"
    }
   ],
   "source": [
    "error_fxn(w_vect)"
   ]
  },
  {
   "cell_type": "code",
   "execution_count": 518,
   "metadata": {
    "collapsed": false
   },
   "outputs": [
    {
     "data": {
      "text/plain": [
       "36294.597537632086"
      ]
     },
     "execution_count": 518,
     "metadata": {},
     "output_type": "execute_result"
    }
   ],
   "source": [
    "error_fxn(np.array([-1,-1,-1,-1,-1,-1,-1,-1,-1,-1,-1,-1,-1,-1,-1,-1,-1]))"
   ]
  },
  {
   "cell_type": "code",
   "execution_count": 490,
   "metadata": {
    "collapsed": false
   },
   "outputs": [
    {
     "data": {
      "text/plain": [
       "array([  -7406.      ,    -923.      ,   -1398.5     ,   -1705.5     ,\n",
       "         -1591.      ,   -1294.5     ,   -1272.5     ,   -1219.      ,\n",
       "         -1182.      ,   -1162.      ,    -825.      ,    -842.      ,\n",
       "          -696.5     ,  -14111.5     ,  -75985.5     ,   -4523.135094,\n",
       "       -448812.5     ])"
      ]
     },
     "execution_count": 490,
     "metadata": {},
     "output_type": "execute_result"
    }
   ],
   "source": [
    "grad_fxn(w_vect)"
   ]
  },
  {
   "cell_type": "code",
   "execution_count": 502,
   "metadata": {
    "collapsed": false
   },
   "outputs": [
    {
     "data": {
      "text/plain": [
       "-16952.993742135171"
      ]
     },
     "execution_count": 502,
     "metadata": {},
     "output_type": "execute_result"
    }
   ],
   "source": [
    "np.log(1 - sigmoid(np.dot(train_array, w_vect))).dot((1-y_vect))"
   ]
  },
  {
   "cell_type": "code",
   "execution_count": 519,
   "metadata": {
    "collapsed": false
   },
   "outputs": [],
   "source": [
    "def sigmoid(x):\n",
    "    return 1 / (1 + np.exp(-1 * x))\n",
    "\n",
    "def error_fxn(w_vect):\n",
    "    #This function computes the error function, given a weights vector w_vect\n",
    "    #This allow us to call this function repeatedly as we optimize the w_vect through gradient descent\n",
    "    y0 = np.log(sigmoid(train_array.dot(w_vect))).dot(y_vect)\n",
    "    y1 = np.log(1 - sigmoid(train_array.dot(w_vect))).dot(1-y_vect)\n",
    "    \n",
    "    return -(y0 + y1)\n",
    "\n",
    "def grad_fxn(w_vect): \n",
    "    #This function computes the gradient function, given the weights vector w_vect\n",
    "    return np.dot((y_vect - sigmoid(np.dot(train_array, w_vect))),train_array)\n",
    "\n",
    "def grad_descent(w_vect, step, tol):\n",
    "    #performs the gradient descent\n",
    "    delta = error_fxn(w_vect)\n",
    "    i = 0\n",
    "    \n",
    "    while(delta > tol): \n",
    "        w_old = w_vect\n",
    "        w_vect = w_old - step * grad_fxn(w_old)\n",
    "        delt = error_fxn(w_vect) - error_fxn(w_old)\n",
    "        i = i + 1\n",
    "        if(i > 1000):\n",
    "            break\n",
    "    print(i)\n",
    "    return w_vect"
   ]
  },
  {
   "cell_type": "code",
   "execution_count": 509,
   "metadata": {
    "collapsed": false
   },
   "outputs": [
    {
     "name": "stdout",
     "output_type": "stream",
     "text": [
      "1001\n"
     ]
    },
    {
     "data": {
      "text/plain": [
       "nan"
      ]
     },
     "execution_count": 509,
     "metadata": {},
     "output_type": "execute_result"
    }
   ],
   "source": [
    "my_w = grad_descent(np.zeros(17), .01, 0.001)\n",
    "error_fxn(my_w)"
   ]
  },
  {
   "cell_type": "code",
   "execution_count": 510,
   "metadata": {
    "collapsed": false
   },
   "outputs": [
    {
     "data": {
      "text/plain": [
       "array([  9.49176604e+01,   8.77718328e+02,   9.26321768e+01,\n",
       "         3.77340268e+02,   1.28396198e+02,   1.25729515e+02,\n",
       "         4.15650536e+01,   1.16072148e+02,   5.37146718e+01,\n",
       "         4.63750309e+01,   3.98382350e+01,  -4.37131654e+01,\n",
       "        -6.78895724e-02,   1.85560057e+03,  -8.52606839e+02,\n",
       "        -2.09938762e+02,  -1.22175579e+03])"
      ]
     },
     "execution_count": 510,
     "metadata": {},
     "output_type": "execute_result"
    }
   ],
   "source": [
    "my_w"
   ]
  },
  {
   "cell_type": "code",
   "execution_count": 511,
   "metadata": {
    "collapsed": false
   },
   "outputs": [
    {
     "data": {
      "text/plain": [
       "array([  -7406.      ,    -923.      ,   -1398.5     ,   -1705.5     ,\n",
       "         -1591.      ,   -1294.5     ,   -1272.5     ,   -1219.      ,\n",
       "         -1182.      ,   -1162.      ,    -825.      ,    -842.      ,\n",
       "          -696.5     ,  -14111.5     ,  -75985.5     ,   -4523.135094,\n",
       "       -448812.5     ])"
      ]
     },
     "execution_count": 511,
     "metadata": {},
     "output_type": "execute_result"
    }
   ],
   "source": [
    "grad_fxn(w_vect)"
   ]
  },
  {
   "cell_type": "code",
   "execution_count": 512,
   "metadata": {
    "collapsed": false
   },
   "outputs": [
    {
     "data": {
      "text/plain": [
       "17465.922655749531"
      ]
     },
     "execution_count": 512,
     "metadata": {},
     "output_type": "execute_result"
    }
   ],
   "source": [
    "error_fxn(w_vect)"
   ]
  },
  {
   "cell_type": "code",
   "execution_count": 455,
   "metadata": {
    "collapsed": false
   },
   "outputs": [
    {
     "data": {
      "text/plain": [
       "array([ 0.5,  0.5,  0.5,  0.5,  0.5,  0.5,  0.5,  0.5,  0.5,  0.5,  0.5,\n",
       "        0.5,  0.5,  0.5,  0.5,  0.5,  0.5])"
      ]
     },
     "execution_count": 455,
     "metadata": {},
     "output_type": "execute_result"
    }
   ],
   "source": [
    "sigmoid(w_vect)"
   ]
  },
  {
   "cell_type": "code",
   "execution_count": 424,
   "metadata": {
    "collapsed": false
   },
   "outputs": [
    {
     "data": {
      "text/plain": [
       "array([  -7406.      ,    -923.      ,   -1398.5     ,   -1705.5     ,\n",
       "         -1591.      ,   -1294.5     ,   -1272.5     ,   -1219.      ,\n",
       "         -1182.      ,   -1162.      ,    -825.      ,    -842.      ,\n",
       "          -696.5     ,  -14111.5     ,  -75985.5     ,   -4523.135094,\n",
       "       -448812.5     ])"
      ]
     },
     "execution_count": 424,
     "metadata": {},
     "output_type": "execute_result"
    }
   ],
   "source": [
    "np.dot((y_vect - sigmoid(np.zeros(len(y_vect)))), train_array)"
   ]
  },
  {
   "cell_type": "code",
   "execution_count": 456,
   "metadata": {
    "collapsed": false
   },
   "outputs": [
    {
     "data": {
      "text/plain": [
       "0.67279124304052484"
      ]
     },
     "execution_count": 456,
     "metadata": {},
     "output_type": "execute_result"
    }
   ],
   "source": [
    "error_fxn(my_w)"
   ]
  },
  {
   "cell_type": "code",
   "execution_count": null,
   "metadata": {
    "collapsed": true
   },
   "outputs": [],
   "source": []
  }
 ],
 "metadata": {
  "anaconda-cloud": {},
  "kernelspec": {
   "display_name": "Python [Root]",
   "language": "python",
   "name": "Python [Root]"
  },
  "language_info": {
   "codemirror_mode": {
    "name": "ipython",
    "version": 3
   },
   "file_extension": ".py",
   "mimetype": "text/x-python",
   "name": "python",
   "nbconvert_exporter": "python",
   "pygments_lexer": "ipython3",
   "version": "3.5.2"
  }
 },
 "nbformat": 4,
 "nbformat_minor": 0
}
